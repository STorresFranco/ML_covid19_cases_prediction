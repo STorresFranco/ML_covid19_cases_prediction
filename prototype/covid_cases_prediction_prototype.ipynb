{
 "cells": [
  {
   "cell_type": "markdown",
   "id": "efc2d914",
   "metadata": {},
   "source": [
    "# Project description\n",
    "\n",
    "Hello everyone!\n",
    "\n",
    "This project aims to:\n",
    "\n",
    "* Develop a predictive model for forecasting COVID-19 cases in a specific region, based on historical data aggregated over 7-day windows.\n",
    "*  Explore potential relationships between weather patterns and COVID-19 case trends during those timeframes.\n",
    "* The analysis focuses on England's COVID-19 cases, with weather data sourced from an England location.\n",
    "\n",
    "How am I doing this?\n",
    "\n",
    "*  Automatically retrieving up-to-date COVID-19 and weather data from public APIs, with programmatic updates at each execution.\n",
    "*  Performing exploratory data analysis and feature engineering to uncover relevant patterns and construct meaningful inputs.\n",
    "*  Comparing XGBoost and LightGBM models across various hyperparameter settings.\n",
    "*  Fine-tuning hyperparameters using walk-forward validation, optimizing for the $R^2$ score across a full year's worth of data.\n",
    "*  Validating model performance with a target $R^2 > 0.7$, aiming for strong generalization outside of peak-case volatility.\n",
    "\n",
    "Feel free to reach out if you'd like to discuss this or any of my other GitHub projects!\n",
    "\n",
    "🔗 LinkedIn – Sebastián Torres Franco\n",
    "\n",
    "https://www.linkedin.com/in/sebastian-torres-franco-3b3000115/"
   ]
  },
  {
   "cell_type": "markdown",
   "id": "6178c8d8",
   "metadata": {},
   "source": [
    "# Data references and credits\n",
    "\n",
    "\n",
    "All credits regarding COVID-19 data used in this project to:\n",
    "\n",
    "* https://ukhsa-dashboard.data.gov.uk/\n",
    "* https://api.ukhsa-dashboard.data.gov.uk\n",
    "\n",
    "All creadits regarding weather data to:\n",
    "\n",
    "* Zippenfenig, P. (2023). Open-Meteo.com Weather API [Computer software]. Zenodo. https://doi.org/10.5281/ZENODO.7970649\n",
    "\n",
    "* Hersbach, H., Bell, B., Berrisford, P., Biavati, G., Horányi, A., Muñoz Sabater, J., Nicolas, J., Peubey, C., Radu, R., Rozum, I., Schepers, D., Simmons, A., Soci, C., Dee, D., Thépaut, J-N. (2023). ERA5 hourly data on single levels from 1940 to present [Data set]. ECMWF. https://doi.org/10.24381/cds.adbb2d47\n",
    "\n",
    "* Muñoz Sabater, J. (2019). ERA5-Land hourly data from 2001 to present [Data set]. ECMWF. https://doi.org/10.24381/CDS.E2161BAC\n",
    "\n",
    "* Schimanke S., Ridal M., Le Moigne P., Berggren L., Undén P., Randriamampianina R., Andrea U., Bazile E., Bertelsen A., Brousseau P., Dahlgren P., Edvinsson L., El Said A., Glinton M., Hopsch S., Isaksson L., Mladek R., Olsson E., Verrelle A., Wang Z.Q. (2021). CERRA sub-daily regional reanalysis data for Europe on single levels from 1984 to present [Data set]. ECMWF. https://doi.org/10.24381/CDS.622A565A"
   ]
  },
  {
   "cell_type": "markdown",
   "id": "97a00b8a",
   "metadata": {},
   "source": [
    "# Library and importation"
   ]
  },
  {
   "cell_type": "code",
   "execution_count": 2,
   "id": "87dd65c6",
   "metadata": {},
   "outputs": [
    {
     "name": "stderr",
     "output_type": "stream",
     "text": [
      "c:\\Users\\ingst\\AppData\\Local\\Programs\\Python\\Python313\\Lib\\site-packages\\tqdm\\auto.py:21: TqdmWarning: IProgress not found. Please update jupyter and ipywidgets. See https://ipywidgets.readthedocs.io/en/stable/user_install.html\n",
      "  from .autonotebook import tqdm as notebook_tqdm\n"
     ]
    }
   ],
   "source": [
    "#********************* Library importation\n",
    "import pandas as pd\n",
    "import numpy as np\n",
    "import matplotlib.pyplot as plt\n",
    "import seaborn as sns\n",
    "import requests\n",
    "import datetime \n",
    "from datetime import date,timedelta\n",
    "import statsmodels\n",
    "from statsmodels.tsa.stattools import adfuller,ccf,coint\n",
    "from statsmodels.tsa.statespace.sarimax import SARIMAX\n",
    "import matplotlib.gridspec as gridspec\n",
    "import xgboost\n",
    "from xgboost import XGBRegressor\n",
    "import scipy\n",
    "from scipy.fft import fft\n",
    "from sklearn.preprocessing import MinMaxScaler\n",
    "from sklearn.metrics import root_mean_squared_error,r2_score\n",
    "import lightgbm\n",
    "from lightgbm import LGBMRegressor\n",
    "import optuna\n",
    "import joblib"
   ]
  },
  {
   "cell_type": "markdown",
   "id": "706b59c7",
   "metadata": {},
   "source": [
    "# Data importation\n",
    "\n",
    "A snapshot data is taken from previously downloaded files from referenced APIs, and the updated using automated requests to get the most recent information on both COVID-19 positive cases and Weather conditions"
   ]
  },
  {
   "cell_type": "markdown",
   "id": "ed7e7be2",
   "metadata": {},
   "source": [
    "## Historical Positive Cases"
   ]
  },
  {
   "cell_type": "code",
   "execution_count": 3,
   "id": "cf8febec",
   "metadata": {},
   "outputs": [
    {
     "name": "stdout",
     "output_type": "stream",
     "text": [
      "<class 'pandas.core.frame.DataFrame'>\n",
      "RangeIndex: 388 entries, 0 to 387\n",
      "Data columns (total 2 columns):\n",
      " #   Column        Non-Null Count  Dtype  \n",
      "---  ------        --------------  -----  \n",
      " 0   date          388 non-null    object \n",
      " 1   metric_value  388 non-null    float64\n",
      "dtypes: float64(1), object(1)\n",
      "memory usage: 6.2+ KB\n",
      "None\n",
      "   Year  Month  Day       Date  Cases\n",
      "0  2024      4    1 2024-04-01  183.0\n",
      "1  2024      4    2 2024-04-02  252.0\n",
      "2  2024      4    3 2024-04-03  207.0\n",
      "3  2024      4    4 2024-04-04  200.0\n",
      "4  2024      4    5 2024-04-05  203.0\n"
     ]
    }
   ],
   "source": [
    "raw_covid_data=pd.read_csv(\"ukhsa-chart-download.csv\")\n",
    "raw_covid_data=raw_covid_data[[\"date\",\"metric_value\"]]\n",
    "print(raw_covid_data.info()) #Checking data types\n",
    "\n",
    "#*************** Creating and formating the dataframe of historical data \n",
    "h_covid_data=pd.DataFrame({\n",
    "    \"Year\":[],\n",
    "    \"Month\":[],\n",
    "    \"Day\":[],\n",
    "    \"Date\":[],\n",
    "    \"Cases\":[],\n",
    "})\n",
    "\n",
    "h_covid_data[\"Date\"]=pd.to_datetime(raw_covid_data[\"date\"],format=\"ISO8601\")\n",
    "h_covid_data[\"Month\"]=h_covid_data[\"Date\"].dt.month\n",
    "h_covid_data[\"Year\"]=h_covid_data[\"Date\"].dt.year\n",
    "h_covid_data[\"Day\"]=h_covid_data[\"Date\"].dt.day\n",
    "h_covid_data[\"Cases\"]=raw_covid_data[\"metric_value\"]\n",
    "h_covid_data.sort_values(by=\"Date\",axis=\"index\",inplace=True)\n",
    "h_covid_data.reset_index(drop=True,inplace=True)\n",
    "print(h_covid_data.head())\n",
    "\n",
    "#************** Dumping the dataframe\n",
    "h_covid_data.to_csv(\"historical_covid_data.csv\")"
   ]
  },
  {
   "cell_type": "markdown",
   "id": "a439d466",
   "metadata": {},
   "source": [
    "### Positive cases update"
   ]
  },
  {
   "cell_type": "code",
   "execution_count": null,
   "id": "0d0cd100",
   "metadata": {},
   "outputs": [
    {
     "name": "stdout",
     "output_type": "stream",
     "text": [
      "Covid data request succesful with status 200\n",
      "Covid data request succesful with status 200\n",
      "Covid data request succesful with status 200\n",
      "Covid data request succesful with status 200\n",
      "New record added to covid data for date 2025-06-11 00:00:00\n",
      "Covid data request succesful with status 200\n",
      "New record added to covid data for date 2025-06-10 00:00:00\n",
      "Covid data request succesful with status 200\n",
      "New record added to covid data for date 2025-06-09 00:00:00\n",
      "Covid data request succesful with status 200\n",
      "New record added to covid data for date 2025-06-08 00:00:00\n",
      "Covid data request succesful with status 200\n",
      "New record added to covid data for date 2025-06-07 00:00:00\n",
      "Covid data request succesful with status 200\n",
      "New record added to covid data for date 2025-06-06 00:00:00\n",
      "Covid data request succesful with status 200\n",
      "New record added to covid data for date 2025-06-05 00:00:00\n",
      "Covid data request succesful with status 200\n",
      "New record added to covid data for date 2025-06-04 00:00:00\n",
      "Covid data request succesful with status 200\n",
      "New record added to covid data for date 2025-06-03 00:00:00\n",
      "Covid data request succesful with status 200\n",
      "New record added to covid data for date 2025-06-02 00:00:00\n",
      "Covid data request succesful with status 200\n",
      "New record added to covid data for date 2025-06-01 00:00:00\n",
      "Covid data request succesful with status 200\n",
      "New record added to covid data for date 2025-05-31 00:00:00\n",
      "Covid data request succesful with status 200\n",
      "New record added to covid data for date 2025-05-30 00:00:00\n",
      "Covid data request succesful with status 200\n",
      "New record added to covid data for date 2025-05-29 00:00:00\n",
      "Covid data request succesful with status 200\n",
      "New record added to covid data for date 2025-05-28 00:00:00\n",
      "Covid data request succesful with status 200\n",
      "New record added to covid data for date 2025-05-27 00:00:00\n",
      "Covid data request succesful with status 200\n",
      "New record added to covid data for date 2025-05-26 00:00:00\n",
      "Covid data request succesful with status 200\n",
      "New record added to covid data for date 2025-05-25 00:00:00\n",
      "Covid data request succesful with status 200\n",
      "New record added to covid data for date 2025-05-24 00:00:00\n",
      "Covid data request succesful with status 200\n",
      "New record added to covid data for date 2025-05-23 00:00:00\n",
      "Covid data request succesful with status 200\n",
      "New record added to covid data for date 2025-05-22 00:00:00\n",
      "Covid data request succesful with status 200\n",
      "New record added to covid data for date 2025-05-21 00:00:00\n",
      "Covid data request succesful with status 200\n",
      "New record added to covid data for date 2025-05-20 00:00:00\n",
      "Covid data request succesful with status 200\n",
      "New record added to covid data for date 2025-05-19 00:00:00\n",
      "Covid data request succesful with status 200\n",
      "New record added to covid data for date 2025-05-18 00:00:00\n",
      "Covid data request succesful with status 200\n",
      "New record added to covid data for date 2025-05-17 00:00:00\n",
      "Covid data request succesful with status 200\n",
      "New record added to covid data for date 2025-05-16 00:00:00\n",
      "Covid data request succesful with status 200\n",
      "New record added to covid data for date 2025-05-15 00:00:00\n",
      "Covid data request succesful with status 200\n",
      "New record added to covid data for date 2025-05-14 00:00:00\n",
      "Covid data request succesful with status 200\n",
      "New record added to covid data for date 2025-05-13 00:00:00\n",
      "Covid data request succesful with status 200\n",
      "New record added to covid data for date 2025-05-12 00:00:00\n",
      "Covid data request succesful with status 200\n",
      "New record added to covid data for date 2025-05-11 00:00:00\n",
      "Covid data request succesful with status 200\n",
      "New record added to covid data for date 2025-05-10 00:00:00\n",
      "Covid data request succesful with status 200\n",
      "New record added to covid data for date 2025-05-09 00:00:00\n",
      "Covid data request succesful with status 200\n",
      "New record added to covid data for date 2025-05-08 00:00:00\n",
      "Covid data request succesful with status 200\n",
      "New record added to covid data for date 2025-05-07 00:00:00\n",
      "Covid data request succesful with status 200\n",
      "New record added to covid data for date 2025-05-06 00:00:00\n",
      "Covid data request succesful with status 200\n",
      "New record added to covid data for date 2025-05-05 00:00:00\n",
      "Covid data request succesful with status 200\n",
      "New record added to covid data for date 2025-05-04 00:00:00\n",
      "Covid data request succesful with status 200\n",
      "New record added to covid data for date 2025-05-03 00:00:00\n",
      "Covid data request succesful with status 200\n",
      "New record added to covid data for date 2025-05-02 00:00:00\n",
      "Covid data request succesful with status 200\n",
      "New record added to covid data for date 2025-05-01 00:00:00\n",
      "Covid data request succesful with status 200\n",
      "New record added to covid data for date 2025-04-30 00:00:00\n",
      "Covid data request succesful with status 200\n",
      "New record added to covid data for date 2025-04-29 00:00:00\n",
      "Covid data request succesful with status 200\n",
      "New record added to covid data for date 2025-04-28 00:00:00\n",
      "Covid data request succesful with status 200\n",
      "New record added to covid data for date 2025-04-27 00:00:00\n",
      "Covid data request succesful with status 200\n",
      "New record added to covid data for date 2025-04-26 00:00:00\n",
      "Covid data request succesful with status 200\n",
      "New record added to covid data for date 2025-04-25 00:00:00\n",
      "Covid data request succesful with status 200\n",
      "New record added to covid data for date 2025-04-24 00:00:00\n",
      "Covid data request succesful with status 200\n",
      "Historical data range for Covid-19 positive cases from 2024-04-01 00:00:00 to 2025-06-11 00:00:00\n"
     ]
    }
   ],
   "source": [
    "def data_cases_update(h_covid_data):\n",
    "    '''\n",
    "    Description:\n",
    "        Function that updates historical positive cases (h_covid_data) using an API request from source data and if the date is not duplicated\n",
    "    Inputs\n",
    "        h_covid_data (Dataframe): Contains historical covid data that is to be updated    \n",
    "    Outputs:\n",
    "        h_covid_data (Dataframe): Updated dataframe\n",
    "    '''\n",
    "    curr_date=date.today()\n",
    "    day_data=curr_date.day      #Check current day for data update\n",
    "    month_data=curr_date.month\n",
    "    year_data=curr_date.year\n",
    "    new_record=True             #Control variable to check for data existence\n",
    "\n",
    "    while new_record:\n",
    "\n",
    "        #Request to data source\n",
    "        url=f\"https://api.ukhsa-dashboard.data.gov.uk/themes/infectious_disease/sub_themes/respiratory/topics/COVID-19/geography_types/Nation/geographies/England/metrics/COVID-19_cases_casesByDay?date={year_data}-{month_data}-{day_data}\"\n",
    "        response=requests.get(url)\n",
    "\n",
    "        #Checking for validity on request\n",
    "        if response.status_code==200: #Data importation succesful\n",
    "            data=response.json()\n",
    "            print(\"Covid data request succesful with status\", response.status_code)\n",
    "        else:\n",
    "            print(\"Covid data request failed with status \",response.status_code)\n",
    "\n",
    "        #checking for data existnce\n",
    "        if len(data[\"results\"])>0: #Case data exist take new values          \n",
    "            curr_date=pd.Timestamp(curr_date)          \n",
    "  \n",
    "            if curr_date in h_covid_data.Date.values: #Validate if data is up to date. In case it is end\n",
    "                 h_covid_data.sort_values(by=\"Date\",axis=\"index\",inplace=True) #Ensure data is sorted\n",
    "                 h_covid_data.reset_index(drop=True,inplace=True)\n",
    "                 print(f\"Historical data range for Covid-19 positive cases from {h_covid_data.Date.min()} to {h_covid_data.Date.max()}\")\n",
    "                 h_covid_data.to_csv(\"historical_covid_data.csv\")\n",
    "                 break                              \n",
    "  \n",
    "            else:                                   \n",
    "                print(f\"New record added to covid data for date {curr_date}\")\n",
    "                results=data[\"results\"][0]\n",
    "                new_data=pd.DataFrame({     #Dataframe to concat new info\n",
    "                        \"Year\":[pd.to_datetime(results[\"date\"]).year],\n",
    "                        \"Month\":[pd.to_datetime(results[\"date\"]).month],\n",
    "                        \"Day\":[pd.to_datetime(results[\"date\"]).day],\n",
    "                        \"Date\":[pd.to_datetime(results[\"date\"],format=\"ISO8601\")],\n",
    "                        \"Cases\":[results[\"metric_value\"]],\n",
    "                    })\n",
    "                h_covid_data=pd.concat([h_covid_data,new_data],axis=\"index\",ignore_index=True)\n",
    " \n",
    "                h_covid_data.Date=pd.to_datetime(h_covid_data.Date) #Ensuring format consistency\n",
    "                h_covid_data.drop_duplicates(ignore_index=True,inplace=True)\n",
    "                \n",
    "                curr_date=curr_date-timedelta(1) #Move to next date \n",
    "                day_data=curr_date.day           \n",
    "                month_data=curr_date.month\n",
    "                year_data=curr_date.year                \n",
    "\n",
    "        else:\n",
    "                curr_date=curr_date-timedelta(1) #Take a previous date\n",
    "                day_data=curr_date.day           #Check current day for data update\n",
    "                month_data=curr_date.month\n",
    "                year_data=curr_date.year\n",
    "\n",
    "\n",
    "    return h_covid_data\n",
    "\n",
    "h_covid_data=pd.read_csv(\"historical_covid_data.csv\",index_col=0) #Load last update\n",
    "\n",
    "h_covid_data=data_cases_update(h_covid_data)"
   ]
  },
  {
   "cell_type": "markdown",
   "id": "0f6d5401",
   "metadata": {},
   "source": [
    "## Weather data importation\n",
    "\n",
    "In a similar fashion, weather data is imported from a raw file, and updated via APIs"
   ]
  },
  {
   "cell_type": "markdown",
   "id": "0d60fa26",
   "metadata": {},
   "source": [
    "### Historical weather data"
   ]
  },
  {
   "cell_type": "code",
   "execution_count": 42,
   "id": "39ab4aa2",
   "metadata": {},
   "outputs": [
    {
     "name": "stdout",
     "output_type": "stream",
     "text": [
      "<class 'pandas.core.frame.DataFrame'>\n",
      "RangeIndex: 393 entries, 0 to 392\n",
      "Data columns (total 11 columns):\n",
      " #   Column               Non-Null Count  Dtype         \n",
      "---  ------               --------------  -----         \n",
      " 0   Year                 393 non-null    int32         \n",
      " 1   Month                393 non-null    int32         \n",
      " 2   Day                  393 non-null    int32         \n",
      " 3   Date                 393 non-null    datetime64[ns]\n",
      " 4   Mean_Temperature     391 non-null    float64       \n",
      " 5   Max_Temperature      392 non-null    float64       \n",
      " 6   Min_Temperature      392 non-null    float64       \n",
      " 7   Max_Wind_Speed       391 non-null    float64       \n",
      " 8   Precipitation_Hours  393 non-null    float64       \n",
      " 9   Rain_Sum             391 non-null    float64       \n",
      " 10  Snowfall_Sum         391 non-null    float64       \n",
      "dtypes: datetime64[ns](1), float64(7), int32(3)\n",
      "memory usage: 29.3 KB\n",
      "None\n"
     ]
    },
    {
     "data": {
      "application/vnd.microsoft.datawrangler.viewer.v0+json": {
       "columns": [
        {
         "name": "index",
         "rawType": "int64",
         "type": "integer"
        },
        {
         "name": "Year",
         "rawType": "int32",
         "type": "integer"
        },
        {
         "name": "Month",
         "rawType": "int32",
         "type": "integer"
        },
        {
         "name": "Day",
         "rawType": "int32",
         "type": "integer"
        },
        {
         "name": "Date",
         "rawType": "datetime64[ns]",
         "type": "datetime"
        },
        {
         "name": "Mean_Temperature",
         "rawType": "float64",
         "type": "float"
        },
        {
         "name": "Max_Temperature",
         "rawType": "float64",
         "type": "float"
        },
        {
         "name": "Min_Temperature",
         "rawType": "float64",
         "type": "float"
        },
        {
         "name": "Max_Wind_Speed",
         "rawType": "float64",
         "type": "float"
        },
        {
         "name": "Precipitation_Hours",
         "rawType": "float64",
         "type": "float"
        },
        {
         "name": "Rain_Sum",
         "rawType": "float64",
         "type": "float"
        },
        {
         "name": "Snowfall_Sum",
         "rawType": "float64",
         "type": "float"
        }
       ],
       "ref": "27914fa4-6956-438e-a58e-6a0e82c3b8ad",
       "rows": [
        [
         "0",
         "2024",
         "4",
         "1",
         "2024-04-01 00:00:00",
         "6.4",
         "8.1",
         "5.2",
         "9.6",
         "17.0",
         "7.7",
         "0.0"
        ],
        [
         "1",
         "2024",
         "4",
         "2",
         "2024-04-02 00:00:00",
         "7.1",
         "9.7",
         "4.6",
         "4.4",
         "12.0",
         "5.2",
         "0.0"
        ],
        [
         "2",
         "2024",
         "4",
         "3",
         "2024-04-03 00:00:00",
         "7.4",
         "10.0",
         "4.2",
         "10.1",
         "13.0",
         "9.7",
         "0.0"
        ],
        [
         "3",
         "2024",
         "4",
         "4",
         "2024-04-04 00:00:00",
         "6.6",
         "9.6",
         "3.9",
         "9.5",
         "6.0",
         "2.2",
         "0.0"
        ],
        [
         "4",
         "2024",
         "4",
         "5",
         "2024-04-05 00:00:00",
         "10.3",
         "13.5",
         "5.1",
         "22.9",
         "14.0",
         "12.3",
         "0.0"
        ]
       ],
       "shape": {
        "columns": 11,
        "rows": 5
       }
      },
      "text/html": [
       "<div>\n",
       "<style scoped>\n",
       "    .dataframe tbody tr th:only-of-type {\n",
       "        vertical-align: middle;\n",
       "    }\n",
       "\n",
       "    .dataframe tbody tr th {\n",
       "        vertical-align: top;\n",
       "    }\n",
       "\n",
       "    .dataframe thead th {\n",
       "        text-align: right;\n",
       "    }\n",
       "</style>\n",
       "<table border=\"1\" class=\"dataframe\">\n",
       "  <thead>\n",
       "    <tr style=\"text-align: right;\">\n",
       "      <th></th>\n",
       "      <th>Year</th>\n",
       "      <th>Month</th>\n",
       "      <th>Day</th>\n",
       "      <th>Date</th>\n",
       "      <th>Mean_Temperature</th>\n",
       "      <th>Max_Temperature</th>\n",
       "      <th>Min_Temperature</th>\n",
       "      <th>Max_Wind_Speed</th>\n",
       "      <th>Precipitation_Hours</th>\n",
       "      <th>Rain_Sum</th>\n",
       "      <th>Snowfall_Sum</th>\n",
       "    </tr>\n",
       "  </thead>\n",
       "  <tbody>\n",
       "    <tr>\n",
       "      <th>0</th>\n",
       "      <td>2024</td>\n",
       "      <td>4</td>\n",
       "      <td>1</td>\n",
       "      <td>2024-04-01</td>\n",
       "      <td>6.4</td>\n",
       "      <td>8.1</td>\n",
       "      <td>5.2</td>\n",
       "      <td>9.6</td>\n",
       "      <td>17.0</td>\n",
       "      <td>7.7</td>\n",
       "      <td>0.0</td>\n",
       "    </tr>\n",
       "    <tr>\n",
       "      <th>1</th>\n",
       "      <td>2024</td>\n",
       "      <td>4</td>\n",
       "      <td>2</td>\n",
       "      <td>2024-04-02</td>\n",
       "      <td>7.1</td>\n",
       "      <td>9.7</td>\n",
       "      <td>4.6</td>\n",
       "      <td>4.4</td>\n",
       "      <td>12.0</td>\n",
       "      <td>5.2</td>\n",
       "      <td>0.0</td>\n",
       "    </tr>\n",
       "    <tr>\n",
       "      <th>2</th>\n",
       "      <td>2024</td>\n",
       "      <td>4</td>\n",
       "      <td>3</td>\n",
       "      <td>2024-04-03</td>\n",
       "      <td>7.4</td>\n",
       "      <td>10.0</td>\n",
       "      <td>4.2</td>\n",
       "      <td>10.1</td>\n",
       "      <td>13.0</td>\n",
       "      <td>9.7</td>\n",
       "      <td>0.0</td>\n",
       "    </tr>\n",
       "    <tr>\n",
       "      <th>3</th>\n",
       "      <td>2024</td>\n",
       "      <td>4</td>\n",
       "      <td>4</td>\n",
       "      <td>2024-04-04</td>\n",
       "      <td>6.6</td>\n",
       "      <td>9.6</td>\n",
       "      <td>3.9</td>\n",
       "      <td>9.5</td>\n",
       "      <td>6.0</td>\n",
       "      <td>2.2</td>\n",
       "      <td>0.0</td>\n",
       "    </tr>\n",
       "    <tr>\n",
       "      <th>4</th>\n",
       "      <td>2024</td>\n",
       "      <td>4</td>\n",
       "      <td>5</td>\n",
       "      <td>2024-04-05</td>\n",
       "      <td>10.3</td>\n",
       "      <td>13.5</td>\n",
       "      <td>5.1</td>\n",
       "      <td>22.9</td>\n",
       "      <td>14.0</td>\n",
       "      <td>12.3</td>\n",
       "      <td>0.0</td>\n",
       "    </tr>\n",
       "  </tbody>\n",
       "</table>\n",
       "</div>"
      ],
      "text/plain": [
       "   Year  Month  Day       Date  Mean_Temperature  Max_Temperature  \\\n",
       "0  2024      4    1 2024-04-01               6.4              8.1   \n",
       "1  2024      4    2 2024-04-02               7.1              9.7   \n",
       "2  2024      4    3 2024-04-03               7.4             10.0   \n",
       "3  2024      4    4 2024-04-04               6.6              9.6   \n",
       "4  2024      4    5 2024-04-05              10.3             13.5   \n",
       "\n",
       "   Min_Temperature  Max_Wind_Speed  Precipitation_Hours  Rain_Sum  \\\n",
       "0              5.2             9.6                 17.0       7.7   \n",
       "1              4.6             4.4                 12.0       5.2   \n",
       "2              4.2            10.1                 13.0       9.7   \n",
       "3              3.9             9.5                  6.0       2.2   \n",
       "4              5.1            22.9                 14.0      12.3   \n",
       "\n",
       "   Snowfall_Sum  \n",
       "0           0.0  \n",
       "1           0.0  \n",
       "2           0.0  \n",
       "3           0.0  \n",
       "4           0.0  "
      ]
     },
     "execution_count": 42,
     "metadata": {},
     "output_type": "execute_result"
    }
   ],
   "source": [
    "#*********** Reading and renaming columns\n",
    "raw_weath_data=pd.read_csv(\"open-meteo-54.73N2.85W71m.csv\",skiprows=3)\n",
    "\n",
    "#*************** Creating and formating the dataframe of historical data \n",
    "h_weath_data=pd.DataFrame({\n",
    "    \"Year\":[],\n",
    "    \"Month\":[],\n",
    "    \"Day\":[],\n",
    "    \"Date\":[],\n",
    "    \"Mean_Temperature\":[],\n",
    "    \"Max_Temperature\":[],\n",
    "    \"Min_Temperature\":[],\n",
    "    \"Max_Wind_Speed\":[],\n",
    "    \"Precipitation_Hours\":[],\n",
    "    \"Rain_Sum\":[],\n",
    "    \"Snowfall_Sum\":[],\n",
    "\n",
    "})\n",
    "\n",
    "h_weath_data[\"Date\"]=pd.to_datetime(raw_weath_data[\"time\"])\n",
    "h_weath_data[\"Month\"]=h_weath_data[\"Date\"].dt.month\n",
    "h_weath_data[\"Year\"]=h_weath_data[\"Date\"].dt.year\n",
    "h_weath_data[\"Day\"]=h_weath_data[\"Date\"].dt.day\n",
    "h_weath_data[\"Mean_Temperature\"]=raw_weath_data[\"temperature_2m_mean (°C)\"]\n",
    "h_weath_data[\"Min_Temperature\"]=raw_weath_data[\"temperature_2m_min (°C)\"]\n",
    "h_weath_data[\"Max_Temperature\"]=raw_weath_data[\"temperature_2m_max (°C)\"]\n",
    "h_weath_data[\"Max_Wind_Speed\"]=raw_weath_data[\"wind_speed_10m_mean (km/h)\"]\n",
    "h_weath_data[\"Precipitation_Hours\"]=raw_weath_data[\"precipitation_hours (h)\"]\n",
    "h_weath_data[\"Rain_Sum\"]=raw_weath_data[\"rain_sum (mm)\"]\n",
    "h_weath_data[\"Snowfall_Sum\"]=raw_weath_data[\"snowfall_sum (cm)\"]\n",
    "\n",
    "print(h_weath_data.info())\n",
    "\n",
    "h_weath_data.head()\n",
    "\n",
    "\n",
    "\n"
   ]
  },
  {
   "cell_type": "code",
   "execution_count": 6,
   "id": "a875828b",
   "metadata": {},
   "outputs": [
    {
     "name": "stdout",
     "output_type": "stream",
     "text": [
      "<class 'pandas.core.frame.DataFrame'>\n",
      "RangeIndex: 393 entries, 0 to 392\n",
      "Data columns (total 11 columns):\n",
      " #   Column               Non-Null Count  Dtype         \n",
      "---  ------               --------------  -----         \n",
      " 0   Year                 393 non-null    int32         \n",
      " 1   Month                393 non-null    int32         \n",
      " 2   Day                  393 non-null    int32         \n",
      " 3   Date                 393 non-null    datetime64[ns]\n",
      " 4   Mean_Temperature     393 non-null    float64       \n",
      " 5   Max_Temperature      393 non-null    float64       \n",
      " 6   Min_Temperature      393 non-null    float64       \n",
      " 7   Max_Wind_Speed       393 non-null    float64       \n",
      " 8   Precipitation_Hours  393 non-null    float64       \n",
      " 9   Rain_Sum             393 non-null    float64       \n",
      " 10  Snowfall_Sum         393 non-null    float64       \n",
      "dtypes: datetime64[ns](1), float64(7), int32(3)\n",
      "memory usage: 29.3 KB\n"
     ]
    }
   ],
   "source": [
    "#************** Filling NA and Dumping the dataframe\n",
    "h_weath_data.ffill(inplace=True)\n",
    "h_weath_data.info()\n",
    "h_weath_data.to_csv(\"historical_weather_data.csv\")"
   ]
  },
  {
   "cell_type": "markdown",
   "id": "408d4739",
   "metadata": {},
   "source": [
    "### Weather data update"
   ]
  },
  {
   "cell_type": "code",
   "execution_count": 43,
   "id": "0b4ac855",
   "metadata": {},
   "outputs": [
    {
     "name": "stdout",
     "output_type": "stream",
     "text": [
      "Weather data request succesful with status 200\n",
      "New historical records added for weather conditions for dates ['2025-06-14', '2025-06-15', '2025-06-16', '2025-06-17']\n",
      "Weather record range from 2024-04-01 00:00:00 to 2025-06-17 00:00:00\n"
     ]
    }
   ],
   "source": [
    "def weather_update(h_weath_data):\n",
    "    '''\n",
    "    Description:\n",
    "        Function to check for updates on the historical weather data based on a rolling windows of 7 days starting from the last known covid positive cases update\n",
    "    Inputs:\n",
    "        h_weath_data: Dataframe with historical weather data that is to be updated\n",
    "    Outputs:\n",
    "        h_weath_data: Updated dataframe    \n",
    "    '''\n",
    "    #******************************* Date range for historical data\n",
    "    #Starting point for update\n",
    "    last_date=pd.to_datetime(h_weath_data.Date.max())\n",
    "    last_weath_year=last_date.year\n",
    "    last_weath_month=f\"{last_date.month:02d}\"\n",
    "    last_weath_day=f\"{last_date.day:02d}\"\n",
    "\n",
    "    #Limit for historical data\n",
    "    curr_date=date.today()\n",
    "    day_data=f\"{curr_date.day:02d}\"     #Check current day for data update\n",
    "    month_data=f\"{curr_date.month:02d}\"\n",
    "    year_data=curr_date.year\n",
    "    \n",
    "    #Request to data source. Forecast data is used to avoid possible missing data from historical records\n",
    "    url=f\"https://api.open-meteo.com/v1/forecast?latitude=54.7584&longitude=-2.6953&start_date={last_weath_year}-{last_weath_month}-{last_weath_day}&end_date={year_data}-{month_data}-{day_data}&daily=temperature_2m_mean,temperature_2m_max,temperature_2m_min,wind_speed_10m_max,precipitation_hours,rain_sum,snowfall_sum&timezone=Europe%2FLondon\"\n",
    "    response=requests.get(url)\n",
    "\n",
    "    #Checking for validity on request\n",
    "    if response.status_code==200: #Data importation succesful\n",
    "        data=response.json()\n",
    "        print(\"Weather data request succesful with status\", response.status_code)\n",
    "    else:\n",
    "        print(\"Weather data request failed with status \",response.status_code)\n",
    "        return None\n",
    "    \n",
    "    #******************************* Updating dataframe\n",
    "    if \"daily\" not in data.keys():\n",
    "        print(\"Void data record. Check source\")\n",
    "        return h_weath_data\n",
    "    else:\n",
    "        results=data[\"daily\"]\n",
    "        dates=pd.to_datetime(results[\"time\"])\n",
    "        new_data=pd.DataFrame({\n",
    "                \"Year\":dates.year,\n",
    "                \"Month\":dates.month,\n",
    "                \"Day\":dates.day,\n",
    "                \"Date\":dates,\n",
    "                \"Mean_Temperature\":results[\"temperature_2m_mean\"],\n",
    "                \"Max_Temperature\":results[\"temperature_2m_max\"],\n",
    "                \"Min_Temperature\":results[\"temperature_2m_min\"],\n",
    "                \"Max_Wind_Speed\":results[\"wind_speed_10m_max\"],\n",
    "                \"Precipitation_Hours\":results[\"precipitation_hours\"],\n",
    "                \"Rain_Sum\":results[\"rain_sum\"],\n",
    "                \"Snowfall_Sum\":results[\"snowfall_sum\"],\n",
    "            })\n",
    "\n",
    "        new_data.dropna(axis=\"index\",how=\"any\",inplace=True)  #Cleaning empty records from new data\n",
    "        h_weath_data=pd.concat([h_weath_data,new_data],axis=\"index\",ignore_index=True)\n",
    "        h_weath_data.Date=pd.to_datetime(h_weath_data.Date)    #Ensuring Date format\n",
    "        h_weath_data.drop_duplicates(subset=[\"Date\"],ignore_index=True,inplace=True)\n",
    "\n",
    "        h_weath_data.to_csv(\"historical_weather_data.csv\")\n",
    "\n",
    "        print(f\"New historical records added for weather conditions for dates {results[\"time\"]}\")\n",
    "        print(f\"Weather record range from {h_weath_data.Date.min()} to {h_weath_data.Date.max()}\")\n",
    "\n",
    "    return h_weath_data\n",
    "\n",
    "#**************** Updating the historical records of weather\n",
    "h_weath_data=pd.read_csv(\"historical_weather_data.csv\",index_col=0)\n",
    "h_weath_data=weather_update(h_weath_data)"
   ]
  },
  {
   "cell_type": "markdown",
   "id": "14a3edf4",
   "metadata": {},
   "source": [
    "# Data Exploration\n",
    "\n",
    "Highlights:\n",
    "* Covid data show both peaks and valleys\n",
    "* Temperature features exhibit likely seasonal behavior, where as remaining weather features show an erratic trend"
   ]
  },
  {
   "cell_type": "markdown",
   "id": "976379c1",
   "metadata": {},
   "source": [
    "# Series plot"
   ]
  },
  {
   "cell_type": "code",
   "execution_count": 8,
   "id": "a61c87ce",
   "metadata": {},
   "outputs": [
    {
     "data": {
      "text/plain": [
       "<matplotlib.legend.Legend at 0x18e5211e0d0>"
      ]
     },
     "execution_count": 8,
     "metadata": {},
     "output_type": "execute_result"
    },
    {
     "data": {
      "image/png": "[encoded data removed]",
      "text/plain": [
       "<Figure size 1500x800 with 8 Axes>"
      ]
     },
     "metadata": {},
     "output_type": "display_data"
    }
   ],
   "source": [
    "#************** Taking date range in common for plotting\n",
    "min_date_weath=h_weath_data.Date.min()\n",
    "max_date_weath=h_weath_data.Date.max()\n",
    "min_date_covid=h_covid_data.Date.min()\n",
    "max_date_covid=h_covid_data.Date.max()\n",
    "min_date=max(min_date_covid,min_date_weath)\n",
    "max_date=min(max_date_covid,max_date_weath)\n",
    "h_covid_data=h_covid_data[(h_covid_data.Date>=min_date) & (h_covid_data.Date<=max_date)]\n",
    "h_weath_data=h_weath_data[(h_weath_data.Date>=min_date) & (h_weath_data.Date<=max_date)]\n",
    "\n",
    "#************* Plotting\n",
    "fig,axs=plt.subplots(2,4,figsize=(15,8))\n",
    "h_covid_data[[\"Cases\"]].plot(kind=\"line\",ax=axs[0,0])\n",
    "h_covid_data[[\"Cases\"]].rolling(window=7).mean().plot(kind=\"line\",ax=axs[0,0])\n",
    "axs[0,0].set_title(\"Positive covid cases\")\n",
    "axs[0,0].legend([\"Daily Cases\",\"Weekly average\"],loc=\"upper left\")\n",
    "\n",
    "h_weath_data[[\"Mean_Temperature\"]].plot(kind=\"line\",ax=axs[0,1])\n",
    "h_weath_data[[\"Mean_Temperature\"]].rolling(window=7).mean().plot(kind=\"line\",ax=axs[0,1])\n",
    "axs[0,1].set_title(\"Mean temperature\")\n",
    "axs[0,1].legend([\"Daiy Mean\",\"Rolling mean 7 days\"],loc=\"upper left\")\n",
    "\n",
    "h_weath_data[[\"Max_Temperature\"]].plot(kind=\"line\",ax=axs[0,2])\n",
    "h_weath_data[[\"Max_Temperature\"]].rolling(window=7).mean().plot(kind=\"line\",ax=axs[0,2])\n",
    "axs[0,2].set_title(\"Max temperature\")\n",
    "axs[0,2].legend([\"Daily Max\",\"Rolling mean 7 days\"],loc=\"upper left\")\n",
    "\n",
    "h_weath_data[[\"Min_Temperature\"]].plot(kind=\"line\",ax=axs[0,3])\n",
    "h_weath_data[[\"Min_Temperature\"]].rolling(window=7).mean().plot(kind=\"line\",ax=axs[0,3])\n",
    "axs[0,3].set_title(\"Min temperature\")\n",
    "axs[0,3].legend([\"Daily Max\",\"Rolling mean 7 days\"],loc=\"upper left\")\n",
    "\n",
    "h_weath_data[[\"Max_Wind_Speed\"]].plot(kind=\"line\",ax=axs[1,0])\n",
    "h_weath_data[[\"Max_Wind_Speed\"]].rolling(window=7).mean().plot(kind=\"line\",ax=axs[1,0])\n",
    "axs[1,0].set_title(\"Max wind speed\")\n",
    "axs[1,0].legend([\"Daily Max\",\"Rolling mean 7 days\"],loc=\"upper left\")\n",
    "\n",
    "h_weath_data[[\"Precipitation_Hours\"]].plot(kind=\"line\",ax=axs[1,1])\n",
    "h_weath_data[[\"Precipitation_Hours\"]].rolling(window=7).mean().plot(kind=\"line\",ax=axs[1,1])\n",
    "axs[1,1].set_title(\"Precipitation hours\")\n",
    "axs[1,1].legend([\"Daily precipitation hours\",\"Rolling aggregate 7 days\"],loc=\"upper left\")\n",
    "\n",
    "h_weath_data[[\"Rain_Sum\"]].plot(kind=\"line\",ax=axs[1,2])\n",
    "h_weath_data[[\"Rain_Sum\"]].rolling(window=7).mean().plot(kind=\"line\",ax=axs[1,2])\n",
    "axs[1,2].set_title(\"Rain sum\")\n",
    "axs[1,2].legend([\"Daily rain sum\",\"Rolling aggregate 7 days\"],loc=\"upper left\")\n",
    "\n",
    "h_weath_data[[\"Snowfall_Sum\"]].plot(kind=\"line\",ax=axs[1,3])\n",
    "h_weath_data[[\"Snowfall_Sum\"]].rolling(window=7).mean().plot(kind=\"line\",ax=axs[1,3])\n",
    "axs[1,3].set_title(\"Snow sum\")\n",
    "axs[1,3].legend([\"Daily snow sum\",\"Rolling aggregate 7 dyas\"],loc=\"upper left\")\n",
    "\n"
   ]
  },
  {
   "cell_type": "markdown",
   "id": "853b3fc1",
   "metadata": {},
   "source": [
    "## Lag Plot\n",
    "\n",
    "No significant change in the relation between lagged weather conditions and covid cases\n",
    "\n",
    "Speculation: Higher temperatures imply higher transmision rates since people are more outdoors"
   ]
  },
  {
   "cell_type": "code",
   "execution_count": 9,
   "id": "bf6110aa",
   "metadata": {},
   "outputs": [
    {
     "data": {
      "image/png": "[encoded data removed]",
      "text/plain": [
       "<Figure size 1500x1200 with 21 Axes>"
      ]
     },
     "metadata": {},
     "output_type": "display_data"
    }
   ],
   "source": [
    "#************ Creating lagplots to verify COVID cases relation to weather conditions based on a 1 to 7 day lag.\n",
    "#             Covid data is set as static, and weather data is lagged.\n",
    "\n",
    "#Plots considered vs Mean temperature, Min temperature, Max temperature as they showed the highest correlation\n",
    "weath_data_to_lag=h_weath_data[[\"Date\",\"Max_Temperature\",\"Min_Temperature\",\"Mean_Temperature\"]]\n",
    "\n",
    "#Getting matching dates\n",
    "min_date=max(h_covid_data.Date.min(),weath_data_to_lag.Date.min())\n",
    "max_date=min(h_covid_data.Date.max(),weath_data_to_lag.Date.max())\n",
    "\n",
    "x_data=weath_data_to_lag[(weath_data_to_lag.Date>min_date) & (weath_data_to_lag.Date<max_date)]\n",
    "x_data.reset_index(drop=True,inplace=True)\n",
    "\n",
    "y_data=h_covid_data[(h_covid_data.Date>min_date) & (h_covid_data.Date<max_date)]\n",
    "y_data.reset_index(drop=True,inplace=True)\n",
    "y_data=y_data.loc[7:,\"Cases\"] #Static covid data\n",
    "                   \n",
    "#Lag plots\n",
    "fig,axs=plt.subplots(3,7,figsize=(15,12))\n",
    "#plt.tight_layout()\n",
    "for i in range(3):\n",
    "    for j in range(1,8):\n",
    "        #Creating the lag\n",
    "        start=7-j\n",
    "        end=len(x_data)-1-j\n",
    "        feature=weath_data_to_lag.columns[i+1]\n",
    "        axs[i,j-1].scatter(x_data.loc[start:end,feature],y_data,s=3)\n",
    "        axs[i,j-1].set_xlabel(feature,fontsize=7)\n",
    "        axs[i,j-1].tick_params(axis=\"x\",labelsize=8)\n",
    "        axs[i,j-1].tick_params(axis=\"y\",labelsize=8)\n",
    "        \n",
    "        if i==0: axs[i,j-1].set_title(f\"Lag - {j} days\",fontdict={\"size\":10,\"weight\":\"bold\"})\n",
    "        if j==1: axs[i,j-1].set_ylabel(\"Covid cases\",fontsize=7)\n"
   ]
  },
  {
   "cell_type": "code",
   "execution_count": 10,
   "id": "ef04a1a2",
   "metadata": {},
   "outputs": [
    {
     "data": {
      "image/png": "[encoded data removed]",
      "text/plain": [
       "<Figure size 1500x500 with 7 Axes>"
      ]
     },
     "metadata": {},
     "output_type": "display_data"
    }
   ],
   "source": [
    "# covid lag plots \n",
    "x_data=h_covid_data[(h_covid_data.Date>min_date) & (h_covid_data.Date<max_date)]\n",
    "fig, axs = plt.subplots(1, 7, figsize=(15, 5))\n",
    "for j in range(1, 8):\n",
    "    x_lag = x_data[\"Cases\"].shift(j).dropna().reset_index(drop=True)\n",
    "    y_static = x_data[\"Cases\"].iloc[j:].reset_index(drop=True)\n",
    "    axs[j - 1].scatter(x_lag, y_static, s=3)\n",
    "    axs[j - 1].set_xlabel(\"Lagged Cases\", fontsize=7)\n",
    "    axs[j - 1].tick_params(axis=\"x\", labelsize=8)\n",
    "    axs[j - 1].tick_params(axis=\"y\", labelsize=8)\n",
    "    axs[j - 1].set_title(f\"Lag - {j} days\", fontdict={\"size\":10, \"weight\":\"bold\"})"
   ]
  },
  {
   "cell_type": "markdown",
   "id": "6febe1e6",
   "metadata": {},
   "source": [
    "# Outlier detection\n",
    "\n",
    "Highlights:\n",
    "* Outlier detection is done busing a rolling window and a Z-score criteria\n",
    "* No outliers where detected"
   ]
  },
  {
   "cell_type": "code",
   "execution_count": 11,
   "id": "6866d7c3",
   "metadata": {},
   "outputs": [
    {
     "name": "stdout",
     "output_type": "stream",
     "text": [
      "Covid cases outliers\n",
      "[]\n",
      "Mean temperature Outliers\n",
      "[]\n",
      "Max temperature Outliers\n",
      "[]\n",
      "Min temperature Outliers\n",
      "[]\n",
      "Max wind Outliers\n",
      "[]\n",
      "Precipitation outliers\n",
      "[]\n",
      "Rain sum outliers\n",
      "[]\n",
      "Snow sum outliers\n",
      "[]\n"
     ]
    }
   ],
   "source": [
    "def outlier_detection(time_s,window,target_var):\n",
    "    ''' \n",
    "    Description:\n",
    "        Function to detect outliers in a given time series. The outliers are detected over residuals using a rolling window of n days with a 3 standard deviation criteria\n",
    "    Inptuts\n",
    "        time_s: time series upon which outliers are detected\n",
    "        window_days= window to consier for outlier detection\n",
    "        target_var=  Colunmn name of the variable to analyze\n",
    "    Returns\n",
    "        outlier_date: List of dates detected as outliers\n",
    "    '''\n",
    "\n",
    "    #************** Computing trend to for residual calculation\n",
    "    trend=time_s[target_var].rolling(window=window,center=True).mean()\n",
    "    residual=time_s[target_var]-trend\n",
    "\n",
    "    #************* Z calculation and outlier detection\n",
    "    residual_mean=(residual.rolling(window=window).mean())\n",
    "    residual_std=(residual.rolling(window=window).std())\n",
    "    residual_zscore=(residual-residual_mean)/residual_std\n",
    "\n",
    "    residual_zscore.dropna(inplace=True)\n",
    "\n",
    "    outlier_zscore=residual_zscore[abs(residual_zscore)>=3]#Taking date with outliers\n",
    "\n",
    "    if len(outlier_zscore)==0: #Case no outliers\n",
    "        return []\n",
    "    else:\n",
    "        outlier_index=outlier_zscore.index\n",
    "        outlier_date=time_s.loc[outlier_index,\"Date\"].tolist()    \n",
    "        return outlier_date\n",
    "\n",
    "#************************ Outlier detection\n",
    "#Covid Outlier detection\n",
    "covid_outliers=outlier_detection(h_covid_data,7,\"Cases\")\n",
    "\n",
    "#Weather variable outlier detection\n",
    "mean_temp_outliers=outlier_detection(h_weath_data,7,\"Mean_Temperature\")\n",
    "max_temp_outliers=outlier_detection(h_weath_data,7,\"Max_Temperature\")\n",
    "min_temp_outliers=outlier_detection(h_weath_data,7,\"Min_Temperature\")\n",
    "max_wind_outliers=outlier_detection(h_weath_data,7,\"Max_Wind_Speed\")\n",
    "precipitation_outliers=outlier_detection(h_weath_data,7,\"Precipitation_Hours\")\n",
    "rain_outliers=outlier_detection(h_weath_data,7,\"Rain_Sum\")\n",
    "snow_outliers=outlier_detection(h_weath_data,7,\"Snowfall_Sum\")\n",
    "\n",
    "#************************ Outlier print\n",
    "\n",
    "print(\"Covid cases outliers\")\n",
    "print(covid_outliers)\n",
    "\n",
    "print(\"Mean temperature Outliers\")\n",
    "print(mean_temp_outliers)\n",
    "\n",
    "print(\"Max temperature Outliers\")\n",
    "print(max_temp_outliers)\n",
    "\n",
    "print(\"Min temperature Outliers\")\n",
    "print(min_temp_outliers)\n",
    "\n",
    "print(\"Max wind Outliers\")\n",
    "print(max_wind_outliers)\n",
    "\n",
    "print(\"Precipitation outliers\")\n",
    "print(precipitation_outliers)\n",
    "\n",
    "print(\"Rain sum outliers\")\n",
    "print(rain_outliers)\n",
    "\n",
    "print(\"Snow sum outliers\")\n",
    "print(snow_outliers)"
   ]
  },
  {
   "cell_type": "markdown",
   "id": "1029f402",
   "metadata": {},
   "source": [
    "# Stationarity check\n",
    "\n",
    "ADF test is computed to check for stationarity in the downloaded features.\n",
    "\n",
    "Highlights:\n",
    "* Temperatures exhibit non stationarity which could be alluded to seasonality\n",
    "* Covid cases are not stationary as expected, however, data exploration does not show a clear trend of seasonality\n"
   ]
  },
  {
   "cell_type": "code",
   "execution_count": 44,
   "id": "188c590d",
   "metadata": {},
   "outputs": [
    {
     "name": "stdout",
     "output_type": "stream",
     "text": [
      "\n",
      "------ ADF FOR Covid series ------\n",
      "ADF Statistic: -2.0580\n",
      "p-value: 0.2617\n",
      "Critical values:\n",
      "    1%: -3.4462\n",
      "    5%: -2.8685\n",
      "    10%: -2.5705\n",
      "Time series Covid series non stationary according to ADF test\n",
      "\n",
      "------ ADF FOR Mean temperature series ------\n",
      "ADF Statistic: -2.4720\n",
      "p-value: 0.1224\n",
      "Critical values:\n",
      "    1%: -3.4454\n",
      "    5%: -2.8682\n",
      "    10%: -2.5703\n",
      "Time series Mean temperature series non stationary according to ADF test\n",
      "\n",
      "------ ADF FOR Min temperature series ------\n",
      "ADF Statistic: -2.8666\n",
      "p-value: 0.0494\n",
      "Critical values:\n",
      "    1%: -3.4454\n",
      "    5%: -2.8682\n",
      "    10%: -2.5703\n",
      "Time series Min temperature series  stationary according to ADF test\n",
      "\n",
      "------ ADF FOR Max temperature series ------\n",
      "ADF Statistic: -1.4975\n",
      "p-value: 0.5347\n",
      "Critical values:\n",
      "    1%: -3.4458\n",
      "    5%: -2.8683\n",
      "    10%: -2.5704\n",
      "Time series Max temperature series non stationary according to ADF test\n",
      "\n",
      "------ ADF FOR Max wind speed series ------\n",
      "ADF Statistic: -10.2736\n",
      "p-value: 0.0000\n",
      "Critical values:\n",
      "    1%: -3.4452\n",
      "    5%: -2.8681\n",
      "    10%: -2.5703\n",
      "Time series Max wind speed series  stationary according to ADF test\n",
      "\n",
      "------ ADF FOR Precipitation hours temperature series ------\n",
      "ADF Statistic: -13.2906\n",
      "p-value: 0.0000\n",
      "Critical values:\n",
      "    1%: -3.4452\n",
      "    5%: -2.8681\n",
      "    10%: -2.5703\n",
      "Time series Precipitation hours temperature series  stationary according to ADF test\n",
      "\n",
      "------ ADF FOR Rain sum time series ------\n",
      "ADF Statistic: -16.1058\n",
      "p-value: 0.0000\n",
      "Critical values:\n",
      "    1%: -3.4452\n",
      "    5%: -2.8681\n",
      "    10%: -2.5703\n",
      "Time series Rain sum time series  stationary according to ADF test\n",
      "\n",
      "------ ADF FOR Snow sum time series ------\n",
      "ADF Statistic: -17.8529\n",
      "p-value: 0.0000\n",
      "Critical values:\n",
      "    1%: -3.4452\n",
      "    5%: -2.8681\n",
      "    10%: -2.5703\n",
      "Time series Snow sum time series  stationary according to ADF test\n"
     ]
    }
   ],
   "source": [
    "def adf_test(t_series,target_var,confidence,key):\n",
    "    '''\n",
    "    Description:\n",
    "        Function to perform ADF test on time series to check for stationarity\n",
    "    Inputs:\n",
    "        t_series: Time series to check for stationarity\n",
    "        target_var: Column name of the variable to analyze\n",
    "        confidence: Confidence level set as threshold\n",
    "        key: Print key for treaceability\n",
    "    Outputs:\n",
    "        stat_id: 1 if series is stationary 0 if not.  \n",
    "    '''\n",
    "\n",
    "    result = adfuller(t_series[target_var].dropna())\n",
    "    adf_statistic=result[0]\n",
    "    p_value=result[1]\n",
    "    critical_values=result[4]\n",
    "    print(f\"\\n------ ADF FOR {key} ------\")\n",
    "    print(f'ADF Statistic: {adf_statistic:.4f}')\n",
    "    print(f'p-value: {p_value:.4f}')\n",
    "    print(\"Critical values:\")\n",
    "\n",
    "    for level,value in critical_values.items():\n",
    "        print(f\"    {level}: {value:.4f}\")\n",
    "    if p_value > (1-confidence):\n",
    "        print(f\"Time series {key} non stationary according to ADF test\")\n",
    "        return 0\n",
    "    else:\n",
    "        print(f\"Time series {key}  stationary according to ADF test\")\n",
    "        return 1\n",
    "\n",
    "stat_covid=adf_test(h_covid_data,\"Cases\",0.95,\"Covid series\")\n",
    "stat_mean_temp=adf_test(h_weath_data,\"Mean_Temperature\",0.95,\"Mean temperature series\")\n",
    "stat_min_temp=adf_test(h_weath_data,\"Min_Temperature\",0.95,\"Min temperature series\")\n",
    "stat_max_temp=adf_test(h_weath_data,\"Max_Temperature\",0.95,\"Max temperature series\")\n",
    "stat_max_wind=adf_test(h_weath_data,\"Max_Wind_Speed\",0.95,\"Max wind speed series\")\n",
    "stat_precip=adf_test(h_weath_data,\"Precipitation_Hours\",0.95,\"Precipitation hours temperature series\")\n",
    "stat_rain=adf_test(h_weath_data,\"Rain_Sum\",0.95,\"Rain sum time series\")\n",
    "stat_snow=adf_test(h_weath_data,\"Snowfall_Sum\",0.95,\"Snow sum time series\")\n",
    "\n"
   ]
  },
  {
   "cell_type": "markdown",
   "id": "3ccf1f95",
   "metadata": {},
   "source": [
    "# Feature Engineering\n",
    "\n",
    "Highlights:\n",
    "* Derived features are generated from existing data to add value to input data.\n",
    "* Aggregated covid cases over 1 week window are elaborated as this is the target of prediction\n",
    "* Correlation and cointegration is studied between features and those who show little. Only those features that exhibited strong correlation are kept for the model development.\n",
    "* Fourier components where computed for non stationary features different from covid cases, as it is assumed that this condition is due to stationality"
   ]
  },
  {
   "cell_type": "markdown",
   "id": "0dab5c35",
   "metadata": {},
   "source": [
    "## Derived features"
   ]
  },
  {
   "cell_type": "code",
   "execution_count": 46,
   "id": "a4fba95a",
   "metadata": {},
   "outputs": [],
   "source": [
    "#****************** Weather derived features\n",
    "# Temperature range\n",
    "h_weath_data[\"Temperature_Range\"]=h_weath_data[\"Max_Temperature\"]-h_weath_data[\"Min_Temperature\"]\n",
    "h_weath_data[\"Temperature_Range\"]=round(h_weath_data[\"Temperature_Range\"],2)\n",
    "\n",
    "# Delta Temperature \n",
    "h_weath_data[\"Temperature_Delta\"]=np.zeros(shape=(len(h_weath_data)))\n",
    "h_weath_data[\"Temperature_Delta\"] = h_weath_data[\"Mean_Temperature\"].diff()\n",
    "h_weath_data[\"Temperature_Delta\"]=round(h_weath_data[\"Temperature_Delta\"],2)\n",
    "\n",
    "# Rolling mean\n",
    "h_weath_data[\"Rolling_Mean_Mean_Temp\"]=h_weath_data[\"Mean_Temperature\"].rolling(window=7).mean()\n",
    "h_weath_data[\"Rolling_Mean_Min_Temp\"]=h_weath_data[\"Min_Temperature\"].rolling(window=7).mean()\n",
    "h_weath_data[\"Rolling_Mean_Max_Temp\"]=h_weath_data[\"Max_Temperature\"].rolling(window=7).mean()\n",
    "\n",
    "\n",
    "#****************** Covid derived features\n",
    "# Rolling aggregate\n",
    "h_covid_data[\"Cases_Agg\"]=h_covid_data[\"Cases\"].rolling(window=7).sum() #This will be the target feature!!!!!\n",
    "\n",
    "\n",
    "#****************** Lagged data for 3 5 7 days for both covid data and weather data\n",
    "\n",
    "for i in range(3,9):\n",
    "    #Lagged data for covid\n",
    "    h_covid_data[f\"Cases_lag{i}\"]=h_covid_data[[\"Cases\"]].shift(i).values\n",
    "\n",
    "    #Lagged data for weather\n",
    "    h_weath_data[f\"Max_temp_lag{i}\"]=h_weath_data[[\"Max_Temperature\"]].shift(i).values\n",
    "    h_weath_data[f\"Mean_temp_lag{i}\"]=h_weath_data[[\"Mean_Temperature\"]].shift(i).values\n",
    "    h_weath_data[f\"Min_temp_lag{i}\"]=h_weath_data[[\"Min_Temperature\"]].shift(i).values\n",
    "\n",
    "# Droping NAN\n",
    "\n",
    "h_covid_data.dropna(inplace=True)\n",
    "h_weath_data.dropna(inplace=True)\n",
    "\n"
   ]
  },
  {
   "cell_type": "markdown",
   "id": "709d81f8",
   "metadata": {},
   "source": [
    "## Relation between series\n",
    "\n",
    "Highlights:\n",
    "* Precipitation_Hours, Rain_Sum, Snowfall_Sum, Temperature_Range, Temperature_Delta had little relation to the target feature, and where dropped from the dataset."
   ]
  },
  {
   "cell_type": "code",
   "execution_count": 47,
   "id": "9047d7a5",
   "metadata": {},
   "outputs": [
    {
     "name": "stdout",
     "output_type": "stream",
     "text": [
      " ---------- Relation Between Covid Cases and Mean temperature : ----------\n",
      "Type of relation : Cointegration + Correlation\n",
      "Cointegration: 0.0832\n",
      "correlation: 0.5405\n",
      "\n",
      " ---------- Relation Between Covid Cases and Min temperature : ----------\n",
      "Type of relation : Cointegration + Correlation\n",
      "Cointegration: 0.0249\n",
      "correlation: 0.5480\n",
      "\n",
      " ---------- Relation Between Covid Cases and Max temperature : ----------\n",
      "Type of relation : Cointegration + Correlation\n",
      "Cointegration: 0.1598\n",
      "correlation: 0.4934\n",
      "\n",
      " ---------- Relation Between Covid Cases and Precipitation hours: ----------\n",
      "Type of relation : Cointegration + Correlation\n",
      "Cointegration: 0.3584\n",
      "correlation: 0.2194\n",
      "\n",
      " ---------- Relation Between Covid Cases and Max Wind Speed: ----------\n",
      "Type of relation : Cointegration + Correlation\n",
      "Cointegration: 0.3657\n",
      "correlation: -0.2402\n",
      "\n",
      " ---------- Relation Between Covid Cases and Rain sum: ----------\n",
      "Type of relation : Cointegration + Correlation\n",
      "Cointegration: 0.4181\n",
      "correlation: 0.1290\n",
      "\n",
      " ---------- Relation Between Covid Cases and Snow sum: ----------\n",
      "Type of relation : Cointegration + Correlation\n",
      "Cointegration: 0.4739\n",
      "correlation: -0.1021\n",
      "\n",
      " ---------- Relation Between Covid Cases and Temp range: ----------\n",
      "Type of relation : Cointegration + Correlation\n",
      "Cointegration: 0.3781\n",
      "correlation: 0.0276\n",
      "\n",
      " ---------- Relation Between Covid Cases and Temp delta: ----------\n",
      "Type of relation : Cointegration + Correlation\n",
      "Cointegration: 0.4869\n",
      "correlation: 0.0068\n",
      "\n"
     ]
    }
   ],
   "source": [
    "def relation_series(target_df,type_target,target_var,key_target,secondary_df,type_secondary,secondary_var,key_secondary):\n",
    "    '''\n",
    "    Description:\n",
    "        Function used to analyze the relation between a target series and a secondary series\n",
    "        If both series are stationary cross correlation is used to compute correlation at different time lags\n",
    "        If at least 1 series is non stationary cointegration y used along with correlation to check for relation\n",
    "    \n",
    "    Inputs\n",
    "        target_df (Dataframe): Dataframe containing the target variable of the study\n",
    "        type_target (int): 0 if target_series is non stationary else 1\n",
    "        target_var (str): Column name for target variable\n",
    "        key_target (str): target series id defined by user for traceability\n",
    "        secondary_df (Dataframe): Dataframe containing the secondary features to consider\n",
    "        type_secondary (int): 0 if secondary_series is non stationary 1 if else\n",
    "        secondary_var (str): Column name for secondary variable\n",
    "        key_secondary (str): target series id defined by user for traceability\n",
    "\n",
    "    Returns None\n",
    "    '''\n",
    "    min_date=max(target_df.Date.min(),secondary_df.Date.min())\n",
    "    max_date=min(target_df.Date.max(),secondary_df.Date.max())\n",
    "    \n",
    "    x=target_df[(target_df.Date>=min_date) & (target_df.Date<=max_date)][target_var]\n",
    "    y=secondary_df[(secondary_df.Date>=min_date) & (secondary_df.Date<=max_date)][secondary_var]\n",
    "\n",
    "    print(f\" ---------- Relation Between {key_target} and {key_secondary}: ----------\")\n",
    "    if (type_target==1) | (type_secondary==1):\n",
    "        print(f\"Type of relation : Cross Correlation\")\n",
    "        cross_corr=ccf(x,y)\n",
    "        for lag,value in enumerate(cross_corr[:15]):\n",
    "            print(f\"- lag {lag} - Cross correlation: {value:.4f}\")\n",
    "   \n",
    "    else:\n",
    "        print(f\"Type of relation : Cointegration + Correlation\")\n",
    "        c_coint=coint(x,y,\"n\")\n",
    "        corr=np.corrcoef(x,y)[0,1]\n",
    "        print(f\"Cointegration: {c_coint[1]:.4f}\")\n",
    "        print(f\"correlation: {corr:.4f}\\n\")\n",
    "    \n",
    "    return None\n",
    "\n",
    "#**************************** Checking relation between series\n",
    "#Target variable\n",
    "target_df=h_covid_data\n",
    "type_target=0\n",
    "target_var=\"Cases\"\n",
    "key_target=\"Covid Cases\"\n",
    "\n",
    "#Mean Temperature\n",
    "secondary_df=h_weath_data\n",
    "type_secondary=0\n",
    "secondary_var=\"Mean_Temperature\"\n",
    "key_secondary=\"Mean temperature \"\n",
    "relation_series(target_df,type_target,target_var,key_target,secondary_df,type_secondary,secondary_var,key_secondary)\n",
    "\n",
    "#Min Temperature\n",
    "secondary_df=h_weath_data\n",
    "type_secondary=0\n",
    "secondary_var=\"Min_Temperature\"\n",
    "key_secondary=\"Min temperature \"\n",
    "relation_series(target_df,type_target,target_var,key_target,secondary_df,type_secondary,secondary_var,key_secondary)\n",
    "\n",
    "#Max Temperature\n",
    "secondary_df=h_weath_data\n",
    "type_secondary=0\n",
    "secondary_var=\"Max_Temperature\"\n",
    "key_secondary=\"Max temperature \"\n",
    "relation_series(target_df,type_target,target_var,key_target,secondary_df,type_secondary,secondary_var,key_secondary)\n",
    "\n",
    "#Precipitation\n",
    "secondary_df=h_weath_data\n",
    "type_secondary=0\n",
    "secondary_var=\"Precipitation_Hours\"\n",
    "key_secondary=\"Precipitation hours\"\n",
    "relation_series(target_df,type_target,target_var,key_target,secondary_df,type_secondary,secondary_var,key_secondary)\n",
    "\n",
    "#Max Wind speed\n",
    "secondary_df=h_weath_data\n",
    "type_secondary=0\n",
    "secondary_var=\"Max_Wind_Speed\"\n",
    "key_secondary=\"Max Wind Speed\"\n",
    "relation_series(target_df,type_target,target_var,key_target,secondary_df,type_secondary,secondary_var,key_secondary)\n",
    "\n",
    "#Rain\n",
    "secondary_df=h_weath_data\n",
    "type_secondary=0\n",
    "secondary_var=\"Rain_Sum\"\n",
    "key_secondary=\"Rain sum\"\n",
    "relation_series(target_df,type_target,target_var,key_target,secondary_df,type_secondary,secondary_var,key_secondary)\n",
    "\n",
    "#Snow\n",
    "secondary_df=h_weath_data\n",
    "type_secondary=0\n",
    "secondary_var=\"Snowfall_Sum\"\n",
    "key_secondary=\"Snow sum\"\n",
    "relation_series(target_df,type_target,target_var,key_target,secondary_df,type_secondary,secondary_var,key_secondary)\n",
    "\n",
    "#Temperature Range\n",
    "secondary_df=h_weath_data\n",
    "type_secondary=0\n",
    "secondary_var=\"Temperature_Range\"\n",
    "key_secondary=\"Temp range\"\n",
    "relation_series(target_df,type_target,target_var,key_target,secondary_df,type_secondary,secondary_var,key_secondary)\n",
    "\n",
    "#Temperature Delta\n",
    "secondary_df=h_weath_data\n",
    "type_secondary=0\n",
    "secondary_var=\"Temperature_Delta\"\n",
    "key_secondary=\"Temp delta\"\n",
    "relation_series(target_df,type_target,target_var,key_target,secondary_df,type_secondary,secondary_var,key_secondary)\n"
   ]
  },
  {
   "cell_type": "code",
   "execution_count": 15,
   "id": "35ae2f10",
   "metadata": {},
   "outputs": [
    {
     "data": {
      "application/vnd.microsoft.datawrangler.viewer.v0+json": {
       "columns": [
        {
         "name": "index",
         "rawType": "int64",
         "type": "integer"
        },
        {
         "name": "Year",
         "rawType": "int64",
         "type": "integer"
        },
        {
         "name": "Month",
         "rawType": "int64",
         "type": "integer"
        },
        {
         "name": "Day",
         "rawType": "int64",
         "type": "integer"
        },
        {
         "name": "Date",
         "rawType": "datetime64[ns]",
         "type": "datetime"
        },
        {
         "name": "Mean_Temperature",
         "rawType": "float64",
         "type": "float"
        },
        {
         "name": "Max_Temperature",
         "rawType": "float64",
         "type": "float"
        },
        {
         "name": "Min_Temperature",
         "rawType": "float64",
         "type": "float"
        },
        {
         "name": "Max_Wind_Speed",
         "rawType": "float64",
         "type": "float"
        },
        {
         "name": "Rolling_Mean_Mean_Temp",
         "rawType": "float64",
         "type": "float"
        },
        {
         "name": "Rolling_Mean_Min_Temp",
         "rawType": "float64",
         "type": "float"
        },
        {
         "name": "Rolling_Mean_Max_Temp",
         "rawType": "float64",
         "type": "float"
        },
        {
         "name": "Max_temp_lag3",
         "rawType": "float64",
         "type": "float"
        },
        {
         "name": "Mean_temp_lag3",
         "rawType": "float64",
         "type": "float"
        },
        {
         "name": "Min_temp_lag3",
         "rawType": "float64",
         "type": "float"
        },
        {
         "name": "Max_temp_lag4",
         "rawType": "float64",
         "type": "float"
        },
        {
         "name": "Mean_temp_lag4",
         "rawType": "float64",
         "type": "float"
        },
        {
         "name": "Min_temp_lag4",
         "rawType": "float64",
         "type": "float"
        },
        {
         "name": "Max_temp_lag5",
         "rawType": "float64",
         "type": "float"
        },
        {
         "name": "Mean_temp_lag5",
         "rawType": "float64",
         "type": "float"
        },
        {
         "name": "Min_temp_lag5",
         "rawType": "float64",
         "type": "float"
        },
        {
         "name": "Max_temp_lag6",
         "rawType": "float64",
         "type": "float"
        },
        {
         "name": "Mean_temp_lag6",
         "rawType": "float64",
         "type": "float"
        },
        {
         "name": "Min_temp_lag6",
         "rawType": "float64",
         "type": "float"
        },
        {
         "name": "Max_temp_lag7",
         "rawType": "float64",
         "type": "float"
        },
        {
         "name": "Mean_temp_lag7",
         "rawType": "float64",
         "type": "float"
        },
        {
         "name": "Min_temp_lag7",
         "rawType": "float64",
         "type": "float"
        },
        {
         "name": "Max_temp_lag8",
         "rawType": "float64",
         "type": "float"
        },
        {
         "name": "Mean_temp_lag8",
         "rawType": "float64",
         "type": "float"
        },
        {
         "name": "Min_temp_lag8",
         "rawType": "float64",
         "type": "float"
        }
       ],
       "ref": "e7a3c468-d2ab-4001-8a5a-3a79ea0ba6c1",
       "rows": [
        [
         "8",
         "2024",
         "4",
         "9",
         "2024-04-09 00:00:00",
         "8.0",
         "10.3",
         "5.5",
         "20.9",
         "9.242857142857144",
         "6.114285714285715",
         "12.285714285714286",
         "17.1",
         "13.2",
         "9.8",
         "13.5",
         "10.3",
         "5.1",
         "9.6",
         "6.6",
         "3.9",
         "10.0",
         "7.4",
         "4.2",
         "9.7",
         "7.1",
         "4.6",
         "8.1",
         "6.4",
         "5.2"
        ],
        [
         "9",
         "2024",
         "4",
         "10",
         "2024-04-10 00:00:00",
         "8.0",
         "12.4",
         "2.6",
         "19.9",
         "9.328571428571427",
         "5.885714285714286",
         "12.62857142857143",
         "11.5",
         "9.5",
         "7.7",
         "17.1",
         "13.2",
         "9.8",
         "13.5",
         "10.3",
         "5.1",
         "9.6",
         "6.6",
         "3.9",
         "10.0",
         "7.4",
         "4.2",
         "9.7",
         "7.1",
         "4.6"
        ],
        [
         "10",
         "2024",
         "4",
         "11",
         "2024-04-11 00:00:00",
         "13.2",
         "15.1",
         "11.6",
         "21.3",
         "10.271428571428572",
         "6.985714285714287",
         "13.414285714285715",
         "14.0",
         "9.7",
         "6.6",
         "11.5",
         "9.5",
         "7.7",
         "17.1",
         "13.2",
         "9.8",
         "13.5",
         "10.3",
         "5.1",
         "9.6",
         "6.6",
         "3.9",
         "10.0",
         "7.4",
         "4.2"
        ],
        [
         "11",
         "2024",
         "4",
         "12",
         "2024-04-12 00:00:00",
         "11.6",
         "13.1",
         "10.4",
         "20.6",
         "10.457142857142857",
         "7.742857142857143",
         "13.35714285714286",
         "10.3",
         "8.0",
         "5.5",
         "14.0",
         "9.7",
         "6.6",
         "11.5",
         "9.5",
         "7.7",
         "17.1",
         "13.2",
         "9.8",
         "13.5",
         "10.3",
         "5.1",
         "9.6",
         "6.6",
         "3.9"
        ],
        [
         "12",
         "2024",
         "4",
         "13",
         "2024-04-13 00:00:00",
         "10.3",
         "12.4",
         "7.0",
         "20.1",
         "10.042857142857143",
         "7.342857142857143",
         "12.685714285714285",
         "12.4",
         "8.0",
         "2.6",
         "10.3",
         "8.0",
         "5.5",
         "14.0",
         "9.7",
         "6.6",
         "11.5",
         "9.5",
         "7.7",
         "17.1",
         "13.2",
         "9.8",
         "13.5",
         "10.3",
         "5.1"
        ]
       ],
       "shape": {
        "columns": 29,
        "rows": 5
       }
      },
      "text/html": [
       "<div>\n",
       "<style scoped>\n",
       "    .dataframe tbody tr th:only-of-type {\n",
       "        vertical-align: middle;\n",
       "    }\n",
       "\n",
       "    .dataframe tbody tr th {\n",
       "        vertical-align: top;\n",
       "    }\n",
       "\n",
       "    .dataframe thead th {\n",
       "        text-align: right;\n",
       "    }\n",
       "</style>\n",
       "<table border=\"1\" class=\"dataframe\">\n",
       "  <thead>\n",
       "    <tr style=\"text-align: right;\">\n",
       "      <th></th>\n",
       "      <th>Year</th>\n",
       "      <th>Month</th>\n",
       "      <th>Day</th>\n",
       "      <th>Date</th>\n",
       "      <th>Mean_Temperature</th>\n",
       "      <th>Max_Temperature</th>\n",
       "      <th>Min_Temperature</th>\n",
       "      <th>Max_Wind_Speed</th>\n",
       "      <th>Rolling_Mean_Mean_Temp</th>\n",
       "      <th>Rolling_Mean_Min_Temp</th>\n",
       "      <th>...</th>\n",
       "      <th>Min_temp_lag5</th>\n",
       "      <th>Max_temp_lag6</th>\n",
       "      <th>Mean_temp_lag6</th>\n",
       "      <th>Min_temp_lag6</th>\n",
       "      <th>Max_temp_lag7</th>\n",
       "      <th>Mean_temp_lag7</th>\n",
       "      <th>Min_temp_lag7</th>\n",
       "      <th>Max_temp_lag8</th>\n",
       "      <th>Mean_temp_lag8</th>\n",
       "      <th>Min_temp_lag8</th>\n",
       "    </tr>\n",
       "  </thead>\n",
       "  <tbody>\n",
       "    <tr>\n",
       "      <th>8</th>\n",
       "      <td>2024</td>\n",
       "      <td>4</td>\n",
       "      <td>9</td>\n",
       "      <td>2024-04-09</td>\n",
       "      <td>8.0</td>\n",
       "      <td>10.3</td>\n",
       "      <td>5.5</td>\n",
       "      <td>20.9</td>\n",
       "      <td>9.242857</td>\n",
       "      <td>6.114286</td>\n",
       "      <td>...</td>\n",
       "      <td>3.9</td>\n",
       "      <td>10.0</td>\n",
       "      <td>7.4</td>\n",
       "      <td>4.2</td>\n",
       "      <td>9.7</td>\n",
       "      <td>7.1</td>\n",
       "      <td>4.6</td>\n",
       "      <td>8.1</td>\n",
       "      <td>6.4</td>\n",
       "      <td>5.2</td>\n",
       "    </tr>\n",
       "    <tr>\n",
       "      <th>9</th>\n",
       "      <td>2024</td>\n",
       "      <td>4</td>\n",
       "      <td>10</td>\n",
       "      <td>2024-04-10</td>\n",
       "      <td>8.0</td>\n",
       "      <td>12.4</td>\n",
       "      <td>2.6</td>\n",
       "      <td>19.9</td>\n",
       "      <td>9.328571</td>\n",
       "      <td>5.885714</td>\n",
       "      <td>...</td>\n",
       "      <td>5.1</td>\n",
       "      <td>9.6</td>\n",
       "      <td>6.6</td>\n",
       "      <td>3.9</td>\n",
       "      <td>10.0</td>\n",
       "      <td>7.4</td>\n",
       "      <td>4.2</td>\n",
       "      <td>9.7</td>\n",
       "      <td>7.1</td>\n",
       "      <td>4.6</td>\n",
       "    </tr>\n",
       "    <tr>\n",
       "      <th>10</th>\n",
       "      <td>2024</td>\n",
       "      <td>4</td>\n",
       "      <td>11</td>\n",
       "      <td>2024-04-11</td>\n",
       "      <td>13.2</td>\n",
       "      <td>15.1</td>\n",
       "      <td>11.6</td>\n",
       "      <td>21.3</td>\n",
       "      <td>10.271429</td>\n",
       "      <td>6.985714</td>\n",
       "      <td>...</td>\n",
       "      <td>9.8</td>\n",
       "      <td>13.5</td>\n",
       "      <td>10.3</td>\n",
       "      <td>5.1</td>\n",
       "      <td>9.6</td>\n",
       "      <td>6.6</td>\n",
       "      <td>3.9</td>\n",
       "      <td>10.0</td>\n",
       "      <td>7.4</td>\n",
       "      <td>4.2</td>\n",
       "    </tr>\n",
       "    <tr>\n",
       "      <th>11</th>\n",
       "      <td>2024</td>\n",
       "      <td>4</td>\n",
       "      <td>12</td>\n",
       "      <td>2024-04-12</td>\n",
       "      <td>11.6</td>\n",
       "      <td>13.1</td>\n",
       "      <td>10.4</td>\n",
       "      <td>20.6</td>\n",
       "      <td>10.457143</td>\n",
       "      <td>7.742857</td>\n",
       "      <td>...</td>\n",
       "      <td>7.7</td>\n",
       "      <td>17.1</td>\n",
       "      <td>13.2</td>\n",
       "      <td>9.8</td>\n",
       "      <td>13.5</td>\n",
       "      <td>10.3</td>\n",
       "      <td>5.1</td>\n",
       "      <td>9.6</td>\n",
       "      <td>6.6</td>\n",
       "      <td>3.9</td>\n",
       "    </tr>\n",
       "    <tr>\n",
       "      <th>12</th>\n",
       "      <td>2024</td>\n",
       "      <td>4</td>\n",
       "      <td>13</td>\n",
       "      <td>2024-04-13</td>\n",
       "      <td>10.3</td>\n",
       "      <td>12.4</td>\n",
       "      <td>7.0</td>\n",
       "      <td>20.1</td>\n",
       "      <td>10.042857</td>\n",
       "      <td>7.342857</td>\n",
       "      <td>...</td>\n",
       "      <td>6.6</td>\n",
       "      <td>11.5</td>\n",
       "      <td>9.5</td>\n",
       "      <td>7.7</td>\n",
       "      <td>17.1</td>\n",
       "      <td>13.2</td>\n",
       "      <td>9.8</td>\n",
       "      <td>13.5</td>\n",
       "      <td>10.3</td>\n",
       "      <td>5.1</td>\n",
       "    </tr>\n",
       "  </tbody>\n",
       "</table>\n",
       "<p>5 rows × 29 columns</p>\n",
       "</div>"
      ],
      "text/plain": [
       "    Year  Month  Day       Date  Mean_Temperature  Max_Temperature  \\\n",
       "8   2024      4    9 2024-04-09               8.0             10.3   \n",
       "9   2024      4   10 2024-04-10               8.0             12.4   \n",
       "10  2024      4   11 2024-04-11              13.2             15.1   \n",
       "11  2024      4   12 2024-04-12              11.6             13.1   \n",
       "12  2024      4   13 2024-04-13              10.3             12.4   \n",
       "\n",
       "    Min_Temperature  Max_Wind_Speed  Rolling_Mean_Mean_Temp  \\\n",
       "8               5.5            20.9                9.242857   \n",
       "9               2.6            19.9                9.328571   \n",
       "10             11.6            21.3               10.271429   \n",
       "11             10.4            20.6               10.457143   \n",
       "12              7.0            20.1               10.042857   \n",
       "\n",
       "    Rolling_Mean_Min_Temp  ...  Min_temp_lag5  Max_temp_lag6  Mean_temp_lag6  \\\n",
       "8                6.114286  ...            3.9           10.0             7.4   \n",
       "9                5.885714  ...            5.1            9.6             6.6   \n",
       "10               6.985714  ...            9.8           13.5            10.3   \n",
       "11               7.742857  ...            7.7           17.1            13.2   \n",
       "12               7.342857  ...            6.6           11.5             9.5   \n",
       "\n",
       "    Min_temp_lag6  Max_temp_lag7  Mean_temp_lag7  Min_temp_lag7  \\\n",
       "8             4.2            9.7             7.1            4.6   \n",
       "9             3.9           10.0             7.4            4.2   \n",
       "10            5.1            9.6             6.6            3.9   \n",
       "11            9.8           13.5            10.3            5.1   \n",
       "12            7.7           17.1            13.2            9.8   \n",
       "\n",
       "    Max_temp_lag8  Mean_temp_lag8  Min_temp_lag8  \n",
       "8             8.1             6.4            5.2  \n",
       "9             9.7             7.1            4.6  \n",
       "10           10.0             7.4            4.2  \n",
       "11            9.6             6.6            3.9  \n",
       "12           13.5            10.3            5.1  \n",
       "\n",
       "[5 rows x 29 columns]"
      ]
     },
     "execution_count": 15,
     "metadata": {},
     "output_type": "execute_result"
    }
   ],
   "source": [
    "#Dropping low correlated +Cointegrated features\n",
    "h_weath_data.drop([\"Precipitation_Hours\",\"Rain_Sum\",\"Snowfall_Sum\",\"Temperature_Range\",\"Temperature_Delta\"],axis=\"columns\",inplace=True)\n",
    "h_weath_data.head()"
   ]
  },
  {
   "cell_type": "markdown",
   "id": "c25afcf2",
   "metadata": {},
   "source": [
    "## Fourier transforms for seasonal series"
   ]
  },
  {
   "cell_type": "code",
   "execution_count": null,
   "id": "cc4107b7",
   "metadata": {},
   "outputs": [],
   "source": [
    "def fourier_transform(df, target, key_prefix, n_components=10):\n",
    "    '''\n",
    "    Description:\n",
    "        Creates Fourier transform components for a seasonal feature.\n",
    "\n",
    "    Inputs:\n",
    "        df (Dataframe): DataFrame containing the seasonal feature\n",
    "        target (str): Feature to transform\n",
    "        key_prefix (str): Prefix for naming the new Fourier columns\n",
    "        n_components (int): Number of FFT components to retain (low-frequency, high-energy)\n",
    "\n",
    "    Returns:\n",
    "        df: Updated dataframe with FFT component columns added\n",
    "    '''\n",
    "    values = df[target].values\n",
    "    ft = fft(values)\n",
    "    \n",
    "    # Use magnitude (absolute value) and take only first `n_components` for simplicity\n",
    "    for i in range(n_components):\n",
    "        df[f\"{key_prefix}_Fourier_{i+1}\"] = np.real(ft[i])\n",
    "\n",
    "    return df\n",
    "\n",
    "# Apply to rolling weather data\n",
    "h_weath_data = fourier_transform(h_weath_data, \"Mean_Temperature\", \"Mean_Temp\", n_components=5)\n",
    "h_weath_data = fourier_transform(h_weath_data, \"Max_Temperature\", \"Max_Temp\", n_components=5)\n",
    "h_weath_data = fourier_transform(h_weath_data, \"Min_Temperature\", \"Min_Temp\", n_components=5)\n"
   ]
  },
  {
   "cell_type": "code",
   "execution_count": 17,
   "id": "d269ce77",
   "metadata": {},
   "outputs": [
    {
     "data": {
      "application/vnd.microsoft.datawrangler.viewer.v0+json": {
       "columns": [
        {
         "name": "index",
         "rawType": "int64",
         "type": "integer"
        },
        {
         "name": "Year",
         "rawType": "int64",
         "type": "integer"
        },
        {
         "name": "Month",
         "rawType": "int64",
         "type": "integer"
        },
        {
         "name": "Day",
         "rawType": "int64",
         "type": "integer"
        },
        {
         "name": "Date",
         "rawType": "datetime64[ns]",
         "type": "datetime"
        },
        {
         "name": "Mean_Temperature",
         "rawType": "float64",
         "type": "float"
        },
        {
         "name": "Max_Temperature",
         "rawType": "float64",
         "type": "float"
        },
        {
         "name": "Min_Temperature",
         "rawType": "float64",
         "type": "float"
        },
        {
         "name": "Max_Wind_Speed",
         "rawType": "float64",
         "type": "float"
        },
        {
         "name": "Rolling_Mean_Mean_Temp",
         "rawType": "float64",
         "type": "float"
        },
        {
         "name": "Rolling_Mean_Min_Temp",
         "rawType": "float64",
         "type": "float"
        },
        {
         "name": "Rolling_Mean_Max_Temp",
         "rawType": "float64",
         "type": "float"
        },
        {
         "name": "Max_temp_lag3",
         "rawType": "float64",
         "type": "float"
        },
        {
         "name": "Mean_temp_lag3",
         "rawType": "float64",
         "type": "float"
        },
        {
         "name": "Min_temp_lag3",
         "rawType": "float64",
         "type": "float"
        },
        {
         "name": "Max_temp_lag4",
         "rawType": "float64",
         "type": "float"
        },
        {
         "name": "Mean_temp_lag4",
         "rawType": "float64",
         "type": "float"
        },
        {
         "name": "Min_temp_lag4",
         "rawType": "float64",
         "type": "float"
        },
        {
         "name": "Max_temp_lag5",
         "rawType": "float64",
         "type": "float"
        },
        {
         "name": "Mean_temp_lag5",
         "rawType": "float64",
         "type": "float"
        },
        {
         "name": "Min_temp_lag5",
         "rawType": "float64",
         "type": "float"
        },
        {
         "name": "Max_temp_lag6",
         "rawType": "float64",
         "type": "float"
        },
        {
         "name": "Mean_temp_lag6",
         "rawType": "float64",
         "type": "float"
        },
        {
         "name": "Min_temp_lag6",
         "rawType": "float64",
         "type": "float"
        },
        {
         "name": "Max_temp_lag7",
         "rawType": "float64",
         "type": "float"
        },
        {
         "name": "Mean_temp_lag7",
         "rawType": "float64",
         "type": "float"
        },
        {
         "name": "Min_temp_lag7",
         "rawType": "float64",
         "type": "float"
        },
        {
         "name": "Max_temp_lag8",
         "rawType": "float64",
         "type": "float"
        },
        {
         "name": "Mean_temp_lag8",
         "rawType": "float64",
         "type": "float"
        },
        {
         "name": "Min_temp_lag8",
         "rawType": "float64",
         "type": "float"
        },
        {
         "name": "Mean_Temp_Fourier_1",
         "rawType": "float64",
         "type": "float"
        },
        {
         "name": "Mean_Temp_Fourier_2",
         "rawType": "float64",
         "type": "float"
        },
        {
         "name": "Mean_Temp_Fourier_3",
         "rawType": "float64",
         "type": "float"
        },
        {
         "name": "Mean_Temp_Fourier_4",
         "rawType": "float64",
         "type": "float"
        },
        {
         "name": "Mean_Temp_Fourier_5",
         "rawType": "float64",
         "type": "float"
        },
        {
         "name": "Max_Temp_Fourier_1",
         "rawType": "float64",
         "type": "float"
        },
        {
         "name": "Max_Temp_Fourier_2",
         "rawType": "float64",
         "type": "float"
        },
        {
         "name": "Max_Temp_Fourier_3",
         "rawType": "float64",
         "type": "float"
        },
        {
         "name": "Max_Temp_Fourier_4",
         "rawType": "float64",
         "type": "float"
        },
        {
         "name": "Max_Temp_Fourier_5",
         "rawType": "float64",
         "type": "float"
        },
        {
         "name": "Min_Temp_Fourier_1",
         "rawType": "float64",
         "type": "float"
        },
        {
         "name": "Min_Temp_Fourier_2",
         "rawType": "float64",
         "type": "float"
        },
        {
         "name": "Min_Temp_Fourier_3",
         "rawType": "float64",
         "type": "float"
        },
        {
         "name": "Min_Temp_Fourier_4",
         "rawType": "float64",
         "type": "float"
        },
        {
         "name": "Min_Temp_Fourier_5",
         "rawType": "float64",
         "type": "float"
        }
       ],
       "ref": "64704f4a-3a3a-4048-8ab0-efe14b7a3327",
       "rows": [
        [
         "8",
         "2024",
         "4",
         "9",
         "2024-04-09 00:00:00",
         "8.0",
         "10.3",
         "5.5",
         "20.9",
         "9.242857142857144",
         "6.114285714285715",
         "12.285714285714286",
         "17.1",
         "13.2",
         "9.8",
         "13.5",
         "10.3",
         "5.1",
         "9.6",
         "6.6",
         "3.9",
         "10.0",
         "7.4",
         "4.2",
         "9.7",
         "7.1",
         "4.6",
         "8.1",
         "6.4",
         "5.2",
         "4271.8",
         "386.49401284381753",
         "-62.03924138253587",
         "-31.121269109013312",
         "4.562146208908239",
         "5670.2",
         "572.3447806811381",
         "-84.0263352176114",
         "-86.1623815919965",
         "-33.83443424221266",
         "2830.2",
         "172.1201496638715",
         "-76.13299813172564",
         "-2.0331524957224234",
         "52.802336795258796"
        ],
        [
         "9",
         "2024",
         "4",
         "10",
         "2024-04-10 00:00:00",
         "8.0",
         "12.4",
         "2.6",
         "19.9",
         "9.328571428571427",
         "5.885714285714286",
         "12.62857142857143",
         "11.5",
         "9.5",
         "7.7",
         "17.1",
         "13.2",
         "9.8",
         "13.5",
         "10.3",
         "5.1",
         "9.6",
         "6.6",
         "3.9",
         "10.0",
         "7.4",
         "4.2",
         "9.7",
         "7.1",
         "4.6",
         "4271.8",
         "386.49401284381753",
         "-62.03924138253587",
         "-31.121269109013312",
         "4.562146208908239",
         "5670.2",
         "572.3447806811381",
         "-84.0263352176114",
         "-86.1623815919965",
         "-33.83443424221266",
         "2830.2",
         "172.1201496638715",
         "-76.13299813172564",
         "-2.0331524957224234",
         "52.802336795258796"
        ],
        [
         "10",
         "2024",
         "4",
         "11",
         "2024-04-11 00:00:00",
         "13.2",
         "15.1",
         "11.6",
         "21.3",
         "10.271428571428572",
         "6.985714285714287",
         "13.414285714285715",
         "14.0",
         "9.7",
         "6.6",
         "11.5",
         "9.5",
         "7.7",
         "17.1",
         "13.2",
         "9.8",
         "13.5",
         "10.3",
         "5.1",
         "9.6",
         "6.6",
         "3.9",
         "10.0",
         "7.4",
         "4.2",
         "4271.8",
         "386.49401284381753",
         "-62.03924138253587",
         "-31.121269109013312",
         "4.562146208908239",
         "5670.2",
         "572.3447806811381",
         "-84.0263352176114",
         "-86.1623815919965",
         "-33.83443424221266",
         "2830.2",
         "172.1201496638715",
         "-76.13299813172564",
         "-2.0331524957224234",
         "52.802336795258796"
        ],
        [
         "11",
         "2024",
         "4",
         "12",
         "2024-04-12 00:00:00",
         "11.6",
         "13.1",
         "10.4",
         "20.6",
         "10.457142857142857",
         "7.742857142857143",
         "13.35714285714286",
         "10.3",
         "8.0",
         "5.5",
         "14.0",
         "9.7",
         "6.6",
         "11.5",
         "9.5",
         "7.7",
         "17.1",
         "13.2",
         "9.8",
         "13.5",
         "10.3",
         "5.1",
         "9.6",
         "6.6",
         "3.9",
         "4271.8",
         "386.49401284381753",
         "-62.03924138253587",
         "-31.121269109013312",
         "4.562146208908239",
         "5670.2",
         "572.3447806811381",
         "-84.0263352176114",
         "-86.1623815919965",
         "-33.83443424221266",
         "2830.2",
         "172.1201496638715",
         "-76.13299813172564",
         "-2.0331524957224234",
         "52.802336795258796"
        ],
        [
         "12",
         "2024",
         "4",
         "13",
         "2024-04-13 00:00:00",
         "10.3",
         "12.4",
         "7.0",
         "20.1",
         "10.042857142857143",
         "7.342857142857143",
         "12.685714285714285",
         "12.4",
         "8.0",
         "2.6",
         "10.3",
         "8.0",
         "5.5",
         "14.0",
         "9.7",
         "6.6",
         "11.5",
         "9.5",
         "7.7",
         "17.1",
         "13.2",
         "9.8",
         "13.5",
         "10.3",
         "5.1",
         "4271.8",
         "386.49401284381753",
         "-62.03924138253587",
         "-31.121269109013312",
         "4.562146208908239",
         "5670.2",
         "572.3447806811381",
         "-84.0263352176114",
         "-86.1623815919965",
         "-33.83443424221266",
         "2830.2",
         "172.1201496638715",
         "-76.13299813172564",
         "-2.0331524957224234",
         "52.802336795258796"
        ]
       ],
       "shape": {
        "columns": 44,
        "rows": 5
       }
      },
      "text/html": [
       "<div>\n",
       "<style scoped>\n",
       "    .dataframe tbody tr th:only-of-type {\n",
       "        vertical-align: middle;\n",
       "    }\n",
       "\n",
       "    .dataframe tbody tr th {\n",
       "        vertical-align: top;\n",
       "    }\n",
       "\n",
       "    .dataframe thead th {\n",
       "        text-align: right;\n",
       "    }\n",
       "</style>\n",
       "<table border=\"1\" class=\"dataframe\">\n",
       "  <thead>\n",
       "    <tr style=\"text-align: right;\">\n",
       "      <th></th>\n",
       "      <th>Year</th>\n",
       "      <th>Month</th>\n",
       "      <th>Day</th>\n",
       "      <th>Date</th>\n",
       "      <th>Mean_Temperature</th>\n",
       "      <th>Max_Temperature</th>\n",
       "      <th>Min_Temperature</th>\n",
       "      <th>Max_Wind_Speed</th>\n",
       "      <th>Rolling_Mean_Mean_Temp</th>\n",
       "      <th>Rolling_Mean_Min_Temp</th>\n",
       "      <th>...</th>\n",
       "      <th>Max_Temp_Fourier_1</th>\n",
       "      <th>Max_Temp_Fourier_2</th>\n",
       "      <th>Max_Temp_Fourier_3</th>\n",
       "      <th>Max_Temp_Fourier_4</th>\n",
       "      <th>Max_Temp_Fourier_5</th>\n",
       "      <th>Min_Temp_Fourier_1</th>\n",
       "      <th>Min_Temp_Fourier_2</th>\n",
       "      <th>Min_Temp_Fourier_3</th>\n",
       "      <th>Min_Temp_Fourier_4</th>\n",
       "      <th>Min_Temp_Fourier_5</th>\n",
       "    </tr>\n",
       "  </thead>\n",
       "  <tbody>\n",
       "    <tr>\n",
       "      <th>8</th>\n",
       "      <td>2024</td>\n",
       "      <td>4</td>\n",
       "      <td>9</td>\n",
       "      <td>2024-04-09</td>\n",
       "      <td>8.0</td>\n",
       "      <td>10.3</td>\n",
       "      <td>5.5</td>\n",
       "      <td>20.9</td>\n",
       "      <td>9.242857</td>\n",
       "      <td>6.114286</td>\n",
       "      <td>...</td>\n",
       "      <td>5670.2</td>\n",
       "      <td>572.344781</td>\n",
       "      <td>-84.026335</td>\n",
       "      <td>-86.162382</td>\n",
       "      <td>-33.834434</td>\n",
       "      <td>2830.2</td>\n",
       "      <td>172.12015</td>\n",
       "      <td>-76.132998</td>\n",
       "      <td>-2.033152</td>\n",
       "      <td>52.802337</td>\n",
       "    </tr>\n",
       "    <tr>\n",
       "      <th>9</th>\n",
       "      <td>2024</td>\n",
       "      <td>4</td>\n",
       "      <td>10</td>\n",
       "      <td>2024-04-10</td>\n",
       "      <td>8.0</td>\n",
       "      <td>12.4</td>\n",
       "      <td>2.6</td>\n",
       "      <td>19.9</td>\n",
       "      <td>9.328571</td>\n",
       "      <td>5.885714</td>\n",
       "      <td>...</td>\n",
       "      <td>5670.2</td>\n",
       "      <td>572.344781</td>\n",
       "      <td>-84.026335</td>\n",
       "      <td>-86.162382</td>\n",
       "      <td>-33.834434</td>\n",
       "      <td>2830.2</td>\n",
       "      <td>172.12015</td>\n",
       "      <td>-76.132998</td>\n",
       "      <td>-2.033152</td>\n",
       "      <td>52.802337</td>\n",
       "    </tr>\n",
       "    <tr>\n",
       "      <th>10</th>\n",
       "      <td>2024</td>\n",
       "      <td>4</td>\n",
       "      <td>11</td>\n",
       "      <td>2024-04-11</td>\n",
       "      <td>13.2</td>\n",
       "      <td>15.1</td>\n",
       "      <td>11.6</td>\n",
       "      <td>21.3</td>\n",
       "      <td>10.271429</td>\n",
       "      <td>6.985714</td>\n",
       "      <td>...</td>\n",
       "      <td>5670.2</td>\n",
       "      <td>572.344781</td>\n",
       "      <td>-84.026335</td>\n",
       "      <td>-86.162382</td>\n",
       "      <td>-33.834434</td>\n",
       "      <td>2830.2</td>\n",
       "      <td>172.12015</td>\n",
       "      <td>-76.132998</td>\n",
       "      <td>-2.033152</td>\n",
       "      <td>52.802337</td>\n",
       "    </tr>\n",
       "    <tr>\n",
       "      <th>11</th>\n",
       "      <td>2024</td>\n",
       "      <td>4</td>\n",
       "      <td>12</td>\n",
       "      <td>2024-04-12</td>\n",
       "      <td>11.6</td>\n",
       "      <td>13.1</td>\n",
       "      <td>10.4</td>\n",
       "      <td>20.6</td>\n",
       "      <td>10.457143</td>\n",
       "      <td>7.742857</td>\n",
       "      <td>...</td>\n",
       "      <td>5670.2</td>\n",
       "      <td>572.344781</td>\n",
       "      <td>-84.026335</td>\n",
       "      <td>-86.162382</td>\n",
       "      <td>-33.834434</td>\n",
       "      <td>2830.2</td>\n",
       "      <td>172.12015</td>\n",
       "      <td>-76.132998</td>\n",
       "      <td>-2.033152</td>\n",
       "      <td>52.802337</td>\n",
       "    </tr>\n",
       "    <tr>\n",
       "      <th>12</th>\n",
       "      <td>2024</td>\n",
       "      <td>4</td>\n",
       "      <td>13</td>\n",
       "      <td>2024-04-13</td>\n",
       "      <td>10.3</td>\n",
       "      <td>12.4</td>\n",
       "      <td>7.0</td>\n",
       "      <td>20.1</td>\n",
       "      <td>10.042857</td>\n",
       "      <td>7.342857</td>\n",
       "      <td>...</td>\n",
       "      <td>5670.2</td>\n",
       "      <td>572.344781</td>\n",
       "      <td>-84.026335</td>\n",
       "      <td>-86.162382</td>\n",
       "      <td>-33.834434</td>\n",
       "      <td>2830.2</td>\n",
       "      <td>172.12015</td>\n",
       "      <td>-76.132998</td>\n",
       "      <td>-2.033152</td>\n",
       "      <td>52.802337</td>\n",
       "    </tr>\n",
       "  </tbody>\n",
       "</table>\n",
       "<p>5 rows × 44 columns</p>\n",
       "</div>"
      ],
      "text/plain": [
       "    Year  Month  Day       Date  Mean_Temperature  Max_Temperature  \\\n",
       "8   2024      4    9 2024-04-09               8.0             10.3   \n",
       "9   2024      4   10 2024-04-10               8.0             12.4   \n",
       "10  2024      4   11 2024-04-11              13.2             15.1   \n",
       "11  2024      4   12 2024-04-12              11.6             13.1   \n",
       "12  2024      4   13 2024-04-13              10.3             12.4   \n",
       "\n",
       "    Min_Temperature  Max_Wind_Speed  Rolling_Mean_Mean_Temp  \\\n",
       "8               5.5            20.9                9.242857   \n",
       "9               2.6            19.9                9.328571   \n",
       "10             11.6            21.3               10.271429   \n",
       "11             10.4            20.6               10.457143   \n",
       "12              7.0            20.1               10.042857   \n",
       "\n",
       "    Rolling_Mean_Min_Temp  ...  Max_Temp_Fourier_1  Max_Temp_Fourier_2  \\\n",
       "8                6.114286  ...              5670.2          572.344781   \n",
       "9                5.885714  ...              5670.2          572.344781   \n",
       "10               6.985714  ...              5670.2          572.344781   \n",
       "11               7.742857  ...              5670.2          572.344781   \n",
       "12               7.342857  ...              5670.2          572.344781   \n",
       "\n",
       "    Max_Temp_Fourier_3  Max_Temp_Fourier_4  Max_Temp_Fourier_5  \\\n",
       "8           -84.026335          -86.162382          -33.834434   \n",
       "9           -84.026335          -86.162382          -33.834434   \n",
       "10          -84.026335          -86.162382          -33.834434   \n",
       "11          -84.026335          -86.162382          -33.834434   \n",
       "12          -84.026335          -86.162382          -33.834434   \n",
       "\n",
       "    Min_Temp_Fourier_1  Min_Temp_Fourier_2  Min_Temp_Fourier_3  \\\n",
       "8               2830.2           172.12015          -76.132998   \n",
       "9               2830.2           172.12015          -76.132998   \n",
       "10              2830.2           172.12015          -76.132998   \n",
       "11              2830.2           172.12015          -76.132998   \n",
       "12              2830.2           172.12015          -76.132998   \n",
       "\n",
       "    Min_Temp_Fourier_4  Min_Temp_Fourier_5  \n",
       "8            -2.033152           52.802337  \n",
       "9            -2.033152           52.802337  \n",
       "10           -2.033152           52.802337  \n",
       "11           -2.033152           52.802337  \n",
       "12           -2.033152           52.802337  \n",
       "\n",
       "[5 rows x 44 columns]"
      ]
     },
     "execution_count": 17,
     "metadata": {},
     "output_type": "execute_result"
    }
   ],
   "source": [
    "#Checking results\n",
    "h_weath_data.head()"
   ]
  },
  {
   "cell_type": "markdown",
   "id": "8413a760",
   "metadata": {},
   "source": [
    "# Model Development\n",
    "\n",
    "Highlights:\n",
    "* Two models were selected to forecast weekly aggregated COVID-19 cases: XGBoost (XGB) and LightGBM (LGBM).\n",
    "* Logarithm transformation is applied on weekly aggregated COVID-19 cases to mitigate the impact of peaks on the model training.\n",
    "* A walk-forward validation strategy was implemented to evaluate and optimize model performance. This involved splitting the dataset into training, validation, and test sets (Test set ~20%) in a time-consistent manner.\n",
    "* Bayesian optimization using Optuna was applied to tune hyperparameters for both models, with the objective of maximizing the r2 score on the validation set.\n",
    "* While both models performed well, XGBoost slightly outperformed LightGBM. As a result, XGBoost was selected as the final model after dropping irrelevant features and repeating the Bayesian optimization on the refined feature set. Only lagged data of covid cases turned to be relevant for the prediction, whereas weather data turned to add low information to the model.\n"
   ]
  },
  {
   "cell_type": "markdown",
   "id": "1e775c04",
   "metadata": {},
   "source": [
    "## XGB implementation with default parameteres"
   ]
  },
  {
   "cell_type": "code",
   "execution_count": 18,
   "id": "38103d4b",
   "metadata": {},
   "outputs": [
    {
     "name": "stdout",
     "output_type": "stream",
     "text": [
      "Walk-forward Results \n",
      "Mean Train RMSE 1.2068863442537685\n",
      "Mean validation RMSE: 344.3406353070422\n",
      "Average r2 score 0.06198780554552873\n"
     ]
    },
    {
     "data": {
      "image/png": "[encoded data removed]",
      "text/plain": [
       "<Figure size 640x480 with 1 Axes>"
      ]
     },
     "metadata": {},
     "output_type": "display_data"
    }
   ],
   "source": [
    "#************************ Data merge and train-test split\n",
    "# Data merge\n",
    "# Contrary to ARIMAX implementation lagged features and rolling means are kept in the dataset\n",
    "compiled_data=h_covid_data.merge(h_weath_data,how=\"inner\",on=\"Date\",suffixes=[\"_covid\",\"_weather\"])\n",
    "compiled_data.drop([\"Year_covid\",\"Year_weather\",\"Month_covid\",\"Day_covid\",\"Date\",\"Month_weather\",\"Day_weather\",\"Cases\"],axis=\"columns\",inplace=True)\n",
    "compiled_data.dropna(inplace=True)\n",
    "compiled_data.head()\n",
    "model_data=compiled_data.copy() #Compiled data used to model purposes\n",
    "\n",
    "train_val_data=model_data.loc[:int(0.8*len(model_data)),:]\n",
    "\n",
    "#********************** Walk forward train and validation\n",
    "#Time window definition\n",
    "time_window=26*7 #Representing half year\n",
    "time_step=7\n",
    "val_size=30\n",
    "n_steps=int((len(train_val_data)-time_window)/time_step)\n",
    "\n",
    "#List to store parameters, train loss and validation loss\n",
    "params=[]\n",
    "train_loss=[]\n",
    "val_loss=[]\n",
    "scaler_list=[]\n",
    "r2_list=[]\n",
    "\n",
    "xgb_results=pd.DataFrame(columns=[\"train_loss\",\"val_loss\",\"test_loss\"])\n",
    "\n",
    "for step in range(n_steps):\n",
    "    #set moving start and end positions for train and validation set\n",
    "    train_start=step\n",
    "    train_end=train_start+time_window\n",
    "\n",
    "    if train_end + val_size + time_step > len(train_val_data): # Avoid index error at the end\n",
    "        break  \n",
    "\n",
    "    #Data split into train and validation\n",
    "    train_data=train_val_data.loc[train_start:train_end,:]\n",
    "    X_train=train_data.drop(\"Cases_Agg\",axis=\"columns\")\n",
    "    y_train=train_data.Cases_Agg\n",
    "    y_train_log=np.log1p(y_train)\n",
    "\n",
    "    val_data=train_val_data.loc[train_end+1 : train_end+1+val_size,:]\n",
    "    X_val=val_data.drop(\"Cases_Agg\",axis=\"columns\")\n",
    "    y_val=val_data.Cases_Agg\n",
    "    y_val_log=np.log1p(y_val)\n",
    "\n",
    "\n",
    "    #Scaling data\n",
    "    scaler=MinMaxScaler()\n",
    "    X_train_scaled=scaler.fit_transform(X_train)\n",
    "    X_val_scaled=scaler.transform(X_val)\n",
    "    scaler_list.append(scaler)\n",
    "\n",
    "    #Model fit and validation\n",
    "    xgb_model=XGBRegressor()\n",
    "    xgb_model.fit(X_train_scaled,y_train_log)\n",
    "    params.append(xgb_model.get_params())\n",
    "\n",
    "    #train Loss compute\n",
    "    train_pred=xgb_model.predict(X_train_scaled)\n",
    "    train_portion_loss=root_mean_squared_error(y_train,np.expm1(train_pred))\n",
    "    train_loss.append(train_portion_loss)\n",
    "\n",
    "    #Validation Loss compute\n",
    "    val_pred=xgb_model.predict(X_val_scaled)\n",
    "    val_portion_loss=root_mean_squared_error(y_val,np.expm1(val_pred))\n",
    "    val_loss.append(val_portion_loss)\n",
    "\n",
    "    #R2 compute\n",
    "    r2_list.append(r2_score(y_val,np.expm1(val_pred)))\n",
    "\n",
    "#************************* Printing validation\n",
    "print(f\"Walk-forward Results \\nMean Train RMSE {sum(train_loss)/len(train_loss)}\\nMean validation RMSE: {sum(val_loss)/len(val_loss)}\")\n",
    "print(f\"Average r2 score {sum(r2_list)/len(r2_list)}\")\n",
    "#Dataframe to store results\n",
    "xgb_results[\"train_loss\"]=train_loss\n",
    "xgb_results[\"val_loss\"]=val_loss\n",
    "\n",
    "\n",
    "xgb_results[[\"train_loss\",\"val_loss\"]].plot(kind=\"bar\")\n",
    "plt.title(\"Train and validation loss\")\n",
    "plt.xticks(list(range(0,len(xgb_results),4)),[str(tick) for tick in list(range(0,len(xgb_results),4))]);"
   ]
  },
  {
   "cell_type": "markdown",
   "id": "8f691ec5",
   "metadata": {},
   "source": [
    "## XGB implementation with high regularization"
   ]
  },
  {
   "cell_type": "code",
   "execution_count": 19,
   "id": "55e0df5b",
   "metadata": {},
   "outputs": [
    {
     "name": "stdout",
     "output_type": "stream",
     "text": [
      "Walk-forward Results \n",
      "Mean Train RMSE 35.23286946737361\n",
      "Mean validation RMSE: 368.4997872392285\n",
      "Average r2 score 0.06819690855559364\n"
     ]
    },
    {
     "data": {
      "image/png": "[encoded data removed]",
      "text/plain": [
       "<Figure size 640x480 with 1 Axes>"
      ]
     },
     "metadata": {},
     "output_type": "display_data"
    }
   ],
   "source": [
    "def model_train(in_data,model,time_window,time_step,val_size):\n",
    "    '''   \n",
    "    Description:\n",
    "        Validates a time series forecasting model XGBoost using walk-forward validation.\n",
    "        During each iteration, the model is trained on a rolling time window and validated on the following window.\n",
    "        RMSE and R² scores are computed for each step to evaluate performance.\n",
    "\n",
    "    Inputs:\n",
    "        in_data (DataFrame): Full input dataset containing features and the target variable `Cases_Agg`.\n",
    "        model (Regressor): An instantiated XGBRegressor \n",
    "        time_window (int): Number of time steps to use for each training window.\n",
    "        time_step (int): Step size for shifting the time window in each iteration.\n",
    "        val_size (int): Number of time steps to reserve for validation in each iteration.\n",
    "\n",
    "    Returns:\n",
    "        val_avg_error (float): Average validation RMSE across all walk-forward iterations.\n",
    "        xgb_results (DataFrame): DataFrame with training and validation RMSEs per iteration.\n",
    "        avg_r2 (float): Average R² score across all validation windows.\n",
    "        model (Regressor): The model fitted on the final iteration of the walk-forward process.\n",
    "\n",
    "    Note:\n",
    "        - The returned model is only trained on the **last time window**, not the entire dataset.\n",
    "        - The target variable is log-transformed during training for stability, and errors are computed on the original scale.\n",
    "    '''\n",
    "    #Train test split\n",
    "    train_val_data=in_data.loc[:int(0.8*len(in_data)),:]\n",
    "\n",
    "    #********************** Walk forward train and validation\n",
    "    #Time window definitnion\n",
    "    n_steps=int((len(train_val_data)-time_window)/time_step)\n",
    "\n",
    "    #List to store parameters, train loss and validation loss\n",
    "    train_loss=[]\n",
    "    val_loss=[]\n",
    "    scaler_list=[]\n",
    "    r2_list=[]\n",
    "\n",
    "    xgb_results=pd.DataFrame(columns=[\"train_loss\",\"val_loss\",\"test_loss\"])\n",
    "\n",
    "    for step in range(n_steps):\n",
    "        #set moving start and end positions for train and validation set\n",
    "        train_start=step\n",
    "        train_end=train_start+time_window\n",
    "\n",
    "        if train_end + val_size + time_step > len(train_val_data): # Avoid index error at the end\n",
    "            break  \n",
    "\n",
    "        #Data split into train and validation\n",
    "        train_data=train_val_data.loc[train_start:train_end,:]\n",
    "        X_train=train_data.drop(\"Cases_Agg\",axis=\"columns\")\n",
    "        y_train=train_data.Cases_Agg\n",
    "        y_train_log=np.log1p(y_train)\n",
    "\n",
    "        val_data=train_val_data.loc[train_end+1 : train_end+1+val_size,:]\n",
    "        X_val=val_data.drop(\"Cases_Agg\",axis=\"columns\")\n",
    "        y_val=val_data.Cases_Agg\n",
    "        y_val_log=np.log1p(y_val)\n",
    "\n",
    "\n",
    "        #Scaling data\n",
    "        scaler=MinMaxScaler()\n",
    "        X_train_scaled=scaler.fit_transform(X_train)\n",
    "        X_val_scaled=scaler.transform(X_val)\n",
    "        scaler_list.append(scaler)\n",
    "\n",
    "        #Model fit and validation\n",
    "        model.fit(X_train_scaled,y_train_log)\n",
    "        params.append(model.get_params())\n",
    "\n",
    "        #train Loss compute\n",
    "        train_pred=model.predict(X_train_scaled)\n",
    "        train_portion_loss=root_mean_squared_error(y_train,np.expm1(train_pred))\n",
    "        train_loss.append(train_portion_loss)\n",
    "\n",
    "        #Validation Loss compute\n",
    "        val_pred=model.predict(X_val_scaled)\n",
    "        val_portion_loss=root_mean_squared_error(y_val,np.expm1(val_pred))\n",
    "        val_loss.append(val_portion_loss)\n",
    "\n",
    "        #R2 compute\n",
    "        r2_list.append(r2_score(y_val,np.expm1(val_pred)))\n",
    "\n",
    "    #************************* storing train and validation loss\n",
    "    train_avg_error=sum(train_loss)/len(train_loss)\n",
    "    val_avg_error=sum(val_loss)/len(val_loss)\n",
    "    avg_r2=sum(r2_list)/len(r2_list)\n",
    "    print(f\"Walk-forward Results \\nMean Train RMSE {train_avg_error}\\nMean validation RMSE: {val_avg_error}\")\n",
    "    print(f\"Average r2 score {avg_r2}\")\n",
    "    #Dataframe to store results\n",
    "    xgb_results[\"train_loss\"]=train_loss\n",
    "    xgb_results[\"val_loss\"]=val_loss\n",
    "\n",
    "    return val_avg_error,xgb_results,avg_r2,xgb_model\n",
    "\n",
    "#Setting hyperparameters for XGB model\n",
    "l2=5\n",
    "l_rate=0.05\n",
    "n_estimators=200\n",
    "max_depth=3\n",
    "xgb_model=XGBRegressor(reg_lambda=l2,learning_rate=l_rate,n_estimators=n_estimators,max_depth=max_depth)\n",
    "_,xgb_results,r2,_=model_train(model_data,xgb_model,time_window=26*7,time_step=7,val_size=30)\n",
    "\n",
    "#Printing validation\n",
    "xgb_results[[\"train_loss\",\"val_loss\"]].plot(kind=\"bar\")\n",
    "plt.title(\"Train and validation loss\")\n",
    "plt.xticks(list(range(0,len(xgb_results),4)),[str(tick) for tick in list(range(0,len(xgb_results),4))]);\n"
   ]
  },
  {
   "cell_type": "markdown",
   "id": "cc367227",
   "metadata": {},
   "source": [
    "## XGB Optuna implementation"
   ]
  },
  {
   "cell_type": "code",
   "execution_count": 20,
   "id": "f23d92f5",
   "metadata": {},
   "outputs": [
    {
     "name": "stderr",
     "output_type": "stream",
     "text": [
      "[I 2025-06-14 12:29:19,120] A new study created in memory with name: no-name-5ebcc046-f729-4da2-8dda-0d9e551eb494\n",
      "[I 2025-06-14 12:29:32,522] Trial 0 finished with value: -1.042939063958217 and parameters: {'eta': 0.003227605677434487, 'max_depth': 16, 'reg_lambda': 8.225015999290141, 'n_estimators': 380}. Best is trial 0 with value: -1.042939063958217.\n"
     ]
    },
    {
     "name": "stdout",
     "output_type": "stream",
     "text": [
      "Walk-forward Results \n",
      "Mean Train RMSE 330.97090985682206\n",
      "Mean validation RMSE: 547.9252920786615\n",
      "Average r2 score -1.042939063958217\n"
     ]
    },
    {
     "name": "stderr",
     "output_type": "stream",
     "text": [
      "[I 2025-06-14 12:29:41,607] Trial 1 finished with value: -1.0793749428444088 and parameters: {'eta': 0.003849832376032859, 'max_depth': 6, 'reg_lambda': 5.306506775385836, 'n_estimators': 300}. Best is trial 0 with value: -1.042939063958217.\n"
     ]
    },
    {
     "name": "stdout",
     "output_type": "stream",
     "text": [
      "Walk-forward Results \n",
      "Mean Train RMSE 330.99659945972303\n",
      "Mean validation RMSE: 546.3163942279252\n",
      "Average r2 score -1.0793749428444088\n"
     ]
    },
    {
     "name": "stderr",
     "output_type": "stream",
     "text": [
      "[I 2025-06-14 12:29:44,372] Trial 2 finished with value: -0.26458300893008885 and parameters: {'eta': 0.3688664209176537, 'max_depth': 6, 'reg_lambda': 7.079634086684545, 'n_estimators': 190}. Best is trial 2 with value: -0.26458300893008885.\n"
     ]
    },
    {
     "name": "stdout",
     "output_type": "stream",
     "text": [
      "Walk-forward Results \n",
      "Mean Train RMSE 1.6476090761494249\n",
      "Mean validation RMSE: 416.40018336950783\n",
      "Average r2 score -0.26458300893008885\n"
     ]
    },
    {
     "name": "stderr",
     "output_type": "stream",
     "text": [
      "[I 2025-06-14 12:29:57,056] Trial 3 finished with value: -0.22180030967212813 and parameters: {'eta': 0.03754625644283591, 'max_depth': 12, 'reg_lambda': 5.2625343501085995, 'n_estimators': 230}. Best is trial 3 with value: -0.22180030967212813.\n"
     ]
    },
    {
     "name": "stdout",
     "output_type": "stream",
     "text": [
      "Walk-forward Results \n",
      "Mean Train RMSE 8.458744363762506\n",
      "Mean validation RMSE: 403.19632917364714\n",
      "Average r2 score -0.22180030967212813\n"
     ]
    },
    {
     "name": "stderr",
     "output_type": "stream",
     "text": [
      "[I 2025-06-14 12:30:14,297] Trial 4 finished with value: -0.20931443216309403 and parameters: {'eta': 0.007171177727409754, 'max_depth': 12, 'reg_lambda': 2.6534510404217784, 'n_estimators': 380}. Best is trial 4 with value: -0.20931443216309403.\n"
     ]
    },
    {
     "name": "stdout",
     "output_type": "stream",
     "text": [
      "Walk-forward Results \n",
      "Mean Train RMSE 101.81498584062354\n",
      "Mean validation RMSE: 393.68518611364385\n",
      "Average r2 score -0.20931443216309403\n"
     ]
    },
    {
     "name": "stderr",
     "output_type": "stream",
     "text": [
      "[I 2025-06-14 12:30:17,756] Trial 5 finished with value: -0.13208664303713635 and parameters: {'eta': 0.8597717552190267, 'max_depth': 16, 'reg_lambda': 1.5795532285355107, 'n_estimators': 270}. Best is trial 5 with value: -0.13208664303713635.\n"
     ]
    },
    {
     "name": "stdout",
     "output_type": "stream",
     "text": [
      "Walk-forward Results \n",
      "Mean Train RMSE 1.0943097657304768\n",
      "Mean validation RMSE: 438.8644498428296\n",
      "Average r2 score -0.13208664303713635\n"
     ]
    },
    {
     "name": "stderr",
     "output_type": "stream",
     "text": [
      "[I 2025-06-14 12:30:22,404] Trial 6 finished with value: -0.22376392513843185 and parameters: {'eta': 0.015223616453334997, 'max_depth': 4, 'reg_lambda': 5.893454918439419, 'n_estimators': 230}. Best is trial 5 with value: -0.13208664303713635.\n"
     ]
    },
    {
     "name": "stdout",
     "output_type": "stream",
     "text": [
      "Walk-forward Results \n",
      "Mean Train RMSE 96.21331454541733\n",
      "Mean validation RMSE: 390.0552623222823\n",
      "Average r2 score -0.22376392513843185\n"
     ]
    },
    {
     "name": "stderr",
     "output_type": "stream",
     "text": [
      "[I 2025-06-14 12:30:25,742] Trial 7 finished with value: -0.6209982518063729 and parameters: {'eta': 0.8626072105085629, 'max_depth': 16, 'reg_lambda': 7.302450665004679, 'n_estimators': 230}. Best is trial 5 with value: -0.13208664303713635.\n"
     ]
    },
    {
     "name": "stdout",
     "output_type": "stream",
     "text": [
      "Walk-forward Results \n",
      "Mean Train RMSE 1.4212848365894768\n",
      "Mean validation RMSE: 492.9735979459652\n",
      "Average r2 score -0.6209982518063729\n"
     ]
    },
    {
     "name": "stderr",
     "output_type": "stream",
     "text": [
      "[I 2025-06-14 12:30:32,319] Trial 8 finished with value: -0.35734957023164265 and parameters: {'eta': 0.15963635361334605, 'max_depth': 8, 'reg_lambda': 9.072642637808634, 'n_estimators': 370}. Best is trial 5 with value: -0.13208664303713635.\n"
     ]
    },
    {
     "name": "stdout",
     "output_type": "stream",
     "text": [
      "Walk-forward Results \n",
      "Mean Train RMSE 1.6731669699185674\n",
      "Mean validation RMSE: 423.665183608193\n",
      "Average r2 score -0.35734957023164265\n"
     ]
    },
    {
     "name": "stderr",
     "output_type": "stream",
     "text": [
      "[I 2025-06-14 12:30:35,789] Trial 9 finished with value: -2.429434611759787 and parameters: {'eta': 0.0011144593710735726, 'max_depth': 14, 'reg_lambda': 8.263534761280669, 'n_estimators': 110}. Best is trial 5 with value: -0.13208664303713635.\n"
     ]
    },
    {
     "name": "stdout",
     "output_type": "stream",
     "text": [
      "Walk-forward Results \n",
      "Mean Train RMSE 692.8800062596694\n",
      "Mean validation RMSE: 817.6399135072699\n",
      "Average r2 score -2.429434611759787\n"
     ]
    },
    {
     "name": "stderr",
     "output_type": "stream",
     "text": [
      "[I 2025-06-14 12:30:38,947] Trial 10 finished with value: 0.34822169244605566 and parameters: {'eta': 0.0745918842804107, 'max_depth': 2, 'reg_lambda': 1.1347655834473205, 'n_estimators': 310}. Best is trial 10 with value: 0.34822169244605566.\n"
     ]
    },
    {
     "name": "stdout",
     "output_type": "stream",
     "text": [
      "Walk-forward Results \n",
      "Mean Train RMSE 30.7233379120377\n",
      "Mean validation RMSE: 340.44571134578894\n",
      "Average r2 score 0.34822169244605566\n"
     ]
    },
    {
     "name": "stderr",
     "output_type": "stream",
     "text": [
      "[I 2025-06-14 12:30:42,236] Trial 11 finished with value: 0.3698858046253982 and parameters: {'eta': 0.08352605158986214, 'max_depth': 2, 'reg_lambda': 1.0387737159808201, 'n_estimators': 310}. Best is trial 11 with value: 0.3698858046253982.\n"
     ]
    },
    {
     "name": "stdout",
     "output_type": "stream",
     "text": [
      "Walk-forward Results \n",
      "Mean Train RMSE 26.30387496085382\n",
      "Mean validation RMSE: 336.98135713243187\n",
      "Average r2 score 0.3698858046253982\n"
     ]
    },
    {
     "name": "stderr",
     "output_type": "stream",
     "text": [
      "[I 2025-06-14 12:30:45,620] Trial 12 finished with value: 0.3174584799140025 and parameters: {'eta': 0.07251196253210995, 'max_depth': 2, 'reg_lambda': 3.1139306043270887, 'n_estimators': 320}. Best is trial 11 with value: 0.3698858046253982.\n"
     ]
    },
    {
     "name": "stdout",
     "output_type": "stream",
     "text": [
      "Walk-forward Results \n",
      "Mean Train RMSE 34.86276348008246\n",
      "Mean validation RMSE: 345.05705758969816\n",
      "Average r2 score 0.3174584799140025\n"
     ]
    },
    {
     "name": "stderr",
     "output_type": "stream",
     "text": [
      "[I 2025-06-14 12:30:48,879] Trial 13 finished with value: 0.3727522201617461 and parameters: {'eta': 0.09852869087955562, 'max_depth': 2, 'reg_lambda': 1.0685747747811187, 'n_estimators': 330}. Best is trial 13 with value: 0.3727522201617461.\n"
     ]
    },
    {
     "name": "stdout",
     "output_type": "stream",
     "text": [
      "Walk-forward Results \n",
      "Mean Train RMSE 19.3587640231033\n",
      "Mean validation RMSE: 335.26573009287904\n",
      "Average r2 score 0.3727522201617461\n"
     ]
    },
    {
     "name": "stderr",
     "output_type": "stream",
     "text": [
      "[I 2025-06-14 12:30:52,534] Trial 14 finished with value: -0.027453333907350694 and parameters: {'eta': 0.18708995676717644, 'max_depth': 4, 'reg_lambda': 3.255618081446264, 'n_estimators': 350}. Best is trial 13 with value: 0.3727522201617461.\n"
     ]
    },
    {
     "name": "stdout",
     "output_type": "stream",
     "text": [
      "Walk-forward Results \n",
      "Mean Train RMSE 1.920780328145874\n",
      "Mean validation RMSE: 370.85408316635437\n",
      "Average r2 score -0.027453333907350694\n"
     ]
    },
    {
     "name": "stderr",
     "output_type": "stream",
     "text": [
      "[I 2025-06-14 12:30:55,349] Trial 15 finished with value: 0.22808822703882212 and parameters: {'eta': 0.023403704575452766, 'max_depth': 2, 'reg_lambda': 2.137669480771444, 'n_estimators': 280}. Best is trial 13 with value: 0.3727522201617461.\n"
     ]
    },
    {
     "name": "stdout",
     "output_type": "stream",
     "text": [
      "Walk-forward Results \n",
      "Mean Train RMSE 86.98337854385186\n",
      "Mean validation RMSE: 352.6427501374355\n",
      "Average r2 score 0.22808822703882212\n"
     ]
    },
    {
     "name": "stderr",
     "output_type": "stream",
     "text": [
      "[I 2025-06-14 12:31:12,484] Trial 16 finished with value: -0.1323401582393485 and parameters: {'eta': 0.06647823646491012, 'max_depth': 8, 'reg_lambda': 3.5284252954106283, 'n_estimators': 340}. Best is trial 13 with value: 0.3727522201617461.\n"
     ]
    },
    {
     "name": "stdout",
     "output_type": "stream",
     "text": [
      "Walk-forward Results \n",
      "Mean Train RMSE 1.384987118067523\n",
      "Mean validation RMSE: 388.1787372594223\n",
      "Average r2 score -0.1323401582393485\n"
     ]
    },
    {
     "name": "stderr",
     "output_type": "stream",
     "text": [
      "[I 2025-06-14 12:31:16,866] Trial 17 finished with value: -0.005977269429907037 and parameters: {'eta': 0.30980059242405206, 'max_depth': 4, 'reg_lambda': 4.191389225695099, 'n_estimators': 170}. Best is trial 13 with value: 0.3727522201617461.\n"
     ]
    },
    {
     "name": "stdout",
     "output_type": "stream",
     "text": [
      "Walk-forward Results \n",
      "Mean Train RMSE 1.8413024076419702\n",
      "Mean validation RMSE: 377.7599898860792\n",
      "Average r2 score -0.005977269429907037\n"
     ]
    },
    {
     "name": "stderr",
     "output_type": "stream",
     "text": [
      "[I 2025-06-14 12:31:24,040] Trial 18 finished with value: 0.18279443986624305 and parameters: {'eta': 0.1386848163568764, 'max_depth': 6, 'reg_lambda': 1.0407732622154153, 'n_estimators': 400}. Best is trial 13 with value: 0.3727522201617461.\n"
     ]
    },
    {
     "name": "stdout",
     "output_type": "stream",
     "text": [
      "Walk-forward Results \n",
      "Mean Train RMSE 1.1847979187068594\n",
      "Mean validation RMSE: 332.15719373611887\n",
      "Average r2 score 0.18279443986624305\n"
     ]
    },
    {
     "name": "stderr",
     "output_type": "stream",
     "text": [
      "[I 2025-06-14 12:31:44,545] Trial 19 finished with value: -0.20847499820970572 and parameters: {'eta': 0.03718537107170406, 'max_depth': 10, 'reg_lambda': 4.232878509820934, 'n_estimators': 270}. Best is trial 13 with value: 0.3727522201617461.\n"
     ]
    },
    {
     "name": "stdout",
     "output_type": "stream",
     "text": [
      "Walk-forward Results \n",
      "Mean Train RMSE 4.482783788795166\n",
      "Mean validation RMSE: 397.1328301473404\n",
      "Average r2 score -0.20847499820970572\n"
     ]
    },
    {
     "name": "stderr",
     "output_type": "stream",
     "text": [
      "[I 2025-06-14 12:31:54,098] Trial 20 finished with value: 0.0641154307125172 and parameters: {'eta': 0.014133094605964736, 'max_depth': 4, 'reg_lambda': 2.2578919530762187, 'n_estimators': 340}. Best is trial 13 with value: 0.3727522201617461.\n"
     ]
    },
    {
     "name": "stdout",
     "output_type": "stream",
     "text": [
      "Walk-forward Results \n",
      "Mean Train RMSE 37.59292630054681\n",
      "Mean validation RMSE: 355.2820904956423\n",
      "Average r2 score 0.0641154307125172\n"
     ]
    },
    {
     "name": "stderr",
     "output_type": "stream",
     "text": [
      "[I 2025-06-14 12:31:58,946] Trial 21 finished with value: 0.3840512363643157 and parameters: {'eta': 0.08114607695574447, 'max_depth': 2, 'reg_lambda': 1.0375610503129125, 'n_estimators': 310}. Best is trial 21 with value: 0.3840512363643157.\n"
     ]
    },
    {
     "name": "stdout",
     "output_type": "stream",
     "text": [
      "Walk-forward Results \n",
      "Mean Train RMSE 27.495475767764873\n",
      "Mean validation RMSE: 334.2396223816715\n",
      "Average r2 score 0.3840512363643157\n"
     ]
    },
    {
     "name": "stderr",
     "output_type": "stream",
     "text": [
      "[I 2025-06-14 12:32:03,214] Trial 22 finished with value: 0.36063894108910055 and parameters: {'eta': 0.07880585888052573, 'max_depth': 2, 'reg_lambda': 1.9064875635499505, 'n_estimators': 300}. Best is trial 21 with value: 0.3840512363643157.\n"
     ]
    },
    {
     "name": "stdout",
     "output_type": "stream",
     "text": [
      "Walk-forward Results \n",
      "Mean Train RMSE 32.20469774527658\n",
      "Mean validation RMSE: 339.50551205493275\n",
      "Average r2 score 0.36063894108910055\n"
     ]
    },
    {
     "name": "stderr",
     "output_type": "stream",
     "text": [
      "[I 2025-06-14 12:32:07,313] Trial 23 finished with value: 0.38888784479407335 and parameters: {'eta': 0.31344491953418535, 'max_depth': 2, 'reg_lambda': 1.013122753085485, 'n_estimators': 330}. Best is trial 23 with value: 0.38888784479407335.\n"
     ]
    },
    {
     "name": "stdout",
     "output_type": "stream",
     "text": [
      "Walk-forward Results \n",
      "Mean Train RMSE 2.2466422943531117\n",
      "Mean validation RMSE: 343.79212663986743\n",
      "Average r2 score 0.38888784479407335\n"
     ]
    },
    {
     "name": "stderr",
     "output_type": "stream",
     "text": [
      "[I 2025-06-14 12:32:11,867] Trial 24 finished with value: 0.02918800820228178 and parameters: {'eta': 0.392345047658768, 'max_depth': 4, 'reg_lambda': 2.5850168286339215, 'n_estimators': 350}. Best is trial 23 with value: 0.38888784479407335.\n"
     ]
    },
    {
     "name": "stdout",
     "output_type": "stream",
     "text": [
      "Walk-forward Results \n",
      "Mean Train RMSE 1.6712156893144847\n",
      "Mean validation RMSE: 382.15733303962736\n",
      "Average r2 score 0.02918800820228178\n"
     ]
    },
    {
     "name": "stderr",
     "output_type": "stream",
     "text": [
      "[I 2025-06-14 12:32:15,934] Trial 25 finished with value: -0.01982874514100209 and parameters: {'eta': 0.2960391642335145, 'max_depth': 6, 'reg_lambda': 1.7463464252719871, 'n_estimators': 330}. Best is trial 23 with value: 0.38888784479407335.\n"
     ]
    },
    {
     "name": "stdout",
     "output_type": "stream",
     "text": [
      "Walk-forward Results \n",
      "Mean Train RMSE 1.3186650087340617\n",
      "Mean validation RMSE: 366.7494112688926\n",
      "Average r2 score -0.01982874514100209\n"
     ]
    },
    {
     "name": "stderr",
     "output_type": "stream",
     "text": [
      "[I 2025-06-14 12:32:19,599] Trial 26 finished with value: 0.3226827816145617 and parameters: {'eta': 0.12565625741876554, 'max_depth': 2, 'reg_lambda': 4.3340883781556645, 'n_estimators': 280}. Best is trial 23 with value: 0.38888784479407335.\n"
     ]
    },
    {
     "name": "stdout",
     "output_type": "stream",
     "text": [
      "Walk-forward Results \n",
      "Mean Train RMSE 22.512047679102313\n",
      "Mean validation RMSE: 343.54188817643893\n",
      "Average r2 score 0.3226827816145617\n"
     ]
    },
    {
     "name": "stderr",
     "output_type": "stream",
     "text": [
      "[I 2025-06-14 12:32:22,852] Trial 27 finished with value: 0.16347545169051586 and parameters: {'eta': 0.21924756302419174, 'max_depth': 4, 'reg_lambda': 1.6405323013762647, 'n_estimators': 250}. Best is trial 23 with value: 0.38888784479407335.\n"
     ]
    },
    {
     "name": "stdout",
     "output_type": "stream",
     "text": [
      "Walk-forward Results \n",
      "Mean Train RMSE 1.7778775387689627\n",
      "Mean validation RMSE: 351.60932735155967\n",
      "Average r2 score 0.16347545169051586\n"
     ]
    },
    {
     "name": "stderr",
     "output_type": "stream",
     "text": [
      "[I 2025-06-14 12:32:27,080] Trial 28 finished with value: -0.17072608085802127 and parameters: {'eta': 0.6342764596322183, 'max_depth': 8, 'reg_lambda': 2.7166907724641183, 'n_estimators': 400}. Best is trial 23 with value: 0.38888784479407335.\n"
     ]
    },
    {
     "name": "stdout",
     "output_type": "stream",
     "text": [
      "Walk-forward Results \n",
      "Mean Train RMSE 1.2569887662704482\n",
      "Mean validation RMSE: 411.2836212682819\n",
      "Average r2 score -0.17072608085802127\n"
     ]
    },
    {
     "name": "stderr",
     "output_type": "stream",
     "text": [
      "[I 2025-06-14 12:32:31,658] Trial 29 finished with value: 0.30487268360526065 and parameters: {'eta': 0.049334948844254704, 'max_depth': 2, 'reg_lambda': 3.7620446850097093, 'n_estimators': 360}. Best is trial 23 with value: 0.38888784479407335.\n"
     ]
    },
    {
     "name": "stdout",
     "output_type": "stream",
     "text": [
      "Walk-forward Results \n",
      "Mean Train RMSE 46.77299593085685\n",
      "Mean validation RMSE: 345.1994599599784\n",
      "Average r2 score 0.30487268360526065\n",
      "Best trial:\n",
      "  Value (mean R2): 0.38888784479407335\n",
      "  Params: {'eta': 0.31344491953418535, 'max_depth': 2, 'reg_lambda': 1.013122753085485, 'n_estimators': 330}\n"
     ]
    }
   ],
   "source": [
    "def xgb_val_r2(trial):\n",
    "    '''\n",
    "    Description:\n",
    "        Objective function for Optuna to optimize hyperparameters of an XGBoost model using\n",
    "        walk-forward validation. The evaluation metric is the average R² score across all validation windows.\n",
    "\n",
    "    Inputs:\n",
    "        trial (optuna.trial.Trial): A trial object representing a single evaluation of a set of hyperparameters.\n",
    "\n",
    "    Returns:\n",
    "        r2 (float): Average R² score from walk-forward validation using the current trial's parameters.\n",
    "\n",
    "    Notes:\n",
    "        - The function trains the model using the `model_train()` function, which applies\n",
    "          log transformation to the target and walk-forward validation.\n",
    "        - The best model (based on R²) is saved to disk in JSON format.\n",
    "        - Relevant metadata (R² score and file path) are stored as user attributes in the trial.\n",
    "    '''\n",
    "    #Creating space study\n",
    "    eta=trial.suggest_float(\"eta\",1e-3,9e-1,log=True) # Learning rate range\n",
    "    max_depth=trial.suggest_int(\"max_depth\",2,16,step=2) # Drop probability for layer 1\n",
    "    reg_lambda=trial.suggest_float(\"reg_lambda\",1,10) # Drop probability for layer 2\n",
    "    n_estimators=trial.suggest_int(\"n_estimators\",100,400,step=10)\n",
    "\n",
    "    #********************************** Model train and validation\n",
    "    #Call function for walk-forward validation\n",
    "    best_model=XGBRegressor(reg_lambda=reg_lambda,learning_rate=eta,n_estimators=n_estimators,max_depth=max_depth,random_state=42)\n",
    "    _,_,r2,best_model=model_train(model_data,best_model,time_window=26*7,time_step=7,val_size=30)\n",
    "\n",
    "    #Progress report\n",
    "    trial.report(r2,step=trial.number)\n",
    "    \n",
    "    #Tracking\n",
    "    trial.set_user_attr(\"r2_score\", r2)\n",
    "\n",
    "    #Save the best model\n",
    "    if len(trial.study.best_trials) == 0 or r2 > trial.study.best_value:\n",
    "        model_path = f\"xgb_allfeat_r2_best_model_trial_{trial.number}.json\"\n",
    "        best_model.save_model(model_path)\n",
    "        trial.set_user_attr(\"xgb_allfeat_r2_best_model_trial_\", model_path)\n",
    "\n",
    "    return r2\n",
    "\n",
    "    \n",
    "study=optuna.create_study(direction=\"maximize\")  #Creating study case to maximize accuracy\n",
    "\n",
    "#call the function to optimize\n",
    "study.optimize(xgb_val_r2, n_trials=30)\n",
    "\n",
    "# Get the best trial\n",
    "print(f\"Best trial:\")\n",
    "print(f\"  Value (mean R2): {study.best_value}\")\n",
    "print(f\"  Params: {study.best_params}\")\n",
    "\n",
    "# Loading the best model\n",
    "xgb_r2_allfeat_best_trial = study.best_trial\n",
    "xgb_r2_allfeat_model_path = xgb_r2_allfeat_best_trial.user_attrs[\"xgb_allfeat_r2_best_model_trial_\"]\n",
    "xgb_r2_allfeat_best_model = XGBRegressor()\n",
    "xgb_r2_allfeat_best_model.load_model(xgb_r2_allfeat_model_path)\n",
    "\n"
   ]
  },
  {
   "cell_type": "code",
   "execution_count": 21,
   "id": "5395c11c",
   "metadata": {},
   "outputs": [
    {
     "data": {
      "image/png": "[encoded data removed]",
      "text/plain": [
       "<Figure size 640x480 with 1 Axes>"
      ]
     },
     "metadata": {},
     "output_type": "display_data"
    }
   ],
   "source": [
    "# Refit final model on full training data\n",
    "X_train_val=train_val_data.drop(\"Cases_Agg\",axis=\"columns\")\n",
    "y_train_val=train_val_data.Cases_Agg\n",
    "y_train_val_log=np.log1p(y_train_val)\n",
    "xgb_scaler=MinMaxScaler()\n",
    "X_train_val_scaled=xgb_scaler.fit_transform(X_train_val)\n",
    "\n",
    "final_model = XGBRegressor(**study.best_params, random_state=42)\n",
    "final_model.fit(X_train_val_scaled, y_train_val_log)\n",
    "\n",
    "#Plotting feature importance\n",
    "plt.bar(x=X_train_val.columns,height=final_model.feature_importances_);\n",
    "plt.xticks(rotation=90,fontsize=8);"
   ]
  },
  {
   "cell_type": "markdown",
   "id": "403f8a9b",
   "metadata": {},
   "source": [
    "## Light GBM implementation with default parameters"
   ]
  },
  {
   "cell_type": "code",
   "execution_count": 22,
   "id": "2457085c",
   "metadata": {},
   "outputs": [
    {
     "name": "stdout",
     "output_type": "stream",
     "text": [
      "Walk-forward Results \n",
      "Mean Train RMSE 37.473393406233065\n",
      "Mean validation RMSE: 369.58712791813537\n",
      "Mean R2 0.13549190388812862\n"
     ]
    },
    {
     "data": {
      "image/png": "[encoded data removed]",
      "text/plain": [
       "<Figure size 640x480 with 1 Axes>"
      ]
     },
     "metadata": {},
     "output_type": "display_data"
    }
   ],
   "source": [
    "def lgbm_train(in_data,model,time_window=26*7,time_step=7,val_size=30):\n",
    "    '''   \n",
    "    Description:\n",
    "        Validates a time series forecasting model LGBM using walk-forward validation.\n",
    "        During each iteration, the model is trained on a rolling time window and validated on the following window.\n",
    "        RMSE and R² scores are computed for each step to evaluate performance.\n",
    "\n",
    "    Inputs:\n",
    "        in_data (DataFrame): Full input dataset containing features and the target variable `Cases_Agg`.\n",
    "        model (Regressor): An instantiated XGBRegressor \n",
    "        time_window (int): Number of time steps to use for each training window.\n",
    "        time_step (int): Step size for shifting the time window in each iteration.\n",
    "        val_size (int): Number of time steps to reserve for validation in each iteration.\n",
    "\n",
    "    Returns:\n",
    "        avg_val_loss (float): Average validation RMSE across all walk-forward iterations.\n",
    "        lgb_results (DataFrame): DataFrame with training and validation RMSEs per iteration.\n",
    "        model (Regressor): The model fitted on the final iteration of the walk-forward process.\n",
    "        avg_r2 (float): Average R² score across all validation windows.\n",
    "\n",
    "    Note:\n",
    "        - The returned model is only trained on the **last time window**, not the entire dataset.\n",
    "        - The target variable is log-transformed during training for stability, and errors are computed on the original scale.\n",
    "    '''\n",
    "\n",
    "    train_val_data=in_data.loc[:int(0.8*len(in_data)),:]\n",
    "\n",
    "    #********************** Walk forward train and validation\n",
    "    n_steps=int((len(train_val_data)-time_window)/time_step)\n",
    "\n",
    "    #List to store train loss and validation loss\n",
    "    train_loss=[]\n",
    "    val_loss=[]\n",
    "    scaler_list=[]\n",
    "    r2_list=[]\n",
    "\n",
    "    lgb_results=pd.DataFrame(columns=[\"train_loss\",\"val_loss\",\"test_loss\"])\n",
    "\n",
    "    for step in range(n_steps):\n",
    "        #set moving start and end positions for train and validation set\n",
    "        train_start=step\n",
    "        train_end=train_start+time_window\n",
    "\n",
    "        if train_end + val_size + time_step > len(train_val_data): # Avoid index error at the end\n",
    "            break  \n",
    "\n",
    "        #Data split into train and validation\n",
    "        train_data=train_val_data.loc[train_start:train_end,:]\n",
    "        X_train=train_data.drop(\"Cases_Agg\",axis=\"columns\")\n",
    "        y_train=train_data.Cases_Agg\n",
    "        y_train_log=np.log1p(y_train)\n",
    "\n",
    "        val_data=train_val_data.loc[train_end+1 : train_end+1+val_size,:]\n",
    "        X_val=val_data.drop(\"Cases_Agg\",axis=\"columns\")\n",
    "        y_val=val_data.Cases_Agg\n",
    "\n",
    "        #Scaling data\n",
    "        scaler=MinMaxScaler()\n",
    "        X_train_scaled=scaler.fit_transform(X_train)\n",
    "        X_val_scaled=scaler.transform(X_val)\n",
    "        X_train_scaled = pd.DataFrame(X_train_scaled, columns=X_train.columns)\n",
    "        X_val_scaled = pd.DataFrame(X_val_scaled, columns=X_val.columns)\n",
    "        scaler_list.append(scaler)\n",
    "\n",
    "        #train Loss compute\n",
    "        model.fit(X_train_scaled,y_train_log)\n",
    "        train_pred=model.predict(X_train_scaled)\n",
    "        train_portion_loss=root_mean_squared_error(y_train,np.expm1(train_pred))\n",
    "        train_loss.append(train_portion_loss)\n",
    "\n",
    "        #Validation Loss compute\n",
    "        val_pred=model.predict(X_val_scaled)\n",
    "        val_portion_loss=root_mean_squared_error(y_val,np.expm1(val_pred))\n",
    "        val_loss.append(val_portion_loss)\n",
    "        #R2 compute\n",
    "        r2_list.append(r2_score(y_val,np.expm1(val_pred)))\n",
    "\n",
    "    #************************* Printing validation\n",
    "    avg_train_loss=sum(train_loss)/len(train_loss)\n",
    "    avg_val_loss=sum(val_loss)/len(val_loss)\n",
    "    avg_r2=sum(r2_list)/len(r2_list)\n",
    "    print(f\"Walk-forward Results \\nMean Train RMSE {avg_train_loss}\\nMean validation RMSE: {avg_val_loss}\")\n",
    "    print(f\"Mean R2 {avg_r2}\")\n",
    "    \n",
    "    #Dataframe to store results\n",
    "    lgb_results[\"train_loss\"]=train_loss\n",
    "    lgb_results[\"val_loss\"]=val_loss\n",
    "\n",
    "    return avg_val_loss,lgb_results,model,avg_r2\n",
    "\n",
    "model_data=compiled_data.copy() #Compiled data used to model purposes\n",
    "lgbm_model=LGBMRegressor(verbosity=-1)  #Terminar de ajustar modelo\n",
    "\n",
    "_,lgb_results,_,_=lgbm_train(model_data,lgbm_model,time_window=26*7,time_step=7,val_size=30)\n",
    "\n",
    "lgb_results[[\"train_loss\",\"val_loss\"]].plot(kind=\"bar\")\n",
    "plt.title(\"Train and validation loss\")\n",
    "plt.xticks(list(range(0,len(lgb_results),4)),[str(tick) for tick in list(range(0,len(lgb_results),4))]);"
   ]
  },
  {
   "cell_type": "markdown",
   "id": "5e3f1414",
   "metadata": {},
   "source": [
    "# LGB Optuna implementation"
   ]
  },
  {
   "cell_type": "code",
   "execution_count": 23,
   "id": "f7ae5b32",
   "metadata": {},
   "outputs": [
    {
     "name": "stderr",
     "output_type": "stream",
     "text": [
      "[I 2025-06-14 12:32:33,953] A new study created in memory with name: no-name-f2332eea-304e-4f3d-a358-06bb12f3bc7d\n",
      "[I 2025-06-14 12:32:43,883] Trial 0 finished with value: 0.18624356774835746 and parameters: {'n_estimators': 1000, 'learning_rate': 0.044846966488524945, 'max_depth': 12, 'num_leaves': 400, 'reg_lambda': 0.004454724303472291}. Best is trial 0 with value: 0.18624356774835746.\n"
     ]
    },
    {
     "name": "stdout",
     "output_type": "stream",
     "text": [
      "Walk-forward Results \n",
      "Mean Train RMSE 3.530137500996459\n",
      "Mean validation RMSE: 368.57726586684106\n",
      "Mean R2 0.18624356774835746\n"
     ]
    },
    {
     "name": "stderr",
     "output_type": "stream",
     "text": [
      "[I 2025-06-14 12:32:52,973] Trial 1 finished with value: -0.0821473550844832 and parameters: {'n_estimators': 1000, 'learning_rate': 0.002283992908838707, 'max_depth': 12, 'num_leaves': 240, 'reg_lambda': 0.06329530685951275}. Best is trial 0 with value: 0.18624356774835746.\n"
     ]
    },
    {
     "name": "stdout",
     "output_type": "stream",
     "text": [
      "Walk-forward Results \n",
      "Mean Train RMSE 160.99408019289768\n",
      "Mean validation RMSE: 383.2376158607127\n",
      "Mean R2 -0.0821473550844832\n"
     ]
    },
    {
     "name": "stderr",
     "output_type": "stream",
     "text": [
      "[I 2025-06-14 12:32:55,884] Trial 2 finished with value: -1.331543331867763 and parameters: {'n_estimators': 300, 'learning_rate': 0.0013777367869976876, 'max_depth': 12, 'num_leaves': 32, 'reg_lambda': 0.0011798944715147657}. Best is trial 0 with value: 0.18624356774835746.\n"
     ]
    },
    {
     "name": "stdout",
     "output_type": "stream",
     "text": [
      "Walk-forward Results \n",
      "Mean Train RMSE 545.9022493793115\n",
      "Mean validation RMSE: 664.067011393132\n",
      "Mean R2 -1.331543331867763\n"
     ]
    },
    {
     "name": "stderr",
     "output_type": "stream",
     "text": [
      "[I 2025-06-14 12:32:57,931] Trial 3 finished with value: -0.16671704254678704 and parameters: {'n_estimators': 200, 'learning_rate': 0.008795486943971375, 'max_depth': 7, 'num_leaves': 32, 'reg_lambda': 0.14534725517180974}. Best is trial 0 with value: 0.18624356774835746.\n"
     ]
    },
    {
     "name": "stdout",
     "output_type": "stream",
     "text": [
      "Walk-forward Results \n",
      "Mean Train RMSE 215.0085286880975\n",
      "Mean validation RMSE: 409.29425334925486\n",
      "Mean R2 -0.16671704254678704\n"
     ]
    },
    {
     "name": "stderr",
     "output_type": "stream",
     "text": [
      "[I 2025-06-14 12:33:06,267] Trial 4 finished with value: -0.3086822452506659 and parameters: {'n_estimators': 1000, 'learning_rate': 0.0013054337661695158, 'max_depth': 15, 'num_leaves': 176, 'reg_lambda': 0.030143054844318857}. Best is trial 0 with value: 0.18624356774835746.\n"
     ]
    },
    {
     "name": "stdout",
     "output_type": "stream",
     "text": [
      "Walk-forward Results \n",
      "Mean Train RMSE 285.884476189558\n",
      "Mean validation RMSE: 451.80755005055676\n",
      "Mean R2 -0.3086822452506659\n"
     ]
    },
    {
     "name": "stderr",
     "output_type": "stream",
     "text": [
      "[I 2025-06-14 12:33:14,626] Trial 5 finished with value: 0.04688103130820882 and parameters: {'n_estimators': 900, 'learning_rate': 0.00699304572106789, 'max_depth': 8, 'num_leaves': 464, 'reg_lambda': 0.3222051914432}. Best is trial 0 with value: 0.18624356774835746.\n"
     ]
    },
    {
     "name": "stdout",
     "output_type": "stream",
     "text": [
      "Walk-forward Results \n",
      "Mean Train RMSE 59.97504572281603\n",
      "Mean validation RMSE: 380.7416837327542\n",
      "Mean R2 0.04688103130820882\n"
     ]
    },
    {
     "name": "stderr",
     "output_type": "stream",
     "text": [
      "[I 2025-06-14 12:33:15,907] Trial 6 finished with value: -2.1228130852542293 and parameters: {'n_estimators': 100, 'learning_rate': 0.0015205030578681468, 'max_depth': 10, 'num_leaves': 432, 'reg_lambda': 0.025758285079721346}. Best is trial 0 with value: 0.18624356774835746.\n"
     ]
    },
    {
     "name": "stdout",
     "output_type": "stream",
     "text": [
      "Walk-forward Results \n",
      "Mean Train RMSE 670.6295485623026\n",
      "Mean validation RMSE: 786.7132594140254\n",
      "Mean R2 -2.1228130852542293\n"
     ]
    },
    {
     "name": "stderr",
     "output_type": "stream",
     "text": [
      "[I 2025-06-14 12:33:23,731] Trial 7 finished with value: 0.07918986448571337 and parameters: {'n_estimators': 700, 'learning_rate': 0.013737130205143689, 'max_depth': 5, 'num_leaves': 320, 'reg_lambda': 0.8497829285153377}. Best is trial 0 with value: 0.18624356774835746.\n"
     ]
    },
    {
     "name": "stdout",
     "output_type": "stream",
     "text": [
      "Walk-forward Results \n",
      "Mean Train RMSE 43.17735159719773\n",
      "Mean validation RMSE: 380.009685954478\n",
      "Mean R2 0.07918986448571337\n"
     ]
    },
    {
     "name": "stderr",
     "output_type": "stream",
     "text": [
      "[I 2025-06-14 12:33:39,140] Trial 8 finished with value: 0.17297513467175205 and parameters: {'n_estimators': 1000, 'learning_rate': 0.05246524459108162, 'max_depth': 11, 'num_leaves': 176, 'reg_lambda': 0.18188625486564572}. Best is trial 0 with value: 0.18624356774835746.\n"
     ]
    },
    {
     "name": "stdout",
     "output_type": "stream",
     "text": [
      "Walk-forward Results \n",
      "Mean Train RMSE 2.5476137952559283\n",
      "Mean validation RMSE: 371.27856765546136\n",
      "Mean R2 0.17297513467175205\n"
     ]
    },
    {
     "name": "stderr",
     "output_type": "stream",
     "text": [
      "[I 2025-06-14 12:33:44,060] Trial 9 finished with value: -0.8751092992832527 and parameters: {'n_estimators': 400, 'learning_rate': 0.0020645956653372872, 'max_depth': 5, 'num_leaves': 208, 'reg_lambda': 2.7030922438244236}. Best is trial 0 with value: 0.18624356774835746.\n"
     ]
    },
    {
     "name": "stdout",
     "output_type": "stream",
     "text": [
      "Walk-forward Results \n",
      "Mean Train RMSE 426.09187956855203\n",
      "Mean validation RMSE: 570.1385908311306\n",
      "Mean R2 -0.8751092992832527\n"
     ]
    },
    {
     "name": "stderr",
     "output_type": "stream",
     "text": [
      "[I 2025-06-14 12:33:53,247] Trial 10 finished with value: 0.2786929036349727 and parameters: {'n_estimators': 700, 'learning_rate': 0.2165779766321112, 'max_depth': 16, 'num_leaves': 352, 'reg_lambda': 0.0016146455947070087}. Best is trial 10 with value: 0.2786929036349727.\n"
     ]
    },
    {
     "name": "stdout",
     "output_type": "stream",
     "text": [
      "Walk-forward Results \n",
      "Mean Train RMSE 0.09505850188240483\n",
      "Mean validation RMSE: 363.4195344125704\n",
      "Mean R2 0.2786929036349727\n"
     ]
    },
    {
     "name": "stderr",
     "output_type": "stream",
     "text": [
      "[I 2025-06-14 12:34:05,732] Trial 11 finished with value: 0.2202532376333521 and parameters: {'n_estimators': 700, 'learning_rate': 0.29580090980906143, 'max_depth': 16, 'num_leaves': 352, 'reg_lambda': 0.0011231322398193386}. Best is trial 10 with value: 0.2786929036349727.\n"
     ]
    },
    {
     "name": "stdout",
     "output_type": "stream",
     "text": [
      "Walk-forward Results \n",
      "Mean Train RMSE 0.0207617709704593\n",
      "Mean validation RMSE: 372.6191899425268\n",
      "Mean R2 0.2202532376333521\n"
     ]
    },
    {
     "name": "stderr",
     "output_type": "stream",
     "text": [
      "[I 2025-06-14 12:34:17,491] Trial 12 finished with value: 0.27023031838541917 and parameters: {'n_estimators': 700, 'learning_rate': 0.28257226798774443, 'max_depth': 16, 'num_leaves': 336, 'reg_lambda': 0.0011869455884485744}. Best is trial 10 with value: 0.2786929036349727.\n"
     ]
    },
    {
     "name": "stdout",
     "output_type": "stream",
     "text": [
      "Walk-forward Results \n",
      "Mean Train RMSE 0.027052624153874858\n",
      "Mean validation RMSE: 369.75140223315464\n",
      "Mean R2 0.27023031838541917\n"
     ]
    },
    {
     "name": "stderr",
     "output_type": "stream",
     "text": [
      "[I 2025-06-14 12:34:27,892] Trial 13 finished with value: 0.27594166381251567 and parameters: {'n_estimators': 600, 'learning_rate': 0.20506871402460047, 'max_depth': 14, 'num_leaves': 512, 'reg_lambda': 0.006931115105070901}. Best is trial 10 with value: 0.2786929036349727.\n"
     ]
    },
    {
     "name": "stdout",
     "output_type": "stream",
     "text": [
      "Walk-forward Results \n",
      "Mean Train RMSE 0.20316566797268473\n",
      "Mean validation RMSE: 360.7934262508896\n",
      "Mean R2 0.27594166381251567\n"
     ]
    },
    {
     "name": "stderr",
     "output_type": "stream",
     "text": [
      "[I 2025-06-14 12:34:34,583] Trial 14 finished with value: 0.17724472352778428 and parameters: {'n_estimators': 500, 'learning_rate': 0.10518244755900867, 'max_depth': 14, 'num_leaves': 496, 'reg_lambda': 0.0058113228287593865}. Best is trial 10 with value: 0.2786929036349727.\n"
     ]
    },
    {
     "name": "stdout",
     "output_type": "stream",
     "text": [
      "Walk-forward Results \n",
      "Mean Train RMSE 2.4255391334093552\n",
      "Mean validation RMSE: 369.23742716933907\n",
      "Mean R2 0.17724472352778428\n"
     ]
    },
    {
     "name": "stderr",
     "output_type": "stream",
     "text": [
      "[I 2025-06-14 12:34:42,834] Trial 15 finished with value: 0.21420787491693827 and parameters: {'n_estimators': 600, 'learning_rate': 0.11398119561015063, 'max_depth': 14, 'num_leaves': 512, 'reg_lambda': 0.006990219055710634}. Best is trial 10 with value: 0.2786929036349727.\n"
     ]
    },
    {
     "name": "stdout",
     "output_type": "stream",
     "text": [
      "Walk-forward Results \n",
      "Mean Train RMSE 1.2876823336617362\n",
      "Mean validation RMSE: 364.7086797061733\n",
      "Mean R2 0.21420787491693827\n"
     ]
    },
    {
     "name": "stderr",
     "output_type": "stream",
     "text": [
      "[I 2025-06-14 12:34:54,060] Trial 16 finished with value: 0.23105418400039388 and parameters: {'n_estimators': 800, 'learning_rate': 0.13009700125809187, 'max_depth': 14, 'num_leaves': 400, 'reg_lambda': 0.015682812586974276}. Best is trial 10 with value: 0.2786929036349727.\n"
     ]
    },
    {
     "name": "stdout",
     "output_type": "stream",
     "text": [
      "Walk-forward Results \n",
      "Mean Train RMSE 0.3837536552482754\n",
      "Mean validation RMSE: 363.55300675122913\n",
      "Mean R2 0.23105418400039388\n"
     ]
    },
    {
     "name": "stderr",
     "output_type": "stream",
     "text": [
      "[I 2025-06-14 12:35:00,430] Trial 17 finished with value: 0.17211765284964647 and parameters: {'n_estimators': 500, 'learning_rate': 0.035335401307739045, 'max_depth': 16, 'num_leaves': 112, 'reg_lambda': 0.003347481221021137}. Best is trial 10 with value: 0.2786929036349727.\n"
     ]
    },
    {
     "name": "stdout",
     "output_type": "stream",
     "text": [
      "Walk-forward Results \n",
      "Mean Train RMSE 18.56957821052297\n",
      "Mean validation RMSE: 368.4124542697932\n",
      "Mean R2 0.17211765284964647\n"
     ]
    },
    {
     "name": "stderr",
     "output_type": "stream",
     "text": [
      "[I 2025-06-14 12:35:11,262] Trial 18 finished with value: 0.24656174094099406 and parameters: {'n_estimators': 600, 'learning_rate': 0.18138639355391445, 'max_depth': 13, 'num_leaves': 288, 'reg_lambda': 0.010688053772709434}. Best is trial 10 with value: 0.2786929036349727.\n"
     ]
    },
    {
     "name": "stdout",
     "output_type": "stream",
     "text": [
      "Walk-forward Results \n",
      "Mean Train RMSE 0.3282354751573114\n",
      "Mean validation RMSE: 363.4025675326139\n",
      "Mean R2 0.24656174094099406\n"
     ]
    },
    {
     "name": "stderr",
     "output_type": "stream",
     "text": [
      "[I 2025-06-14 12:35:26,806] Trial 19 finished with value: 0.19028363662507808 and parameters: {'n_estimators': 800, 'learning_rate': 0.07496248747132545, 'max_depth': 9, 'num_leaves': 384, 'reg_lambda': 0.002603247519694847}. Best is trial 10 with value: 0.2786929036349727.\n"
     ]
    },
    {
     "name": "stdout",
     "output_type": "stream",
     "text": [
      "Walk-forward Results \n",
      "Mean Train RMSE 1.8249530811160282\n",
      "Mean validation RMSE: 368.6317263998085\n",
      "Mean R2 0.19028363662507808\n"
     ]
    },
    {
     "name": "stderr",
     "output_type": "stream",
     "text": [
      "[I 2025-06-14 12:35:34,225] Trial 20 finished with value: 0.11645578152194312 and parameters: {'n_estimators': 400, 'learning_rate': 0.02435381661285882, 'max_depth': 15, 'num_leaves': 464, 'reg_lambda': 0.05338819327193965}. Best is trial 10 with value: 0.2786929036349727.\n"
     ]
    },
    {
     "name": "stdout",
     "output_type": "stream",
     "text": [
      "Walk-forward Results \n",
      "Mean Train RMSE 38.62833579069204\n",
      "Mean validation RMSE: 374.2217859505965\n",
      "Mean R2 0.11645578152194312\n"
     ]
    },
    {
     "name": "stderr",
     "output_type": "stream",
     "text": [
      "[I 2025-06-14 12:35:45,833] Trial 21 finished with value: 0.25957434257104717 and parameters: {'n_estimators': 700, 'learning_rate': 0.2637568672158997, 'max_depth': 16, 'num_leaves': 288, 'reg_lambda': 0.0018441899652649224}. Best is trial 10 with value: 0.2786929036349727.\n"
     ]
    },
    {
     "name": "stdout",
     "output_type": "stream",
     "text": [
      "Walk-forward Results \n",
      "Mean Train RMSE 0.03971262333018177\n",
      "Mean validation RMSE: 370.12599822220324\n",
      "Mean R2 0.25957434257104717\n"
     ]
    },
    {
     "name": "stderr",
     "output_type": "stream",
     "text": [
      "[I 2025-06-14 12:35:55,504] Trial 22 finished with value: 0.3300108796812617 and parameters: {'n_estimators': 800, 'learning_rate': 0.18218924692912986, 'max_depth': 3, 'num_leaves': 336, 'reg_lambda': 0.002262383356708199}. Best is trial 22 with value: 0.3300108796812617.\n"
     ]
    },
    {
     "name": "stdout",
     "output_type": "stream",
     "text": [
      "Walk-forward Results \n",
      "Mean Train RMSE 0.7233735001787478\n",
      "Mean validation RMSE: 354.3473885321156\n",
      "Mean R2 0.3300108796812617\n"
     ]
    },
    {
     "name": "stderr",
     "output_type": "stream",
     "text": [
      "[I 2025-06-14 12:36:07,003] Trial 23 finished with value: 0.23559657062420672 and parameters: {'n_estimators': 800, 'learning_rate': 0.17549180051623386, 'max_depth': 4, 'num_leaves': 368, 'reg_lambda': 0.012577114203504908}. Best is trial 22 with value: 0.3300108796812617.\n"
     ]
    },
    {
     "name": "stdout",
     "output_type": "stream",
     "text": [
      "Walk-forward Results \n",
      "Mean Train RMSE 0.24424295631565338\n",
      "Mean validation RMSE: 361.6635404094191\n",
      "Mean R2 0.23559657062420672\n"
     ]
    },
    {
     "name": "stderr",
     "output_type": "stream",
     "text": [
      "[I 2025-06-14 12:36:13,529] Trial 24 finished with value: 0.2776070550032583 and parameters: {'n_estimators': 600, 'learning_rate': 0.15783359841447617, 'max_depth': 3, 'num_leaves': 448, 'reg_lambda': 0.0024896240514773894}. Best is trial 22 with value: 0.3300108796812617.\n"
     ]
    },
    {
     "name": "stdout",
     "output_type": "stream",
     "text": [
      "Walk-forward Results \n",
      "Mean Train RMSE 2.5166771636970853\n",
      "Mean validation RMSE: 356.74812506173276\n",
      "Mean R2 0.2776070550032583\n"
     ]
    },
    {
     "name": "stderr",
     "output_type": "stream",
     "text": [
      "[I 2025-06-14 12:36:25,117] Trial 25 finished with value: 0.26506121854453446 and parameters: {'n_estimators': 900, 'learning_rate': 0.06419310967859658, 'max_depth': 3, 'num_leaves': 432, 'reg_lambda': 6.453008183524989}. Best is trial 22 with value: 0.3300108796812617.\n"
     ]
    },
    {
     "name": "stdout",
     "output_type": "stream",
     "text": [
      "Walk-forward Results \n",
      "Mean Train RMSE 10.933332683768741\n",
      "Mean validation RMSE: 368.5107946027618\n",
      "Mean R2 0.26506121854453446\n"
     ]
    },
    {
     "name": "stderr",
     "output_type": "stream",
     "text": [
      "[I 2025-06-14 12:36:41,544] Trial 26 finished with value: 0.20507476826441795 and parameters: {'n_estimators': 800, 'learning_rate': 0.10070972518141091, 'max_depth': 6, 'num_leaves': 304, 'reg_lambda': 0.0024231804197858754}. Best is trial 22 with value: 0.3300108796812617.\n"
     ]
    },
    {
     "name": "stdout",
     "output_type": "stream",
     "text": [
      "Walk-forward Results \n",
      "Mean Train RMSE 0.8186903812197002\n",
      "Mean validation RMSE: 364.6547577265228\n",
      "Mean R2 0.20507476826441795\n"
     ]
    },
    {
     "name": "stderr",
     "output_type": "stream",
     "text": [
      "[I 2025-06-14 12:36:50,154] Trial 27 finished with value: 0.22218339247819632 and parameters: {'n_estimators': 500, 'learning_rate': 0.026905148481562998, 'max_depth': 3, 'num_leaves': 432, 'reg_lambda': 0.0033489622253175077}. Best is trial 22 with value: 0.3300108796812617.\n"
     ]
    },
    {
     "name": "stdout",
     "output_type": "stream",
     "text": [
      "Walk-forward Results \n",
      "Mean Train RMSE 44.66812784967906\n",
      "Mean validation RMSE: 365.3426312272259\n",
      "Mean R2 0.22218339247819632\n"
     ]
    },
    {
     "name": "stderr",
     "output_type": "stream",
     "text": [
      "[I 2025-06-14 12:37:04,283] Trial 28 finished with value: 0.2135432309442051 and parameters: {'n_estimators': 900, 'learning_rate': 0.07901574202286699, 'max_depth': 4, 'num_leaves': 256, 'reg_lambda': 0.0019487074013502153}. Best is trial 22 with value: 0.3300108796812617.\n"
     ]
    },
    {
     "name": "stdout",
     "output_type": "stream",
     "text": [
      "Walk-forward Results \n",
      "Mean Train RMSE 2.2708030281523848\n",
      "Mean validation RMSE: 365.0044565689336\n",
      "Mean R2 0.2135432309442051\n"
     ]
    },
    {
     "name": "stderr",
     "output_type": "stream",
     "text": [
      "[I 2025-06-14 12:37:17,473] Trial 29 finished with value: 0.18042829619158102 and parameters: {'n_estimators': 600, 'learning_rate': 0.04380258238022521, 'max_depth': 7, 'num_leaves': 352, 'reg_lambda': 0.004474246494689233}. Best is trial 22 with value: 0.3300108796812617.\n"
     ]
    },
    {
     "name": "stdout",
     "output_type": "stream",
     "text": [
      "Walk-forward Results \n",
      "Mean Train RMSE 9.861971499465387\n",
      "Mean validation RMSE: 369.81020438966016\n",
      "Mean R2 0.18042829619158102\n",
      "Best trial:\n",
      "  Value (mean R2): 0.3300108796812617\n",
      "  Params: {'n_estimators': 800, 'learning_rate': 0.18218924692912986, 'max_depth': 3, 'num_leaves': 336, 'reg_lambda': 0.002262383356708199}\n"
     ]
    },
    {
     "data": {
      "text/plain": [
       "<lightgbm.basic.Booster at 0x18e4f1fb350>"
      ]
     },
     "execution_count": 23,
     "metadata": {},
     "output_type": "execute_result"
    }
   ],
   "source": [
    "def lgbm_val_r2(trial):\n",
    "    '''\n",
    "    Description:\n",
    "        Objective function for Optuna to optimize hyperparameters of an LGBM model using\n",
    "        walk-forward validation. The evaluation metric is the average R² score across all validation windows.\n",
    "\n",
    "    Inputs:\n",
    "        trial (optuna.trial.Trial): A trial object representing a single evaluation of a set of hyperparameters.\n",
    "\n",
    "    Returns:\n",
    "        r2 (float): Average R² score from walk-forward validation using the current trial's parameters.\n",
    "\n",
    "    Notes:\n",
    "        - The function trains the model using the `lgbm_train()` function, which applies\n",
    "          log transformation to the target and walk-forward validation.\n",
    "        - The best model (based on R²) is saved to disk in JSON format.\n",
    "        - Relevant metadata (R² score and file path) are stored as user attributes in the trial.\n",
    "    '''\n",
    "    #Creating space study\n",
    "    param = {\n",
    "        \"objective\": \"regression\",\n",
    "        \"metric\": \"rmse\",\n",
    "        \"n_estimators\": trial.suggest_int(\"n_estimators\", 100, 1000, step=100),\n",
    "        \"learning_rate\": trial.suggest_float(\"learning_rate\", 1e-3, 0.3, log=True),\n",
    "        \"max_depth\": trial.suggest_int(\"max_depth\", 3, 16),\n",
    "        \"num_leaves\": trial.suggest_int(\"num_leaves\", 16, 512, step=16),\n",
    "        \"reg_lambda\": trial.suggest_float(\"reg_lambda\", 1e-3, 10.0, log=True)\n",
    "    }\n",
    "\n",
    "    #********************************** Model train and validation\n",
    "    #Call function for walk-forward validation\n",
    "    best_model=LGBMRegressor(**param,random_state=42,verbosity=-1)\n",
    "    _,_,fitted_model,r2=lgbm_train(model_data,best_model,time_window=26*7,time_step=7,val_size=30)\n",
    "\n",
    "    #Progress report\n",
    "    trial.report(r2,step=trial.number)\n",
    "    \n",
    "    #Tracking\n",
    "    trial.set_user_attr(\"r2_score\", r2)\n",
    "\n",
    "    #Save the best model\n",
    "    if len(trial.study.best_trials) == 0 or r2 > trial.study.best_value:\n",
    "        model_path = f\"lgbm_best_r2_model_trial_{trial.number}.txt\"\n",
    "        booster = fitted_model.booster_\n",
    "        booster.save_model(model_path)\n",
    "        trial.set_user_attr(\"lgbm_r2_model_path\", model_path)\n",
    "\n",
    "    return r2\n",
    "\n",
    "    \n",
    "study=optuna.create_study(direction=\"maximize\")  #Creating study case to maximize accuracy\n",
    "\n",
    "#call the function to optimize\n",
    "study.optimize(lgbm_val_r2, n_trials=30)\n",
    "\n",
    "# Get the best trial\n",
    "print(f\"Best trial:\")\n",
    "print(f\"  Value (mean R2): {study.best_value}\")\n",
    "print(f\"  Params: {study.best_params}\")\n",
    "\n",
    "# Loading the best model\n",
    "lgbm_model_path = study.best_trial.user_attrs[\"lgbm_r2_model_path\"]\n",
    "booster = lightgbm.Booster(model_file=lgbm_model_path)\n",
    "\n",
    "# Create an LGBMRegressor and assign booster\n",
    "lgbm_best_model = LGBMRegressor()\n",
    "lgbm_best_model._Booster = booster\n",
    "booster.free_dataset()"
   ]
  },
  {
   "cell_type": "markdown",
   "id": "f225194f",
   "metadata": {},
   "source": [
    "## Selected model cleaning\n",
    "\n",
    "* XGB exhibit best performance during initial Optuna's implementation, and is selected as the model to deploy\n",
    "* Only lagged COVID-19 cases are kept as relevant features according to the model's feature importance"
   ]
  },
  {
   "cell_type": "code",
   "execution_count": 25,
   "id": "28e899ee",
   "metadata": {},
   "outputs": [
    {
     "name": "stderr",
     "output_type": "stream",
     "text": [
      "[I 2025-06-14 12:39:11,238] A new study created in memory with name: no-name-dd794d4f-dbd0-406e-8a3b-4c2125ebeac5\n",
      "[I 2025-06-14 12:39:17,921] Trial 0 finished with value: 0.7249865772058203 and parameters: {'eta': 0.20887476723321313, 'max_depth': 4, 'reg_lambda': 4.327204874028441, 'n_estimators': 370}. Best is trial 0 with value: 0.7249865772058203.\n"
     ]
    },
    {
     "name": "stdout",
     "output_type": "stream",
     "text": [
      "Walk-forward Results \n",
      "Mean Train RMSE 3.8784008718174205\n",
      "Mean validation RMSE: 241.5705676603895\n",
      "Average r2 score 0.7249865772058203\n"
     ]
    },
    {
     "name": "stderr",
     "output_type": "stream",
     "text": [
      "[I 2025-06-14 12:39:25,797] Trial 1 finished with value: 0.7039336049398106 and parameters: {'eta': 0.2921837510253027, 'max_depth': 16, 'reg_lambda': 7.481924238885497, 'n_estimators': 320}. Best is trial 0 with value: 0.7249865772058203.\n"
     ]
    },
    {
     "name": "stdout",
     "output_type": "stream",
     "text": [
      "Walk-forward Results \n",
      "Mean Train RMSE 2.539738998463119\n",
      "Mean validation RMSE: 257.7228835500805\n",
      "Average r2 score 0.7039336049398106\n"
     ]
    },
    {
     "name": "stderr",
     "output_type": "stream",
     "text": [
      "[I 2025-06-14 12:39:30,988] Trial 2 finished with value: -1.4039684323626218 and parameters: {'eta': 0.002391849964774622, 'max_depth': 6, 'reg_lambda': 7.667875538342689, 'n_estimators': 160}. Best is trial 0 with value: 0.7249865772058203.\n"
     ]
    },
    {
     "name": "stdout",
     "output_type": "stream",
     "text": [
      "Walk-forward Results \n",
      "Mean Train RMSE 575.8014465537218\n",
      "Mean validation RMSE: 687.3625934331948\n",
      "Average r2 score -1.4039684323626218\n"
     ]
    },
    {
     "name": "stderr",
     "output_type": "stream",
     "text": [
      "[I 2025-06-14 12:39:43,127] Trial 3 finished with value: 0.6922919586177235 and parameters: {'eta': 0.03031148827219657, 'max_depth': 6, 'reg_lambda': 9.757463114367711, 'n_estimators': 330}. Best is trial 0 with value: 0.7249865772058203.\n"
     ]
    },
    {
     "name": "stdout",
     "output_type": "stream",
     "text": [
      "Walk-forward Results \n",
      "Mean Train RMSE 36.23182133999792\n",
      "Mean validation RMSE: 257.509727113065\n",
      "Average r2 score 0.6922919586177235\n"
     ]
    },
    {
     "name": "stderr",
     "output_type": "stream",
     "text": [
      "[I 2025-06-14 12:39:46,816] Trial 4 finished with value: 0.6627493721579157 and parameters: {'eta': 0.6904209033811737, 'max_depth': 10, 'reg_lambda': 3.058231049275621, 'n_estimators': 260}. Best is trial 0 with value: 0.7249865772058203.\n"
     ]
    },
    {
     "name": "stdout",
     "output_type": "stream",
     "text": [
      "Walk-forward Results \n",
      "Mean Train RMSE 2.0325138875752193\n",
      "Mean validation RMSE: 281.9076573430039\n",
      "Average r2 score 0.6627493721579157\n"
     ]
    },
    {
     "name": "stderr",
     "output_type": "stream",
     "text": [
      "[I 2025-06-14 12:39:54,828] Trial 5 finished with value: 0.7160437935849662 and parameters: {'eta': 0.09472609717790544, 'max_depth': 4, 'reg_lambda': 5.244240906733742, 'n_estimators': 320}. Best is trial 0 with value: 0.7249865772058203.\n"
     ]
    },
    {
     "name": "stdout",
     "output_type": "stream",
     "text": [
      "Walk-forward Results \n",
      "Mean Train RMSE 13.054609056946322\n",
      "Mean validation RMSE: 244.22459924364716\n",
      "Average r2 score 0.7160437935849662\n"
     ]
    },
    {
     "name": "stderr",
     "output_type": "stream",
     "text": [
      "[I 2025-06-14 12:40:04,142] Trial 6 finished with value: 0.7091726385418953 and parameters: {'eta': 0.19598727910134042, 'max_depth': 14, 'reg_lambda': 8.370750471221474, 'n_estimators': 260}. Best is trial 0 with value: 0.7249865772058203.\n"
     ]
    },
    {
     "name": "stdout",
     "output_type": "stream",
     "text": [
      "Walk-forward Results \n",
      "Mean Train RMSE 2.6750775108776805\n",
      "Mean validation RMSE: 253.20843151638323\n",
      "Average r2 score 0.7091726385418953\n"
     ]
    },
    {
     "name": "stderr",
     "output_type": "stream",
     "text": [
      "[I 2025-06-14 12:40:18,262] Trial 7 finished with value: 0.572384917381004 and parameters: {'eta': 0.010789689466905047, 'max_depth': 10, 'reg_lambda': 5.309559206471806, 'n_estimators': 280}. Best is trial 0 with value: 0.7249865772058203.\n"
     ]
    },
    {
     "name": "stdout",
     "output_type": "stream",
     "text": [
      "Walk-forward Results \n",
      "Mean Train RMSE 121.93156219208008\n",
      "Mean validation RMSE: 290.8488774075232\n",
      "Average r2 score 0.572384917381004\n"
     ]
    },
    {
     "name": "stderr",
     "output_type": "stream",
     "text": [
      "[I 2025-06-14 12:40:26,172] Trial 8 finished with value: -1.1782677163600876 and parameters: {'eta': 0.0022076636647605846, 'max_depth': 16, 'reg_lambda': 5.934499689366851, 'n_estimators': 210}. Best is trial 0 with value: 0.7249865772058203.\n"
     ]
    },
    {
     "name": "stdout",
     "output_type": "stream",
     "text": [
      "Walk-forward Results \n",
      "Mean Train RMSE 539.1998188109297\n",
      "Mean validation RMSE: 650.7332438805639\n",
      "Average r2 score -1.1782677163600876\n"
     ]
    },
    {
     "name": "stderr",
     "output_type": "stream",
     "text": [
      "[I 2025-06-14 12:40:41,139] Trial 9 finished with value: 0.7092273580027912 and parameters: {'eta': 0.058090598939648776, 'max_depth': 16, 'reg_lambda': 3.355993721902762, 'n_estimators': 170}. Best is trial 0 with value: 0.7249865772058203.\n"
     ]
    },
    {
     "name": "stdout",
     "output_type": "stream",
     "text": [
      "Walk-forward Results \n",
      "Mean Train RMSE 6.059938927239724\n",
      "Mean validation RMSE: 250.5486590024138\n",
      "Average r2 score 0.7092273580027912\n"
     ]
    },
    {
     "name": "stderr",
     "output_type": "stream",
     "text": [
      "[I 2025-06-14 12:40:46,903] Trial 10 finished with value: 0.7255436454313701 and parameters: {'eta': 0.8783055450105376, 'max_depth': 2, 'reg_lambda': 1.3231250047209793, 'n_estimators': 380}. Best is trial 10 with value: 0.7255436454313701.\n"
     ]
    },
    {
     "name": "stdout",
     "output_type": "stream",
     "text": [
      "Walk-forward Results \n",
      "Mean Train RMSE 2.9014421566454334\n",
      "Mean validation RMSE: 269.95576305047234\n",
      "Average r2 score 0.7255436454313701\n"
     ]
    },
    {
     "name": "stderr",
     "output_type": "stream",
     "text": [
      "[I 2025-06-14 12:40:55,586] Trial 11 finished with value: 0.7401765637721843 and parameters: {'eta': 0.8434209481256053, 'max_depth': 2, 'reg_lambda': 1.2314460879494793, 'n_estimators': 400}. Best is trial 11 with value: 0.7401765637721843.\n"
     ]
    },
    {
     "name": "stdout",
     "output_type": "stream",
     "text": [
      "Walk-forward Results \n",
      "Mean Train RMSE 2.900308900863899\n",
      "Mean validation RMSE: 266.8141048196292\n",
      "Average r2 score 0.7401765637721843\n"
     ]
    },
    {
     "name": "stderr",
     "output_type": "stream",
     "text": [
      "[I 2025-06-14 12:41:03,951] Trial 12 finished with value: 0.7164194614661035 and parameters: {'eta': 0.8735717263895009, 'max_depth': 2, 'reg_lambda': 1.009265406611581, 'n_estimators': 400}. Best is trial 11 with value: 0.7401765637721843.\n"
     ]
    },
    {
     "name": "stdout",
     "output_type": "stream",
     "text": [
      "Walk-forward Results \n",
      "Mean Train RMSE 2.7500454856632786\n",
      "Mean validation RMSE: 274.07022447403466\n",
      "Average r2 score 0.7164194614661035\n"
     ]
    },
    {
     "name": "stderr",
     "output_type": "stream",
     "text": [
      "[I 2025-06-14 12:41:06,854] Trial 13 finished with value: 0.7377771656686246 and parameters: {'eta': 0.526233543828717, 'max_depth': 2, 'reg_lambda': 1.0598878315736018, 'n_estimators': 100}. Best is trial 11 with value: 0.7401765637721843.\n"
     ]
    },
    {
     "name": "stdout",
     "output_type": "stream",
     "text": [
      "Walk-forward Results \n",
      "Mean Train RMSE 36.38990905544646\n",
      "Mean validation RMSE: 253.84360729709778\n",
      "Average r2 score 0.7377771656686246\n"
     ]
    },
    {
     "name": "stderr",
     "output_type": "stream",
     "text": [
      "[I 2025-06-14 12:41:12,848] Trial 14 finished with value: 0.01956524730368203 and parameters: {'eta': 0.011479270500742968, 'max_depth': 6, 'reg_lambda': 2.332355126552662, 'n_estimators': 100}. Best is trial 11 with value: 0.7401765637721843.\n"
     ]
    },
    {
     "name": "stdout",
     "output_type": "stream",
     "text": [
      "Walk-forward Results \n",
      "Mean Train RMSE 311.9972952488039\n",
      "Mean validation RMSE: 428.30426550519707\n",
      "Average r2 score 0.01956524730368203\n"
     ]
    },
    {
     "name": "stderr",
     "output_type": "stream",
     "text": [
      "[I 2025-06-14 12:41:16,509] Trial 15 finished with value: 0.7604991071292334 and parameters: {'eta': 0.3904169786984959, 'max_depth': 2, 'reg_lambda': 2.215624076287895, 'n_estimators': 130}. Best is trial 15 with value: 0.7604991071292334.\n"
     ]
    },
    {
     "name": "stdout",
     "output_type": "stream",
     "text": [
      "Walk-forward Results \n",
      "Mean Train RMSE 42.704876965635165\n",
      "Mean validation RMSE: 239.6687128463032\n",
      "Average r2 score 0.7604991071292334\n"
     ]
    },
    {
     "name": "stderr",
     "output_type": "stream",
     "text": [
      "[I 2025-06-14 12:41:26,408] Trial 16 finished with value: 0.718789389061265 and parameters: {'eta': 0.1265921090941984, 'max_depth': 8, 'reg_lambda': 2.334892941741955, 'n_estimators': 210}. Best is trial 15 with value: 0.7604991071292334.\n"
     ]
    },
    {
     "name": "stdout",
     "output_type": "stream",
     "text": [
      "Walk-forward Results \n",
      "Mean Train RMSE 2.0900632238674945\n",
      "Mean validation RMSE: 244.7028010292777\n",
      "Average r2 score 0.718789389061265\n"
     ]
    },
    {
     "name": "stderr",
     "output_type": "stream",
     "text": [
      "[I 2025-06-14 12:41:31,972] Trial 17 finished with value: 0.7157261948729577 and parameters: {'eta': 0.44729036348187073, 'max_depth': 4, 'reg_lambda': 3.703248104402097, 'n_estimators': 160}. Best is trial 15 with value: 0.7604991071292334.\n"
     ]
    },
    {
     "name": "stdout",
     "output_type": "stream",
     "text": [
      "Walk-forward Results \n",
      "Mean Train RMSE 3.2299706657449825\n",
      "Mean validation RMSE: 254.05026676400038\n",
      "Average r2 score 0.7157261948729577\n"
     ]
    },
    {
     "name": "stderr",
     "output_type": "stream",
     "text": [
      "[I 2025-06-14 12:41:57,345] Trial 18 finished with value: 0.7146441250904287 and parameters: {'eta': 0.04798131949931417, 'max_depth': 12, 'reg_lambda': 2.2782818593899647, 'n_estimators': 210}. Best is trial 15 with value: 0.7604991071292334.\n"
     ]
    },
    {
     "name": "stdout",
     "output_type": "stream",
     "text": [
      "Walk-forward Results \n",
      "Mean Train RMSE 3.224899187062969\n",
      "Mean validation RMSE: 244.0065810341386\n",
      "Average r2 score 0.7146441250904287\n"
     ]
    },
    {
     "name": "stderr",
     "output_type": "stream",
     "text": [
      "[I 2025-06-14 12:42:08,613] Trial 19 finished with value: 0.08515879157793994 and parameters: {'eta': 0.009913609906327253, 'max_depth': 8, 'reg_lambda': 4.3398713159351425, 'n_estimators': 140}. Best is trial 15 with value: 0.7604991071292334.\n"
     ]
    },
    {
     "name": "stdout",
     "output_type": "stream",
     "text": [
      "Walk-forward Results \n",
      "Mean Train RMSE 282.5358773298983\n",
      "Mean validation RMSE: 411.9629169016147\n",
      "Average r2 score 0.08515879157793994\n"
     ]
    },
    {
     "name": "stderr",
     "output_type": "stream",
     "text": [
      "[I 2025-06-14 12:42:17,327] Trial 20 finished with value: 0.7241444082741013 and parameters: {'eta': 0.32012436671864336, 'max_depth': 4, 'reg_lambda': 2.3171143014152005, 'n_estimators': 350}. Best is trial 15 with value: 0.7604991071292334.\n"
     ]
    },
    {
     "name": "stdout",
     "output_type": "stream",
     "text": [
      "Walk-forward Results \n",
      "Mean Train RMSE 3.3740971360657777\n",
      "Mean validation RMSE: 243.32626902706434\n",
      "Average r2 score 0.7241444082741013\n"
     ]
    },
    {
     "name": "stderr",
     "output_type": "stream",
     "text": [
      "[I 2025-06-14 12:42:20,756] Trial 21 finished with value: 0.758697039580924 and parameters: {'eta': 0.44393019390089666, 'max_depth': 2, 'reg_lambda': 1.4770130134538262, 'n_estimators': 100}. Best is trial 15 with value: 0.7604991071292334.\n"
     ]
    },
    {
     "name": "stdout",
     "output_type": "stream",
     "text": [
      "Walk-forward Results \n",
      "Mean Train RMSE 45.603360263094245\n",
      "Mean validation RMSE: 244.51122736680168\n",
      "Average r2 score 0.758697039580924\n"
     ]
    },
    {
     "name": "stderr",
     "output_type": "stream",
     "text": [
      "[I 2025-06-14 12:42:24,847] Trial 22 finished with value: 0.7697247583254044 and parameters: {'eta': 0.1577662741683241, 'max_depth': 2, 'reg_lambda': 1.759756636378806, 'n_estimators': 130}. Best is trial 22 with value: 0.7697247583254044.\n"
     ]
    },
    {
     "name": "stdout",
     "output_type": "stream",
     "text": [
      "Walk-forward Results \n",
      "Mean Train RMSE 83.68641156529652\n",
      "Mean validation RMSE: 226.38769664586937\n",
      "Average r2 score 0.7697247583254044\n"
     ]
    },
    {
     "name": "stderr",
     "output_type": "stream",
     "text": [
      "[I 2025-06-14 12:42:28,517] Trial 23 finished with value: 0.7652200322185579 and parameters: {'eta': 0.13731387373824053, 'max_depth': 2, 'reg_lambda': 1.999923045517435, 'n_estimators': 130}. Best is trial 22 with value: 0.7697247583254044.\n"
     ]
    },
    {
     "name": "stdout",
     "output_type": "stream",
     "text": [
      "Walk-forward Results \n",
      "Mean Train RMSE 89.50029377049461\n",
      "Mean validation RMSE: 228.63194468387672\n",
      "Average r2 score 0.7652200322185579\n"
     ]
    },
    {
     "name": "stderr",
     "output_type": "stream",
     "text": [
      "[I 2025-06-14 12:42:33,475] Trial 24 finished with value: 0.7220692869210203 and parameters: {'eta': 0.11648802189905808, 'max_depth': 4, 'reg_lambda': 2.9945113422250564, 'n_estimators': 130}. Best is trial 22 with value: 0.7697247583254044.\n"
     ]
    },
    {
     "name": "stdout",
     "output_type": "stream",
     "text": [
      "Walk-forward Results \n",
      "Mean Train RMSE 29.49749800548256\n",
      "Mean validation RMSE: 241.24942334560254\n",
      "Average r2 score 0.7220692869210203\n"
     ]
    },
    {
     "name": "stderr",
     "output_type": "stream",
     "text": [
      "[I 2025-06-14 12:42:39,313] Trial 25 finished with value: 0.7013832358138039 and parameters: {'eta': 0.06692784556168017, 'max_depth': 6, 'reg_lambda': 4.026273890074236, 'n_estimators': 130}. Best is trial 22 with value: 0.7697247583254044.\n"
     ]
    },
    {
     "name": "stdout",
     "output_type": "stream",
     "text": [
      "Walk-forward Results \n",
      "Mean Train RMSE 19.46448734381661\n",
      "Mean validation RMSE: 253.4231511374054\n",
      "Average r2 score 0.7013832358138039\n"
     ]
    },
    {
     "name": "stderr",
     "output_type": "stream",
     "text": [
      "[I 2025-06-14 12:42:42,832] Trial 26 finished with value: 0.7688848056468442 and parameters: {'eta': 0.16689503001963207, 'max_depth': 2, 'reg_lambda': 2.0312907430733276, 'n_estimators': 190}. Best is trial 22 with value: 0.7697247583254044.\n"
     ]
    },
    {
     "name": "stdout",
     "output_type": "stream",
     "text": [
      "Walk-forward Results \n",
      "Mean Train RMSE 64.48530428337853\n",
      "Mean validation RMSE: 225.17667031338453\n",
      "Average r2 score 0.7688848056468442\n"
     ]
    },
    {
     "name": "stderr",
     "output_type": "stream",
     "text": [
      "[I 2025-06-14 12:42:48,009] Trial 27 finished with value: 0.7072421786510954 and parameters: {'eta': 0.027678749197051385, 'max_depth': 4, 'reg_lambda': 1.7414375041283414, 'n_estimators': 190}. Best is trial 22 with value: 0.7697247583254044.\n"
     ]
    },
    {
     "name": "stdout",
     "output_type": "stream",
     "text": [
      "Walk-forward Results \n",
      "Mean Train RMSE 63.488430779165384\n",
      "Mean validation RMSE: 238.2273276408301\n",
      "Average r2 score 0.7072421786510954\n"
     ]
    },
    {
     "name": "stderr",
     "output_type": "stream",
     "text": [
      "[I 2025-06-14 12:42:53,236] Trial 28 finished with value: 0.764750390549379 and parameters: {'eta': 0.1659323693944932, 'max_depth': 2, 'reg_lambda': 2.901076208917776, 'n_estimators': 230}. Best is trial 22 with value: 0.7697247583254044.\n"
     ]
    },
    {
     "name": "stdout",
     "output_type": "stream",
     "text": [
      "Walk-forward Results \n",
      "Mean Train RMSE 59.24837943032471\n",
      "Mean validation RMSE: 228.31680908860494\n",
      "Average r2 score 0.764750390549379\n"
     ]
    },
    {
     "name": "stderr",
     "output_type": "stream",
     "text": [
      "[I 2025-06-14 12:42:56,770] Trial 29 finished with value: 0.709783685281397 and parameters: {'eta': 0.25442305486759165, 'max_depth': 8, 'reg_lambda': 4.1081000250781186, 'n_estimators': 180}. Best is trial 22 with value: 0.7697247583254044.\n"
     ]
    },
    {
     "name": "stdout",
     "output_type": "stream",
     "text": [
      "Walk-forward Results \n",
      "Mean Train RMSE 2.382359780580209\n",
      "Mean validation RMSE: 250.37355453080593\n",
      "Average r2 score 0.709783685281397\n",
      "Best trial:\n",
      "  Value (mean R2): 0.7697247583254044\n",
      "  Params: {'eta': 0.1577662741683241, 'max_depth': 2, 'reg_lambda': 1.759756636378806, 'n_estimators': 130}\n"
     ]
    }
   ],
   "source": [
    "model_data=compiled_data[[\"Cases_lag3\",\"Cases_lag4\",\"Cases_lag5\",\"Cases_lag6\",\"Cases_lag7\",\"Cases_lag8\",\"Cases_Agg\"]]\n",
    "\n",
    "study=optuna.create_study(direction=\"maximize\")  #Creating study case to maximize accuracy\n",
    "\n",
    "#call the function to optimize\n",
    "study.optimize(xgb_val_r2, n_trials=30)\n",
    "\n",
    "# Get the best trial\n",
    "print(f\"Best trial:\")\n",
    "print(f\"  Value (mean R2): {study.best_value}\")\n",
    "print(f\"  Params: {study.best_params}\")\n",
    "\n",
    "# Loading the best model\n",
    "xgb_r2_best_trial = study.best_trial\n",
    "xgb_r2_model_path = xgb_r2_best_trial.user_attrs[\"xgb_allfeat_r2_best_model_trial_\"]\n",
    "xgb_r2_best_model = XGBRegressor()\n",
    "xgb_r2_best_model.load_model(xgb_r2_model_path)"
   ]
  },
  {
   "cell_type": "code",
   "execution_count": 39,
   "id": "3cc03101",
   "metadata": {},
   "outputs": [
    {
     "data": {
      "text/plain": [
       "Text(0.5, 1.0, 'Comparison between prediction and observation in train_validation set')"
      ]
     },
     "execution_count": 39,
     "metadata": {},
     "output_type": "execute_result"
    },
    {
     "data": {
      "image/png": "[encoded data removed]",
      "text/plain": [
       "<Figure size 640x480 with 1 Axes>"
      ]
     },
     "metadata": {},
     "output_type": "display_data"
    }
   ],
   "source": [
    "# Refit final model on full training data\n",
    "X_train_val=train_val_data[[\"Cases_lag3\",\"Cases_lag4\",\"Cases_lag5\",\"Cases_lag6\",\"Cases_lag7\",\"Cases_lag8\"]]\n",
    "y_train_val=train_val_data.Cases_Agg\n",
    "y_train_val_log=np.log1p(y_train_val)\n",
    "xgb_scaler=MinMaxScaler()\n",
    "X_train_val_scaled=xgb_scaler.fit_transform(X_train_val)\n",
    "joblib.dump(xgb_scaler, 'scaler.gz') #Dumping the scaler for future deployment\n",
    "\n",
    "final_model = XGBRegressor(**study.best_params, random_state=42)\n",
    "final_model.fit(X_train_val_scaled, y_train_val_log)\n",
    "final_model.save_model('xgb_final_model.json') #Saving the final model\n",
    "\n",
    "y_pred=final_model.predict(X_train_val_scaled)\n",
    "plt.scatter(y_train_val,np.expm1(y_pred))\n",
    "plt.xlabel(\"y_ture\")\n",
    "plt.ylabel(\"y_pred\")\n",
    "plt.title(\"Comparison between prediction and observation in train_validation set\")"
   ]
  },
  {
   "cell_type": "markdown",
   "id": "a9336120",
   "metadata": {},
   "source": [
    "# Model testing\n",
    "\n",
    "Highlights:\n",
    "* The final model was tested, achieving an r2 score of 0.68 on unseen data.\n",
    "* Residuals showed a central tendency close to zero, with most prediction errors falling within a ±20% margin.\n",
    "* The model demonstrated stronger performance during periods of non-peak COVID-19 cases. Its accuracy during peak conditions could likely be improved by incorporating additional training data or engineered features to better capture extreme variations.\n",
    "* Residuals show a distribution centered around zero, with nearly all normalized residuals falling between -2 and 2. This indicates a lack of extreme outliers. Residual dispersion tends to increase with higher case counts, a known challenge in epidemic forecasting due to the unpredictable nature of peaks\n"
   ]
  },
  {
   "cell_type": "markdown",
   "id": "f0e87a53",
   "metadata": {},
   "source": [
    "## XGB Test\n",
    "\n"
   ]
  },
  {
   "cell_type": "code",
   "execution_count": 37,
   "id": "558285be",
   "metadata": {},
   "outputs": [
    {
     "name": "stdout",
     "output_type": "stream",
     "text": [
      "Test RMSE 66.9921\n",
      "Test R2 0.7761\n"
     ]
    },
    {
     "data": {
      "image/png": "[encoded data removed]",
      "text/plain": [
       "<Figure size 1500x500 with 3 Axes>"
      ]
     },
     "metadata": {},
     "output_type": "display_data"
    }
   ],
   "source": [
    "def model_test(scaler,test_data,model):\n",
    "      '''\n",
    "      Description:\n",
    "        Evaluates a pretrained regression model on a test dataset using RMSE and r2 metrics.\n",
    "        Applies the same scaler used during training and visualizes prediction quality and residuals.\n",
    "\n",
    "      Inputs:\n",
    "        scaler (sklearn.preprocessing object): The MinMaxScaler (or similar) fitted on the training data.\n",
    "        test_data (DataFrame): DataFrame containing input features and the target variable `Cases_Agg`.\n",
    "        model (Regressor): Trained regression model (e.g., XGBRegressor or LGBMRegressor).\n",
    "\n",
    "      Returns:\n",
    "        results (DataFrame): DataFrame with the following columns:\n",
    "            - y_true: Actual target values from the test set.\n",
    "            - y_pred: Model predictions (converted back from log scale).\n",
    "            - residual: Difference between prediction and actual.\n",
    "            - relative_residual: Residual expressed as a percentage of the true value.\n",
    "\n",
    "      Notes:\n",
    "        - Predictions are assumed to be made on log-transformed targets, and are inverse-transformed using `np.expm1()`.\n",
    "        - Three diagnostic plots are shown: predictions vs. actuals, residuals vs. actuals, and histogram of relative residuals.\n",
    "      '''\n",
    "      # ****************** Getting X and y data for test set\n",
    "      X_test=test_data.drop(\"Cases_Agg\",axis=\"columns\")\n",
    "      y_test=test_data.Cases_Agg\n",
    "\n",
    "      # Scaling data using train and validation sets\n",
    "      X_test_scaled=scaler.transform(X_test)\n",
    "\n",
    "      # ******************** Test set evaluation \n",
    "      # test predicition and RMSE calculation\n",
    "      test_pred=model.predict(X_test_scaled)\n",
    "      test_loss=root_mean_squared_error(y_test,np.expm1(test_pred))\n",
    "      r2=r2_score(y_test,np.expm1(test_pred))\n",
    "\n",
    "      # ******************** Plotting validations\n",
    "      results=pd.DataFrame({\"y_true\":y_test,\"y_pred\":np.expm1(test_pred)})\n",
    "      results[\"residual\"]=results.y_pred-results.y_true\n",
    "      results[\"relative_residual\"]=results.residual/results.y_true\n",
    "\n",
    "\n",
    "      fig,axs=plt.subplots(1,3,figsize=(15,5))\n",
    "      plt.tight_layout(w_pad=3)\n",
    "      #Scatter plot\n",
    "      results[[\"y_true\",\"y_pred\"]].plot(kind=\"scatter\",x=\"y_true\",y=\"y_pred\",ax=axs[0])\n",
    "      axs[0].set_title(\"Observation vs prediction\")\n",
    "\n",
    "      #Residual\n",
    "      axs[1].scatter(results.y_true,(results.residual-results.residual.mean())/(results.residual.std()))\n",
    "      axs[1].axhline(y=0,color=\"black\",linestyle=\"--\")\n",
    "      axs[1].set_ylabel(\"Normalized residual\")\n",
    "      axs[1].set_title(\"Residual Plot\")\n",
    "\n",
    "      #Normalized residual histogram\n",
    "      results[[\"relative_residual\"]].plot(kind=\"hist\",ax=axs[2])\n",
    "      axs[2].set_title(\"Residual Histogram\")\n",
    "\n",
    "      print(f\"Test RMSE {test_loss:.4f}\")\n",
    "      print(f\"Test R2 {r2:.4f}\")\n",
    "\n",
    "      return results\n",
    "\n",
    "model_data=compiled_data[[\"Cases_lag3\",\"Cases_lag4\",\"Cases_lag5\",\"Cases_lag6\",\"Cases_lag7\",\"Cases_lag8\",\"Cases_Agg\"]]\n",
    "test_data=model_data.loc[int(0.8*len(train_val_data))+1:,:]\n",
    "results=model_test(xgb_scaler,test_data,final_model)"
   ]
  }
 ],
 "metadata": {
  "kernelspec": {
   "display_name": "Python 3",
   "language": "python",
   "name": "python3"
  },
  "language_info": {
   "codemirror_mode": {
    "name": "ipython",
    "version": 3
   },
   "file_extension": ".py",
   "mimetype": "text/x-python",
   "name": "python",
   "nbconvert_exporter": "python",
   "pygments_lexer": "ipython3",
   "version": "3.13.2"
  }
 },
 "nbformat": 4,
 "nbformat_minor": 5
}
